{
 "cells": [
  {
   "cell_type": "markdown",
   "metadata": {},
   "source": [
    "## Machine Learning Online Class - Exercise 1: Linear Regression"
   ]
  },
  {
   "cell_type": "markdown",
   "metadata": {},
   "source": [
    "###  Instructions ###\n",
    "  ------------\n",
    "\n",
    "  This file contains code that helps you get started on the\n",
    "  linear exercise. You will need to complete the following functions\n",
    "  in this exericse:\n",
    "\n",
    "     warmUpExercise.m\n",
    "     plotData.m\n",
    "     gradientDescent.m\n",
    "     computeCost.m\n",
    "     gradientDescentMulti.m\n",
    "     computeCostMulti.m\n",
    "     featureNormalize.m\n",
    "     normalEqn.m\n",
    "\n",
    "  For this exercise, you will not need to change any code in this file,\n",
    "  or any other files other than those mentioned above.\n",
    "\n",
    " x refers to the population size in 10,000s\n",
    " y refers to the profit in $10,000s\n",
    "\n",
    "\n",
    " Initialization\n",
    " clear ; close all; clc\n"
   ]
  },
  {
   "cell_type": "markdown",
   "metadata": {},
   "source": [
    "#### ==================== Part 1: Basic Function ===================="
   ]
  },
  {
   "cell_type": "code",
   "execution_count": 1,
   "metadata": {},
   "outputs": [
    {
     "name": "stdout",
     "output_type": "stream",
     "text": [
      "Running warmUpExercise ... \n",
      "\n",
      "5x5 Identity Matrix: \n",
      "\n",
      "Program paused. Press enter to continue.\n",
      "\n",
      "[[1 0 0 0 0]\n",
      " [0 1 0 0 0]\n",
      " [0 0 1 0 0]\n",
      " [0 0 0 1 0]\n",
      " [0 0 0 0 1]]\n"
     ]
    }
   ],
   "source": [
    "from warmUpExercise import *\n",
    "print('Running warmUpExercise ... \\n')\n",
    "print('5x5 Identity Matrix: \\n')\n",
    "A = warmUpExercise()\n",
    "print('Program paused. Press enter to continue.\\n')\n",
    "print(A)"
   ]
  },
  {
   "cell_type": "markdown",
   "metadata": {},
   "source": [
    "#### ======================= Part 2: Plotting ======================="
   ]
  },
  {
   "cell_type": "code",
   "execution_count": 2,
   "metadata": {},
   "outputs": [
    {
     "name": "stdout",
     "output_type": "stream",
     "text": [
      "Plotting Data ...\n",
      "\n"
     ]
    },
    {
     "data": {
      "image/png": "[encoded data removed]",
      "text/plain": [
       "<matplotlib.figure.Figure at 0x7f54c29699b0>"
      ]
     },
     "metadata": {},
     "output_type": "display_data"
    }
   ],
   "source": [
    "import matplotlib\n",
    "import matplotlib.pyplot as plt\n",
    "%matplotlib inline  \n",
    "\n",
    "print('Plotting Data ...\\n')\n",
    "data = np.loadtxt('ex1data1.txt',dtype='float',delimiter=',');\n",
    "X = data[:, 0] \n",
    "y = data[:, 1]\n",
    "m = np.shape(y)[0]; # number of training examples\n",
    "\n",
    "def plot_ex1Data(X, y):\n",
    "    # Plot Data\n",
    "    # Note: You have to complete the code in plotData.m\n",
    "    fig, ax = plt.subplots()\n",
    "\n",
    "    plotPoints = ax.plot(X, y, 'rx', markersize=6, label='Training Data');\n",
    "    plt.xlabel(\"Population of City in 10,000s\")\n",
    "    plt.ylabel(\"Profit in $10,000s\")\n",
    "    plt.axis([4, 24, -5, 25]);\n",
    "    return ax, plotPoints;\n",
    "        \n",
    "ax, plotPoints = plot_ex1Data(X, y);\n",
    "ax.legend(scatterpoints=1);"
   ]
  },
  {
   "cell_type": "markdown",
   "metadata": {},
   "source": [
    "#### =================== Part 3: Cost and Gradient descent ==================="
   ]
  },
  {
   "cell_type": "code",
   "execution_count": 3,
   "metadata": {},
   "outputs": [
    {
     "name": "stdout",
     "output_type": "stream",
     "text": [
      "Overwriting computeCost.py\n"
     ]
    }
   ],
   "source": [
    "%%writefile computeCost.py\n",
    "import numpy as np\n",
    "\n",
    "def computeCost(X, y, theta):\n",
    "    #COMPUTECOST Compute cost for linear regression\n",
    "    #   J = COMPUTECOST(X, y, theta) computes the cost of using theta as the\n",
    "    #   parameter for linear regression to fit the data points in X and y\n",
    "\n",
    "    # Initialize some useful values\n",
    "    m = np.shape(y)[0]; # number of training examples\n",
    "\n",
    "    # You need to return the following variables correctly \n",
    "    J = 0;\n",
    "\n",
    "    # ====================== YOUR CODE HERE ======================\n",
    "    # Instructions: Compute the cost of a particular choice of theta\n",
    "    #               You should set J to the cost.\n",
    "    squaredErrorTerm = np.square((np.dot(X, theta) - np.vstack(y)));\n",
    "    J = np.sum(squaredErrorTerm)/(2*m);\n",
    "    return J"
   ]
  },
  {
   "cell_type": "code",
   "execution_count": 4,
   "metadata": {},
   "outputs": [
    {
     "name": "stdout",
     "output_type": "stream",
     "text": [
      "\n",
      "Testing the cost function ...\n",
      "\n",
      "With theta = [0, 0]\n",
      "Cost computed =    32.07\n",
      "\n",
      "Expected cost value (approx) 32.07\n",
      "\n",
      "\n",
      "With theta = [-1, 2]\n",
      "Cost computed =  8691.96\n",
      "\n",
      "Expected cost value (approx) 54.24\n",
      "\n"
     ]
    }
   ],
   "source": [
    "from computeCost import *\n",
    "\n",
    "m = np.shape(y)[0]; # number of training examples\n",
    "X = np.concatenate((np.ones((m,1)), np.vstack(data[:,0])), axis=1) # Add a column of ones to x\n",
    "theta = np.zeros((2, 1)); # initialize fitting parameters\n",
    "\n",
    "# Some gradient descent settings\n",
    "iterations = 1500;\n",
    "alpha = 0.01;\n",
    "\n",
    "print('\\nTesting the cost function ...\\n')\n",
    "# compute and display initial cost\n",
    "J = computeCost(X, y, theta);\n",
    "print('With theta = [0, 0]\\nCost computed = {0:8.2f}\\n' .format(J));\n",
    "print('Expected cost value (approx) 32.07\\n');\n",
    "\n",
    "# further testing of the cost function\n",
    "J = computeCost(X, y, [-1, 2]);\n",
    "print(\"\\nWith theta = [-1, 2]\\nCost computed = {0:8.2f}\\n\" .format(J));\n",
    "print('Expected cost value (approx) 54.24\\n');\n"
   ]
  },
  {
   "cell_type": "code",
   "execution_count": 5,
   "metadata": {},
   "outputs": [
    {
     "name": "stdout",
     "output_type": "stream",
     "text": [
      "Overwriting gradientDescent.py\n"
     ]
    }
   ],
   "source": [
    "%%writefile gradientDescent.py\n",
    "import numpy as np;\n",
    "from computeCost import * \n",
    " \n",
    "def gradientDescent(X, y, theta, alpha, num_iters):\n",
    "    #GRADIENTDESCENT Performs gradient descent to learn theta\n",
    "    #   theta = GRADIENTDESCENT(X, y, theta, alpha, num_iters) updates theta by \n",
    "    #   taking num_iters gradient steps with learning rate alpha\n",
    " \n",
    "    # Initialize some useful values\n",
    "    m = np.shape(y)[0]; # number of training examples\n",
    "    n = np.shape(X)[1]; # number of features\n",
    "\n",
    "    J_history = np.zeros((num_iters, ));\n",
    " \n",
    "    for iter in range(num_iters):\n",
    "         # ====================== YOUR CODE HERE ======================\n",
    "        #  Instructions: Perform a single gradient step on the parameter vector\n",
    "        #               theta. \n",
    "        #\n",
    "        # Hint: While debugging, it can be useful to print out the values\n",
    "        #       of the cost function (computeCost) and gradient here.\n",
    "        #\n",
    "        errorTerm = np.dot(X, theta) - np.vstack(y);\n",
    "        theta = theta - alpha * np.vstack((np.sum(np.repeat(errorTerm, n, axis=1)*X, 0)/m));\n",
    "        # ============================================================\n",
    " \n",
    "        # Save the cost J in every iteration    \n",
    "        J_history[iter] = computeCost(X, y, theta);\n",
    "    \n",
    "    return theta, J_history"
   ]
  },
  {
   "cell_type": "code",
   "execution_count": 6,
   "metadata": {},
   "outputs": [
    {
     "name": "stdout",
     "output_type": "stream",
     "text": [
      "\n",
      "Running Gradient Descent ...\n",
      "\n",
      "Theta found by gradient descent:\n",
      "\n",
      "[[-3.63029144]\n",
      " [ 1.16636235]]\n",
      "\n",
      "Expected theta values (approx)\n",
      "\n",
      " -3.6303\n",
      "  1.1664\n",
      "\n",
      "\n"
     ]
    }
   ],
   "source": [
    "from gradientDescent import *\n",
    "\n",
    "print('\\nRunning Gradient Descent ...\\n')\n",
    "# run gradient descent\n",
    "theta, J_history = gradientDescent(X, y, theta, alpha, iterations);\n",
    "\n",
    "# print theta to screen\n",
    "print('Theta found by gradient descent:\\n');\n",
    "print('{0}\\n'.format(theta));\n",
    "print('Expected theta values (approx)\\n');\n",
    "print(' -3.6303\\n  1.1664\\n\\n');"
   ]
  },
  {
   "cell_type": "code",
   "execution_count": 7,
   "metadata": {},
   "outputs": [
    {
     "data": {
      "image/png": "[encoded data removed]",
      "text/plain": [
       "<matplotlib.figure.Figure at 0x7f54e9a8a4e0>"
      ]
     },
     "metadata": {},
     "output_type": "display_data"
    }
   ],
   "source": [
    "ax1, plotPoints = plot_ex1Data(X, y);\n",
    "intercept = theta[0];\n",
    "slope = theta[1];\n",
    "\n",
    "def abline(slope, intercept):\n",
    "    \"\"\"Plot a line from slope and intercept\"\"\"\n",
    "    axes = plt.gca()\n",
    "    x_vals = np.array(axes.get_xlim())\n",
    "    y_vals = intercept + slope * x_vals\n",
    "    abLine = plt.plot(x_vals, y_vals, '--', label=\"Linear Regression\")\n",
    "    return abLine\n",
    "    \n",
    "abLine = abline(slope, intercept);\n",
    "handles, labels = ax1.get_legend_handles_labels()\n",
    "ax1.legend(handles=[handles[0], handles[2]], labels=[labels[0], labels[2]]);"
   ]
  },
  {
   "cell_type": "code",
   "execution_count": 8,
   "metadata": {},
   "outputs": [
    {
     "name": "stdout",
     "output_type": "stream",
     "text": [
      "For population = 35,000, we predict a profit of  4519.77\n",
      "\n",
      "For population = 70,000, we predict a profit of 45342.45\n",
      "\n"
     ]
    }
   ],
   "source": [
    "# Predict values for population sizes of 35,000 and 70,000\n",
    "predict1 = np.dot([1, 3.5], theta);\n",
    "print('For population = 35,000, we predict a profit of {0:8.2f}\\n' .format(predict1[0]*10000));\n",
    "predict2 = np.dot([1, 7], theta);\n",
    "print('For population = 70,000, we predict a profit of {0:8.2f}\\n' .format(predict2[0]*10000));"
   ]
  },
  {
   "cell_type": "markdown",
   "metadata": {},
   "source": [
    "#### ============= Part 4: Visualizing J(theta_0, theta_1) ============="
   ]
  },
  {
   "cell_type": "code",
   "execution_count": 9,
   "metadata": {},
   "outputs": [
    {
     "name": "stdout",
     "output_type": "stream",
     "text": [
      "Visualizing J(theta_0, theta_1) ...\n",
      "\n"
     ]
    },
    {
     "data": {
      "image/png": "[encoded data removed]",
      "text/plain": [
       "<matplotlib.figure.Figure at 0x7f54bf5f41d0>"
      ]
     },
     "metadata": {},
     "output_type": "display_data"
    }
   ],
   "source": [
    "from mpl_toolkits.mplot3d import Axes3D\n",
    "from scipy.interpolate import griddata\n",
    "from matplotlib import cm\n",
    "\n",
    "print('Visualizing J(theta_0, theta_1) ...\\n')\n",
    "\n",
    "# Grid over which we will calculate J\n",
    "theta0_vals = np.linspace(-10, 10, 100);\n",
    "theta1_vals = np.linspace(-1, 4, 100);\n",
    "\n",
    "# initialize J_vals to a matrix of 0's\n",
    "J_vals = np.zeros((np.shape(theta0_vals)[0], np.shape(theta1_vals)[0]));\n",
    "\n",
    "# Fill out J_vals\n",
    "for i in range(np.shape(theta0_vals)[0]):\n",
    "    for j in range(np.shape(theta1_vals)[0]):\n",
    "        t = np.vstack([theta0_vals[i], theta1_vals[j]]);\n",
    "        J_vals[i,j] = computeCost(X, y, t);\n",
    "\n",
    "xs, ys = np.meshgrid(np.vstack(theta0_vals), np.vstack(theta1_vals))\n",
    "\n",
    "# Because of the way meshgrids work in the surf command, we need to\n",
    "# transpose J_vals before calling surf, or else the axes will be flipped\n",
    "J_vals = np.transpose(J_vals);\n",
    "\n",
    "# Surface plot\n",
    "\n",
    "# set up a figure twice as wide as it is tall\n",
    "fig = plt.figure(figsize=plt.figaspect(0.5))\n",
    "#===============\n",
    "#  First subplot\n",
    "#===============\n",
    "# set up the axes for the first plot\n",
    "ax = fig.add_subplot(1, 2, 1, projection='3d')\n",
    "\n",
    "# Plot the surface.\n",
    "surf = ax.plot_surface(xs, ys, J_vals, cmap=cm.coolwarm,\n",
    "                       linewidth=0, antialiased=False)\n",
    "plt.xlabel(\"theta0\")\n",
    "plt.ylabel(\"theta1\")\n",
    "fig.colorbar(surf, shrink=0.5, aspect=10)\n",
    "\n",
    "#===============\n",
    "# Second subplot\n",
    "#===============\n",
    "# set up the axes for the second plot\n",
    "ax = fig.add_subplot(1, 2, 2)\n",
    "\n",
    "# Contour plot\n",
    "# Plot J_vals as 15 contours spaced logarithmically between 0.01 and 100\n",
    "ax.contour(xs, ys, J_vals, np.logspace(-2, 3, 20));\n",
    "plt.xlabel(\"theta0\")\n",
    "plt.ylabel(\"theta1\")\n",
    "\n",
    "ax.plot(theta[0], theta[1], marker='x', markersize=10, linewidth=2);\n",
    "\n",
    "fig.tight_layout() "
   ]
  },
  {
   "cell_type": "markdown",
   "metadata": {},
   "source": [
    "##  Exercise 1: Linear regression with multiple variables"
   ]
  },
  {
   "cell_type": "markdown",
   "metadata": {},
   "source": [
    "\n",
    "  Instructions\n",
    "  ------------\n",
    " \n",
    "  This file contains code that helps you get started on the\n",
    "  linear regression exercise. \n",
    "\n",
    "  You will need to complete the following functions in this \n",
    "  exericse:\n",
    "\n",
    "     warmUpExercise.m\n",
    "     plotData.m\n",
    "     gradientDescent.m\n",
    "     computeCost.m\n",
    "     gradientDescentMulti.m\n",
    "     computeCostMulti.m\n",
    "     featureNormalize.m\n",
    "     normalEqn.m\n",
    "\n",
    "  For this part of the exercise, you will need to change some\n",
    "  parts of the code below for various experiments (e.g., changing\n",
    "  learning rates).\n",
    "  "
   ]
  },
  {
   "cell_type": "markdown",
   "metadata": {},
   "source": [
    "#### ================ Part 1: Feature Normalization ================"
   ]
  },
  {
   "cell_type": "code",
   "execution_count": 10,
   "metadata": {},
   "outputs": [
    {
     "name": "stdout",
     "output_type": "stream",
     "text": [
      "Loading data ...\n",
      "\n",
      "...Done\n"
     ]
    }
   ],
   "source": [
    "import numpy as np\n",
    "\n",
    "print('Loading data ...\\n');\n",
    "\n",
    "# Load Data\n",
    "data = np.loadtxt('ex1data2.txt',dtype='float',delimiter=',');\n",
    "X = data[:, [0,1]];\n",
    "y = data[:, 2];\n",
    "m = np.shape(y)[0];\n",
    "print('...Done')"
   ]
  },
  {
   "cell_type": "code",
   "execution_count": 11,
   "metadata": {},
   "outputs": [
    {
     "name": "stdout",
     "output_type": "stream",
     "text": [
      "Overwriting featureNormalize.py\n"
     ]
    }
   ],
   "source": [
    "%%writefile featureNormalize.py\n",
    "import numpy as np;\n",
    "\n",
    "def featureNormalize(X):\n",
    "    #FEATURENORMALIZE Normalizes the features in X \n",
    "    #   FEATURENORMALIZE(X) returns a normalized version of X where\n",
    "    #   the mean value of each feature is 0 and the standard deviation\n",
    "    #   is 1. This is often a good preprocessing step to do when\n",
    "    #   working with learning algorithms.\n",
    "\n",
    "    # You need to set these values correctly\n",
    "\n",
    "    X_norm = X;\n",
    "    mu = np.zeros((1, np.shape(X)[1]));\n",
    "    sigma = np.zeros((1, np.shape(X)[1]));\n",
    "\n",
    "    # ====================== YOUR CODE HERE ======================\n",
    "    # Instructions: First, for each feature dimension, compute the mean\n",
    "    #               of the feature and subtract it from the dataset,\n",
    "    #               storing the mean value in mu. Next, compute the \n",
    "    #               standard deviation of each feature and divide\n",
    "    #               each feature by it's standard deviation, storing\n",
    "    #               the standard deviation in sigma. \n",
    "    #\n",
    "    #               Note that X is a matrix where each column is a \n",
    "    #               feature and each row is an example. You need \n",
    "    #               to perform the normalization separately for \n",
    "    #               each feature. \n",
    "    #\n",
    "    # Hint: You might find the 'mean' and 'std' functions useful.\n",
    "    #       \n",
    "    mu = np.mean(X, axis=0);\n",
    "    sigma = np.std(X, axis=0, ddof=1);\n",
    "    X_norm = (X - mu) / sigma\n",
    "    return X_norm, mu, sigma"
   ]
  },
  {
   "cell_type": "code",
   "execution_count": 12,
   "metadata": {
    "scrolled": true
   },
   "outputs": [
    {
     "name": "stdout",
     "output_type": "stream",
     "text": [
      "First 10 examples from the dataset: \n",
      "\n",
      " X = [    2104        3], y =   399900\n",
      " X = [    1600        3], y =   329900\n",
      " X = [    2400        3], y =   369000\n",
      " X = [    1416        2], y =   232000\n",
      " X = [    3000        4], y =   539900\n",
      " X = [    1985        4], y =   299900\n",
      " X = [    1534        3], y =   314900\n",
      " X = [    1427        3], y =   198999\n",
      " X = [    1380        3], y =   212000\n",
      "Normalizing Features ...\n",
      "\n"
     ]
    }
   ],
   "source": [
    "from featureNormalize import *\n",
    "\n",
    "# Print out some data points\n",
    "print('First 10 examples from the dataset: \\n');\n",
    "for i in np.arange(0,9):\n",
    "    print(' X = [{0:8.0f} {1:8.0f}], y = {2:8.0f}'.format(X[i,0], X[i,1], y[i]));\n",
    "\n",
    "# Scale features and set them to zero mean\n",
    "print('Normalizing Features ...\\n');\n",
    "\n",
    "X_norm, mu, sigma = featureNormalize(X);\n",
    "\n",
    "# Add intercept term to X\n",
    "m = np.shape(X_norm)[0];\n",
    "X_norm = np.concatenate((np.ones((m,1)), X_norm), axis=1) # Add a column of ones to x"
   ]
  },
  {
   "cell_type": "markdown",
   "metadata": {},
   "source": [
    "#### ================ Part 2: Gradient Descent ================"
   ]
  },
  {
   "cell_type": "markdown",
   "metadata": {},
   "source": [
    " ====================== YOUR CODE HERE ======================\n",
    " \n",
    " Instructions: We have provided you with the following starter\n",
    "               code that runs gradient descent with a particular\n",
    "               learning rate (alpha). \n",
    "\n",
    "               Your task is to first make sure that your functions - \n",
    "               computeCost and gradientDescent already work with \n",
    "               this starter code and support multiple variables.\n",
    "\n",
    "               After that, try running gradient descent with \n",
    "               different values of alpha and see which one gives\n",
    "               you the best result.\n",
    "\n",
    "               Finally, you should complete the code at the end\n",
    "               to predict the price of a 1650 sq-ft, 3 br house.\n",
    "\n",
    " Hint: By using the 'hold on' command, you can plot multiple\n",
    "       graphs on the same figure.\n",
    "\n",
    " Hint: At prediction, make sure you do the same feature normalization.\n",
    "\n"
   ]
  },
  {
   "cell_type": "code",
   "execution_count": 13,
   "metadata": {
    "collapsed": true
   },
   "outputs": [],
   "source": [
    "def gradientDescentMulti(X, y, theta, alpha, num_iters):\n",
    "    theta, J_history = gradientDescent(X, y, theta, alpha, num_iters);\n",
    "    return theta, J_history;"
   ]
  },
  {
   "cell_type": "code",
   "execution_count": 14,
   "metadata": {},
   "outputs": [
    {
     "name": "stdout",
     "output_type": "stream",
     "text": [
      "Running gradient descent ...\n",
      "\n",
      "Theta computed from gradient descent: \n",
      "\n",
      " [[ 340412.62247571]\n",
      " [ 109397.3104941 ]\n",
      " [  -6527.86887999]]\n",
      "\n",
      "\n"
     ]
    }
   ],
   "source": [
    "print('Running gradient descent ...\\n');\n",
    "\n",
    "# Choose some alpha value\n",
    "alpha = 0.004;\n",
    "num_iters = 4000;\n",
    "\n",
    "# Init Theta and Run Gradient Descent \n",
    "theta = np.zeros((3, 1));\n",
    "theta, J_history = gradientDescentMulti(X_norm, y, theta, alpha, num_iters);\n",
    "\n",
    "# Display gradient descent's result\n",
    "print('Theta computed from gradient descent: \\n');\n",
    "print(' {0}'.format(theta));\n",
    "print('\\n');"
   ]
  },
  {
   "cell_type": "code",
   "execution_count": 15,
   "metadata": {},
   "outputs": [
    {
     "data": {
      "image/png": "[encoded data removed]",
      "text/plain": [
       "<matplotlib.figure.Figure at 0x7f54e44e0a20>"
      ]
     },
     "metadata": {},
     "output_type": "display_data"
    }
   ],
   "source": [
    "import matplotlib\n",
    "import matplotlib.pyplot as plt\n",
    "%matplotlib inline  \n",
    "\n",
    "# Plot the convergence graph\n",
    "fig, ax = plt.subplots()\n",
    "x_iterations = np.arange(1,np.shape(J_history)[0]+1)\n",
    "plotPoints = ax.plot(x_iterations, J_history);\n",
    "plt.xlabel(\"Number of iterations\");\n",
    "plt.ylabel(\"Cost J\");"
   ]
  },
  {
   "cell_type": "markdown",
   "metadata": {},
   "source": [
    "#### Estimate the price of a 1650 sq-ft, 3 br house"
   ]
  },
  {
   "cell_type": "code",
   "execution_count": 16,
   "metadata": {},
   "outputs": [
    {
     "name": "stdout",
     "output_type": "stream",
     "text": [
      "Predicted price of a 1650 sq-ft, 3 br house (using gradient descent):\n",
      " $293092.53\n",
      "\n"
     ]
    }
   ],
   "source": [
    "# ====================== YOUR CODE HERE ======================\n",
    "# Recall that the first column of X is all-ones. Thus, it does\n",
    "# not need to be normalized.\n",
    "x_ex = [1, 1650, 3];\n",
    "x_ex_norm = x_ex;\n",
    "x_ex_norm[1:] = (x_ex[1:] - mu) / sigma;\n",
    "price = np.dot(x_ex_norm, theta); # You should change this\n",
    "# ============================================================\n",
    "\n",
    "print('Predicted price of a 1650 sq-ft, 3 br house ' + \n",
    "         '(using gradient descent):\\n ${0:8.2f}\\n'. format(price[0]));\n"
   ]
  },
  {
   "cell_type": "markdown",
   "metadata": {},
   "source": [
    "#### ================ Part 3: Normal Equations ================"
   ]
  },
  {
   "cell_type": "markdown",
   "metadata": {},
   "source": [
    " ====================== YOUR CODE HERE ======================\n",
    " \n",
    " Instructions: The following code computes the closed form \n",
    "               solution for linear regression using the normal\n",
    "               equations. You should complete the code in \n",
    "               normalEqn.m\n",
    "\n",
    "               After doing so, you should complete this code \n",
    "               to predict the price of a 1650 sq-ft, 3 br house.\n"
   ]
  },
  {
   "cell_type": "code",
   "execution_count": 17,
   "metadata": {},
   "outputs": [
    {
     "name": "stdout",
     "output_type": "stream",
     "text": [
      "Overwriting normalEqn.py\n"
     ]
    }
   ],
   "source": [
    "%%writefile normalEqn.py\n",
    "import numpy as np\n",
    "from numpy.linalg import inv\n",
    "\n",
    "def normalEqn(X, y):\n",
    "    #NORMALEQN Computes the closed-form solution to linear regression \n",
    "    #   NORMALEQN(X,y) computes the closed-form solution to linear \n",
    "    #   regression using the normal equations.\n",
    "    theta = np.zeros((np.shape(X)[1], 1));\n",
    "    # ====================== YOUR CODE HERE ======================\n",
    "    # Instructions: Complete the code to compute the closed form solution\n",
    "    #               to linear regression and put the result in theta.\n",
    "    #\n",
    "    # ---------------------- Sample Solution ----------------------\n",
    "    theta = np.dot(np.dot(inv(np.dot(np.transpose(X), X)), np.transpose(X)), np.vstack(y));\n",
    "    return theta"
   ]
  },
  {
   "cell_type": "code",
   "execution_count": 18,
   "metadata": {},
   "outputs": [
    {
     "name": "stdout",
     "output_type": "stream",
     "text": [
      "Solving with normal equations...\n",
      "\n",
      "Loading data ...\n",
      "\n",
      "...Done\n",
      "\n",
      "Theta computed from the normal equations: \n",
      " [[ 89597.9095428 ]\n",
      " [   139.21067402]\n",
      " [ -8738.01911233]] \n",
      "\n",
      "\n",
      "\n"
     ]
    }
   ],
   "source": [
    "from normalEqn import *\n",
    "\n",
    "print('Solving with normal equations...\\n');\n",
    "\n",
    "# Load Data\n",
    "print('Loading data ...\\n');\n",
    "data = np.loadtxt('ex1data2.txt',dtype='float',delimiter=',');\n",
    "X = data[:, [0,1]];\n",
    "y = data[:, 2];\n",
    "m = np.shape(y)[0];\n",
    "print('...Done\\n')\n",
    "\n",
    "# Add intercept term to X\n",
    "X = np.concatenate((np.ones((m,1)), X), axis=1) # Add a column of ones to x\n",
    "\n",
    "# Calculate the parameters from the normal equation\n",
    "theta = normalEqn(X, y);\n",
    "\n",
    "# Display normal equation's result\n",
    "print('Theta computed from the normal equations: ');\n",
    "print(' {0} \\n' .format(theta));\n",
    "print('\\n');"
   ]
  },
  {
   "cell_type": "code",
   "execution_count": 19,
   "metadata": {},
   "outputs": [
    {
     "name": "stdout",
     "output_type": "stream",
     "text": [
      "Predicted price of a 1650 sq-ft, 3 br house (using normal equations):\n",
      " $293081.46\n",
      "\n"
     ]
    }
   ],
   "source": [
    "# Estimate the price of a 1650 sq-ft, 3 br house\n",
    "# ====================== YOUR CODE HERE ======================\n",
    "x_ex = [1, 1650, 3];\n",
    "price = np.dot(x_ex, theta); # You should change this\n",
    "\n",
    "# ============================================================\n",
    "\n",
    "print('Predicted price of a 1650 sq-ft, 3 br house ' +\n",
    "         '(using normal equations):\\n ${0:8.2f}\\n'.format(price[0]));"
   ]
  }
 ],
 "metadata": {
  "kernelspec": {
   "display_name": "Python 3",
   "language": "python",
   "name": "python3"
  },
  "language_info": {
   "codemirror_mode": {
    "name": "ipython",
    "version": 3
   },
   "file_extension": ".py",
   "mimetype": "text/x-python",
   "name": "python",
   "nbconvert_exporter": "python",
   "pygments_lexer": "ipython3",
   "version": "3.6.1"
  }
 },
 "nbformat": 4,
 "nbformat_minor": 2
}
