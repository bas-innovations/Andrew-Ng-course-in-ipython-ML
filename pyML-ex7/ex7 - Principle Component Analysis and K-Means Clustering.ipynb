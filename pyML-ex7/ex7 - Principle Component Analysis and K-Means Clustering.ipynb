{
 "cells": [
  {
   "cell_type": "markdown",
   "metadata": {
    "collapsed": true
   },
   "source": [
    "## Machine Learning Online Class"
   ]
  },
  {
   "cell_type": "markdown",
   "metadata": {},
   "source": [
    "  Exercise 7 | Principle Component Analysis and K-Means Clustering\n",
    "\n",
    "  Instructions\n",
    "  ------------\n",
    "\n",
    "  This file contains code that helps you get started on the\n",
    "  exercise. You will need to complete the following functions:\n",
    "\n",
    "     pca.m\n",
    "     projectData.m\n",
    "     recoverData.m\n",
    "     computeCentroids.m\n",
    "     findClosestCentroids.m\n",
    "     kMeansInitCentroids.m\n",
    "\n",
    "  For this exercise, you will not need to change any code in this file,\n",
    "  or any other files other than those mentioned above.\n"
   ]
  },
  {
   "cell_type": "code",
   "execution_count": 1,
   "metadata": {
    "collapsed": true
   },
   "outputs": [],
   "source": [
    "## Initialization\n",
    "import numpy as np;\n",
    "import scipy.io as sio;\n",
    "from scipy.optimize import minimize\n",
    "\n",
    "import matplotlib\n",
    "import matplotlib.pyplot as plt\n",
    "%matplotlib inline"
   ]
  },
  {
   "cell_type": "markdown",
   "metadata": {},
   "source": [
    "#### ================= Part 1: Find Closest Centroids ===================="
   ]
  },
  {
   "cell_type": "code",
   "execution_count": 2,
   "metadata": {},
   "outputs": [
    {
     "name": "stdout",
     "output_type": "stream",
     "text": [
      "Finding closest centroids.\n",
      "\n",
      "\n",
      "Loading Data ...\n",
      "   ...Done.\n",
      "\n",
      "Contents of mat file...\n",
      "dict_keys(['__header__', '__version__', '__globals__', 'X'])\n",
      "\n",
      "\n",
      "Dimensions of X: (300, 2)\n"
     ]
    }
   ],
   "source": [
    "#  To help you implement K-Means, we have divided the learning algorithm \n",
    "#  into two functions -- findClosestCentroids and computeCentroids. In this\n",
    "#  part, you should complete the code in the findClosestCentroids function. \n",
    "#\n",
    "print('Finding closest centroids.\\n\\n');\n",
    "\n",
    "# Load an example dataset that we will be using\n",
    "print('Loading Data ...');\n",
    "\n",
    "# Load from ex5data1: \n",
    "# You will have X, y, Xval, yval, Xtest, ytest in your environment\n",
    "mat_contents = sio.loadmat('ex7data2.mat');\n",
    "print('   ...Done.')\n",
    "print('\\nContents of mat file...')\n",
    "print(mat_contents.keys())\n",
    "X = mat_contents['X'];\n",
    "\n",
    "# m = Number of examples\n",
    "m = np.shape(X)[0];\n",
    "print('\\n')\n",
    "print('Dimensions of X: {0}'.format(X.shape));"
   ]
  },
  {
   "cell_type": "code",
   "execution_count": 3,
   "metadata": {
    "collapsed": true
   },
   "outputs": [],
   "source": [
    "def findClosestCentroids(X, centroids):\n",
    "    #FINDCLOSESTCENTROIDS computes the centroid memberships for every example\n",
    "    #   idx = FINDCLOSESTCENTROIDS (X, centroids) returns the closest centroids\n",
    "    #   in idx for a dataset X where each row is a single example. idx = m x 1 \n",
    "    #   vector of centroid assignments (i.e. each entry in range [1..K])\n",
    "    #\n",
    "\n",
    "    # Set K\n",
    "    K = np.shape(centroids)[0];\n",
    "    m = np.shape(X)[0];\n",
    "    # You need to return the following variables correctly.\n",
    "    idx = np.vstack(np.zeros((m,1)));\n",
    "\n",
    "    # ====================== YOUR CODE HERE ======================\n",
    "    # Instructions: Go over every example, find its closest centroid, and store\n",
    "    #               the index inside idx at the appropriate location.\n",
    "    #               Concretely, idx(i) should contain the index of the centroid\n",
    "    #               closest to example i. Hence, it should be a value in the \n",
    "    #               range 1..K\n",
    "    #\n",
    "    # Note: You can use a for-loop over the examples to compute this.\n",
    "    #\n",
    "\n",
    "    distVar = np.array([]);\n",
    "    for i in np.arange(K):\n",
    "        inner = np.sum((X - np.repeat(centroids[i,:].reshape(1,-1), m, axis=0))**2, axis=1).reshape(-1,1)\n",
    "        if i == 0:\n",
    "            distVar = inner;\n",
    "        else:\n",
    "            distVar = np.concatenate((distVar, inner), axis=1);\n",
    "    \n",
    "    #print(distVar)\n",
    "    idx = np.argmin(distVar, axis=1);\n",
    "    return idx;"
   ]
  },
  {
   "cell_type": "code",
   "execution_count": 4,
   "metadata": {},
   "outputs": [
    {
     "name": "stdout",
     "output_type": "stream",
     "text": [
      "\n",
      "Closest centroids for the first 3 examples:\n",
      " 0  2  1 \n",
      "(the closest centroids should be 0, 2, 1 respectively)\n",
      "\n"
     ]
    }
   ],
   "source": [
    "# Select an initial set of centroids\n",
    "K = 3; # 3 Centroids\n",
    "initial_centroids = np.array([[3, 3], [6, 2], [8, 5]]);\n",
    "\n",
    "# Find the closest centroids for the examples using the\n",
    "# initial_centroids\n",
    "idx = findClosestCentroids(X, initial_centroids);\n",
    "\n",
    "print('\\nClosest centroids for the first 3 examples:')\n",
    "for i in np.arange(3):\n",
    "    print(' {0} '.format(idx[i]), end='');\n",
    "print('\\n(the closest centroids should be 0, 2, 1 respectively)\\n');"
   ]
  },
  {
   "cell_type": "markdown",
   "metadata": {},
   "source": [
    "#### ===================== Part 2: Compute Means ========================="
   ]
  },
  {
   "cell_type": "code",
   "execution_count": 5,
   "metadata": {
    "collapsed": true
   },
   "outputs": [],
   "source": [
    "def computeCentroids(X, idx, K):\n",
    "    #COMPUTECENTROIDS returns the new centroids by computing the means of the \n",
    "    #data points assigned to each centroid.\n",
    "    #   centroids = COMPUTECENTROIDS(X, idx, K) returns the new centroids by \n",
    "    #   computing the means of the data points assigned to each centroid. It is\n",
    "    #   given a dataset X where each row is a single data point, a vector\n",
    "    #   idx of centroid assignments (i.e. each entry in range [1..K]) for each\n",
    "    #   example, and K, the number of centroids. You should return a matrix\n",
    "    #   centroids, where each row of centroids is the mean of the data points\n",
    "    #   assigned to it.\n",
    "    #\n",
    "\n",
    "    # Useful variables\n",
    "    [m, n] = np.shape(X);\n",
    "\n",
    "    # You need to return the following variables correctly.\n",
    "    centroids = np.zeros((K, n));\n",
    "\n",
    "    # ====================== YOUR CODE HERE ======================\n",
    "    # Instructions: Go over every centroid and compute mean of all points that\n",
    "    #               belong to it. Concretely, the row vector centroids(i, :)\n",
    "    #               should contain the mean of the data points assigned to\n",
    "    #               centroid i.\n",
    "    #\n",
    "    # Note: You can use a for-loop over the centroids to compute this.\n",
    "    #\n",
    "\n",
    "    for i in np.arange(K):\n",
    "        centroids[i,:] = np.mean(X[idx == i,:], axis=0);\n",
    "    return centroids;"
   ]
  },
  {
   "cell_type": "code",
   "execution_count": 6,
   "metadata": {},
   "outputs": [
    {
     "name": "stdout",
     "output_type": "stream",
     "text": [
      "\n",
      "Computing centroids means.\n",
      "\n",
      "Centroids computed after initial finding of closest centroids: \n",
      "\t[ 2.428301 3.157924 ]\n",
      "\t[ 5.813503 2.633656 ]\n",
      "\t[ 7.119387 3.616684 ]\n",
      "\n",
      "The centroids should be:\n",
      "\t[ 2.428301 3.157924 ]\n",
      "\t[ 5.813503 2.633656 ]\n",
      "\t[ 7.119387 3.616684 ]\n"
     ]
    }
   ],
   "source": [
    "#  After implementing the closest centroids function, you should now\n",
    "#  complete the computeCentroids function.\n",
    "#\n",
    "print('\\nComputing centroids means.\\n');\n",
    "\n",
    "#  Compute means based on the closest centroids found in the previous part.\n",
    "centroids = computeCentroids(X, idx, K);\n",
    "\n",
    "print('Centroids computed after initial finding of closest centroids: ')\n",
    "for i in np.arange(centroids.shape[0]):\n",
    "    print('\\t[ {0:0.6f} {1:0.6f} ]'.format(centroids[i,0], centroids[i,1]));\n",
    "print('\\nThe centroids should be:');\n",
    "print('\\t[ 2.428301 3.157924 ]');\n",
    "print('\\t[ 5.813503 2.633656 ]');\n",
    "print('\\t[ 7.119387 3.616684 ]');"
   ]
  },
  {
   "cell_type": "markdown",
   "metadata": {},
   "source": [
    "#### =================== Part 3: K-Means Clustering ======================"
   ]
  },
  {
   "cell_type": "code",
   "execution_count": 7,
   "metadata": {},
   "outputs": [
    {
     "name": "stdout",
     "output_type": "stream",
     "text": [
      "\n",
      "Running K-Means clustering on example dataset.\n",
      "\n",
      "\n",
      "Loading Data ...\n",
      "   ...Done.\n",
      "\n",
      "Contents of mat file...\n",
      "dict_keys(['__header__', '__version__', '__globals__', 'X'])\n",
      "\n",
      "\n",
      "Dimensions of X: (300, 2)\n"
     ]
    }
   ],
   "source": [
    "#  After you have completed the two functions computeCentroids and\n",
    "#  findClosestCentroids, you have all the necessary pieces to run the\n",
    "#  kMeans algorithm. In this part, you will run the K-Means algorithm on\n",
    "#  the example dataset we have provided. \n",
    "#\n",
    "print('\\nRunning K-Means clustering on example dataset.\\n\\n');\n",
    "\n",
    "# Load an example dataset\n",
    "print('Loading Data ...');\n",
    "\n",
    "# You will have X, y, Xval, yval, Xtest, ytest in your environment\n",
    "mat_contents = sio.loadmat('ex7data2.mat');\n",
    "print('   ...Done.')\n",
    "print('\\nContents of mat file...')\n",
    "print(mat_contents.keys())\n",
    "X = mat_contents['X'];\n",
    "\n",
    "# m = Number of examples\n",
    "m = np.shape(X)[0];\n",
    "print('\\n')\n",
    "print('Dimensions of X: {0}'.format(X.shape));"
   ]
  },
  {
   "cell_type": "code",
   "execution_count": 8,
   "metadata": {
    "collapsed": true
   },
   "outputs": [],
   "source": [
    "from bqplot import *\n",
    "import bqplot\n",
    "from IPython.display import display\n",
    "\n",
    "def plotDataPoints_bq(X, idx, K, centroids, centroids_history):\n",
    "    \n",
    "    xs = LinearScale();\n",
    "    ys = LinearScale();\n",
    "    cs = OrdinalColorScale(colors = bqplot.CATEGORY10)\n",
    "    sc_col = ColorScale(colors=['white', 'black'], min=0.0, max=1.0, mid=0.5, dtype=float)\n",
    "    \n",
    "    scatt = Scatter(x=X[:,0], y=X[:,1], color=idx.reshape(1,-1), scales={'x': xs, 'y': ys, 'color': cs});\n",
    "    xax = Axis(scale=xs, label='x', tick_format='0.1f', grid_lines='solid');\n",
    "    yax = Axis(scale=ys, orientation='vertical', tick_format='0.1f', label='y', grid_lines='solid');\n",
    "\n",
    "    marks=[scatt];\n",
    "        \n",
    "    for i in np.arange(np.shape(centroids_history)[0]):\n",
    "        line = FlexLine(x=centroids_history[i,0,:].flatten(), y=centroids_history[i,1,:].flatten(),\n",
    "                     scales={'x': xs, 'y': ys, 'color': sc_col}, \n",
    "                     color=np.ones(np.shape(centroids_history)[2]).flatten(),\n",
    "                     stroke_width=1.5)\n",
    "        marks.append(line)        \n",
    "    \n",
    "    for i in np.arange(np.shape(centroids)[0]):\n",
    "        marker = Scatter(x=centroids[i,0].reshape(1,), y=centroids[i,1].reshape(1,), \n",
    "                         scales={'x': xs, 'y': ys}, \n",
    "                         colors=['black'], marker='cross')\n",
    "        marks.append(marker)\n",
    "    \n",
    "    return Figure(marks=marks, axes=[xax, yax], animation_duration=1000);\n"
   ]
  },
  {
   "cell_type": "code",
   "execution_count": 9,
   "metadata": {
    "collapsed": true
   },
   "outputs": [],
   "source": [
    "%matplotlib notebook\n",
    "import sys\n",
    "import time\n",
    "\n",
    "def runkMeans(X, initial_centroids, max_iters, plot_progress):\n",
    "    #RUNKMEANS runs the K-Means algorithm on data matrix X, where each row of X\n",
    "    #is a single example\n",
    "    #   [centroids, idx] = RUNKMEANS(X, initial_centroids, max_iters, ...\n",
    "    #   plot_progress) runs the K-Means algorithm on data matrix X, where each \n",
    "    #   row of X is a single example. It uses initial_centroids used as the\n",
    "    #   initial centroids. max_iters specifies the total number of interactions \n",
    "    #   of K-Means to execute. plot_progress is a true/false flag that \n",
    "    #   indicates if the function should also plot its progress as the \n",
    "    #   learning happens. This is set to false by default. runkMeans returns \n",
    "    #   centroids, a Kxn matrix of the computed centroids and idx, a m x 1 \n",
    "    #   vector of centroid assignments (i.e. each entry in range [1..K])\n",
    "    #\n",
    "\n",
    "    # Initialize values\n",
    "    [m, n] = np.shape(X);\n",
    "    K = np.shape(initial_centroids)[0];\n",
    "    centroids = initial_centroids;\n",
    "    centroids_history = np.dstack([centroids]*(max_iters+1))\n",
    "        \n",
    "    idx = np.zeros((m, 1));\n",
    "    \n",
    "    for i in np.arange(max_iters):\n",
    "       \n",
    "        # For each example in X, assign it to the closest centroid\n",
    "        idx = findClosestCentroids(X, centroids);\n",
    "\n",
    "        # Optionally, plot progress here\n",
    "        if plot_progress:\n",
    "            if i == 0:\n",
    "                fig = plotDataPoints_bq(X, idx, K, centroids, centroids_history);\n",
    "                display(fig);\n",
    "                time.sleep(1.0);\n",
    "            else:\n",
    "                fig.marks[0].x = X[:,0]\n",
    "                fig.marks[0].y = X[:,1]\n",
    "                fig.marks[0].color = idx\n",
    "                for j in np.arange(np.shape(centroids)[0]):\n",
    "                    fig.marks[j+1+K].x = centroids[j,0].reshape(1,);\n",
    "                    fig.marks[j+1+K].y = centroids[j,1].reshape(1,);\n",
    "                time.sleep(1.0);\n",
    "                for j in np.arange(np.shape(centroids)[0]): \n",
    "                    fig.marks[j+1].x = centroids_history[j,0,:].flatten();\n",
    "                    fig.marks[j+1].y = centroids_history[j,1,:].flatten();\n",
    "                    fig.marks[j+1].color = np.hstack((np.linspace(0.3, 0.9, num=i),np.ones((max_iters - i + 1)))).flatten();                  \n",
    "                    \n",
    "        # Output progress\n",
    "        sys.stdout.write('\\r')\n",
    "        sys.stdout.write(\"K-Means iteration {0:d}/{1:d}...\".format(i+1, max_iters));\n",
    "        sys.stdout.flush()\n",
    "        \n",
    "        # Given the memberships, compute new centroids\n",
    "        centroids = computeCentroids(X, idx, K);\n",
    "        centroids_history[:,:,i+1:] = np.dstack([centroids]*(max_iters-i));\n",
    "        \n",
    "    return centroids, idx"
   ]
  },
  {
   "cell_type": "code",
   "execution_count": 10,
   "metadata": {},
   "outputs": [
    {
     "data": {
      "application/vnd.jupyter.widget-view+json": {
       "model_id": "ff2eec1f50154ff892565b40e9079248",
       "version_major": 2,
       "version_minor": 0
      },
      "text/plain": [
       "A Jupyter Widget"
      ]
     },
     "metadata": {},
     "output_type": "display_data"
    },
    {
     "name": "stdout",
     "output_type": "stream",
     "text": [
      "K-Means iteration 10/10...\n",
      "K-Means Done.\n",
      "\n",
      "\n"
     ]
    }
   ],
   "source": [
    "# Settings for running K-Means\n",
    "K = 3;\n",
    "max_iters = 10;\n",
    "\n",
    "# For consistency, here we set centroids to specific values\n",
    "# but in practice you want to generate them automatically, such as by\n",
    "# settings them to be random examples (as can be seen in\n",
    "# kMeansInitCentroids).\n",
    "initial_centroids = np.array([[3, 3], [6, 2], [8, 5]], dtype=float);\n",
    "\n",
    "# Run K-Means algorithm. The 'true' at the end tells our function to plot\n",
    "# the progress of K-Means\n",
    "[centroids, idx] = runkMeans(X, initial_centroids, max_iters, True);\n",
    "print('\\nK-Means Done.\\n\\n');"
   ]
  },
  {
   "cell_type": "markdown",
   "metadata": {},
   "source": [
    "#### ============= Part 4: K-Means Clustering on Pixels ===============\n",
    "  In this exercise, you will use K-Means to compress an image. To do this,\n",
    "  you will first run K-Means on the colors of the pixels in the image and\n",
    "  then you will map each pixel onto its closest centroid.\n",
    "  \n",
    "  You should now complete the code in kMeansInitCentroids.m"
   ]
  },
  {
   "cell_type": "code",
   "execution_count": 11,
   "metadata": {
    "collapsed": true
   },
   "outputs": [],
   "source": [
    "def kMeansInitCentroids(X, K):\n",
    "    #KMEANSINITCENTROIDS This function initializes K centroids that ar$\n",
    "    #used in K-Means on the dataset X\n",
    "    #   centroids = KMEANSINITCENTROIDS(X, K) returns K initial centro$\n",
    "    #   used with the K-Means on the dataset X\n",
    "    #\n",
    "\n",
    "    # You should return this values correctly\n",
    "    centroids = np.zeros((K, np.shape(X)[0]));\n",
    "\n",
    "    # ====================== YOUR CODE HERE ======================\n",
    "    # Instructions: You should set centroids to randomly chosen exampl$\n",
    "    #               the dataset X\n",
    "    #\n",
    "\n",
    "    #Initialize the centroids to be random examples\n",
    "    # Randomly reorder the indices of examples\n",
    "    randidx = np.random.permutation(np.shape(X)[0]);\n",
    "    #Take the first K examples as centroids\n",
    "    centroids = X[randidx[:K], :];\n",
    "\n",
    "    return centroids\n",
    "\n"
   ]
  },
  {
   "cell_type": "code",
   "execution_count": 12,
   "metadata": {},
   "outputs": [
    {
     "name": "stdout",
     "output_type": "stream",
     "text": [
      "\n",
      "Running K-Means clustering on pixels from an image.\n",
      "\n",
      "\n",
      "Image shape:  (128, 128, 3)\n",
      "Image data type:  uint8\n",
      "K-Means iteration 10/10..."
     ]
    }
   ],
   "source": [
    "from scipy import misc\n",
    "  \n",
    "print('\\nRunning K-Means clustering on pixels from an image.\\n\\n');\n",
    "\n",
    "#  Load an image of a bird\n",
    "#A = double(imread('bird_small.png'));\n",
    "A = misc.imread('bird_small.png')\n",
    "print('Image shape: ', A.shape)\n",
    "print('Image data type: ', A.dtype)\n",
    "    \n",
    "# If imread does not work for you, you can try instead\n",
    "#   load ('bird_small.mat');\n",
    "\n",
    "A = A / 255; # Divide by 255 so that all values are in the range 0 - 1\n",
    "\n",
    "# Size of the image\n",
    "img_size = np.shape(A);\n",
    "\n",
    "# Reshape the image into an Nx3 matrix where N = number of pixels.\n",
    "# Each row will contain the Red, Green and Blue pixel values\n",
    "# This gives us our dataset matrix X that we will use K-Means on.\n",
    "X = np.reshape(A, (img_size[0] * img_size[1], 3));\n",
    "\n",
    "# Run your K-Means algorithm on this data\n",
    "# You should try different values of K and max_iters here\n",
    "K = 16; \n",
    "max_iters = 10;\n",
    "\n",
    "# When using K-Means, it is important the initialize the centroids\n",
    "# randomly. \n",
    "# You should complete the code in kMeansInitCentroids.m before proceeding\n",
    "initial_centroids = kMeansInitCentroids(X, K);\n",
    "\n",
    "# Run K-Means\n",
    "[centroids, idx] = runkMeans(X, initial_centroids, max_iters, plot_progress=False);"
   ]
  },
  {
   "cell_type": "markdown",
   "metadata": {},
   "source": [
    "#### ================= Part 5: Image Compression ======================\n",
    "  In this part of the exercise, you will use the clusters of K-Means to\n",
    "  compress an image. To do this, we first find the closest clusters for\n",
    "  each example. After that, we "
   ]
  },
  {
   "cell_type": "code",
   "execution_count": 13,
   "metadata": {},
   "outputs": [
    {
     "name": "stdout",
     "output_type": "stream",
     "text": [
      "\n",
      "Applying K-Means to compress an image.\n",
      "\n",
      "Original Image Size (bytes): 393216\n",
      "Compressed Image Size - Indices (bytes): 131072\n",
      "Compressed Image Size - Centroids (bytes): 384\n"
     ]
    },
    {
     "data": {
      "image/png": "[encoded data removed]",
      "text/plain": [
       "<matplotlib.figure.Figure at 0x7f2a7277f278>"
      ]
     },
     "metadata": {},
     "output_type": "display_data"
    }
   ],
   "source": [
    "%matplotlib inline\n",
    "print('\\nApplying K-Means to compress an image.\\n');\n",
    "\n",
    "# Find closest cluster members\n",
    "idx = findClosestCentroids(X, centroids);\n",
    "\n",
    "# Essentially, now we have represented the image X as in terms of the\n",
    "# indices in idx. \n",
    "\n",
    "# We can now recover the image from the indices (idx) by mapping each pixel\n",
    "# (specified by its index in idx) to the centroid value\n",
    "X_recovered = centroids[idx,:];\n",
    "\n",
    "# Reshape the recovered image into proper dimensions\n",
    "X_recovered = np.reshape(X_recovered, (img_size[0], img_size[1], 3));\n",
    "\n",
    "# set up a figure twice as wide as it is tall\n",
    "fig = plt.figure(figsize=plt.figaspect(0.5))\n",
    "\n",
    "# display the original image\n",
    "fig.add_subplot(1, 2, 1)\n",
    "plt.imshow(np.flip(A, axis=0), origin=[-1,1]);\n",
    "plt.title('Original')\n",
    "# Do not show axis\n",
    "plt.axis('off');\n",
    "\n",
    "# display the recovered image\n",
    "fig.add_subplot(1, 2, 2)\n",
    "plt.imshow(np.flip(X_recovered, axis=0), origin=[-1,1]);\n",
    "plt.title('Recovered')\n",
    "# Do not show axis\n",
    "plt.axis('off');\n",
    "\n",
    "print('Original Image Size (bytes): {0:d}'.format(A.nbytes))\n",
    "print('Compressed Image Size - Indices (bytes): {0:d}'.format(idx.nbytes))\n",
    "print('Compressed Image Size - Centroids (bytes): {0:d}'.format(centroids.nbytes))"
   ]
  },
  {
   "cell_type": "code",
   "execution_count": null,
   "metadata": {
    "collapsed": true
   },
   "outputs": [],
   "source": []
  }
 ],
 "metadata": {
  "kernelspec": {
   "display_name": "Python 3",
   "language": "python",
   "name": "python3"
  },
  "language_info": {
   "codemirror_mode": {
    "name": "ipython",
    "version": 3
   },
   "file_extension": ".py",
   "mimetype": "text/x-python",
   "name": "python",
   "nbconvert_exporter": "python",
   "pygments_lexer": "ipython3",
   "version": "3.6.1"
  }
 },
 "nbformat": 4,
 "nbformat_minor": 2
}
