{
 "cells": [
  {
   "cell_type": "code",
   "execution_count": 1,
   "metadata": {
    "collapsed": true
   },
   "outputs": [],
   "source": [
    "import sys\n",
    "import IPython\n",
    "from IPython.display import display\n",
    "from IPython.display import HTML, Javascript"
   ]
  },
  {
   "cell_type": "code",
   "execution_count": 2,
   "metadata": {},
   "outputs": [
    {
     "name": "stdout",
     "output_type": "stream",
     "text": [
      "3.6.1 |Anaconda custom (64-bit)| (default, May 11 2017, 13:09:58) \n",
      "[GCC 4.4.7 20120313 (Red Hat 4.4.7-1)]\n",
      "5.3.0\n"
     ]
    }
   ],
   "source": [
    "print(sys.version)\n",
    "print(IPython.__version__)"
   ]
  },
  {
   "cell_type": "code",
   "execution_count": 3,
   "metadata": {},
   "outputs": [],
   "source": [
    "import pandas_datareader as pdr\n",
    "from pandas_datareader import data, wb"
   ]
  },
  {
   "cell_type": "code",
   "execution_count": 4,
   "metadata": {
    "collapsed": true
   },
   "outputs": [],
   "source": [
    "df = wb.download(indicator='NY.GDP.PCAP.PP.KD', country=\"all\", start=2010, end=2014).unstack()"
   ]
  },
  {
   "cell_type": "markdown",
   "metadata": {},
   "source": [
    "Cleanup and create df_selected with top 5 and bottom 5 countries based on GDP Per Capita Growth between 2010 and 2014:"
   ]
  },
  {
   "cell_type": "code",
   "execution_count": 5,
   "metadata": {},
   "outputs": [
    {
     "data": {
      "text/html": [
       "<div>\n",
       "<style>\n",
       "    .dataframe thead tr:only-child th {\n",
       "        text-align: right;\n",
       "    }\n",
       "\n",
       "    .dataframe thead th {\n",
       "        text-align: left;\n",
       "    }\n",
       "\n",
       "    .dataframe tbody tr th {\n",
       "        vertical-align: top;\n",
       "    }\n",
       "</style>\n",
       "<table border=\"1\" class=\"dataframe\">\n",
       "  <thead>\n",
       "    <tr style=\"text-align: right;\">\n",
       "      <th>year</th>\n",
       "      <th>2010</th>\n",
       "      <th>2011</th>\n",
       "      <th>2012</th>\n",
       "      <th>2013</th>\n",
       "      <th>2014</th>\n",
       "      <th>5yr_change</th>\n",
       "    </tr>\n",
       "    <tr>\n",
       "      <th>country</th>\n",
       "      <th></th>\n",
       "      <th></th>\n",
       "      <th></th>\n",
       "      <th></th>\n",
       "      <th></th>\n",
       "      <th></th>\n",
       "    </tr>\n",
       "  </thead>\n",
       "  <tbody>\n",
       "    <tr>\n",
       "      <th>South Sudan</th>\n",
       "      <td>3789</td>\n",
       "      <td>3482</td>\n",
       "      <td>1813</td>\n",
       "      <td>1985</td>\n",
       "      <td>1989</td>\n",
       "      <td>-0.475059</td>\n",
       "    </tr>\n",
       "    <tr>\n",
       "      <th>Central African Republic</th>\n",
       "      <td>888</td>\n",
       "      <td>911</td>\n",
       "      <td>946</td>\n",
       "      <td>597</td>\n",
       "      <td>601</td>\n",
       "      <td>-0.323198</td>\n",
       "    </tr>\n",
       "    <tr>\n",
       "      <th>Lebanon</th>\n",
       "      <td>16281</td>\n",
       "      <td>15694</td>\n",
       "      <td>14970</td>\n",
       "      <td>14074</td>\n",
       "      <td>13491</td>\n",
       "      <td>-0.171365</td>\n",
       "    </tr>\n",
       "    <tr>\n",
       "      <th>Greece</th>\n",
       "      <td>28726</td>\n",
       "      <td>26141</td>\n",
       "      <td>24364</td>\n",
       "      <td>23746</td>\n",
       "      <td>23989</td>\n",
       "      <td>-0.164903</td>\n",
       "    </tr>\n",
       "    <tr>\n",
       "      <th>Yemen, Rep.</th>\n",
       "      <td>4478</td>\n",
       "      <td>3805</td>\n",
       "      <td>3793</td>\n",
       "      <td>3872</td>\n",
       "      <td>3766</td>\n",
       "      <td>-0.159000</td>\n",
       "    </tr>\n",
       "    <tr>\n",
       "      <th>China</th>\n",
       "      <td>9525</td>\n",
       "      <td>10384</td>\n",
       "      <td>11145</td>\n",
       "      <td>11951</td>\n",
       "      <td>12758</td>\n",
       "      <td>0.339423</td>\n",
       "    </tr>\n",
       "    <tr>\n",
       "      <th>Sierra Leone</th>\n",
       "      <td>1217</td>\n",
       "      <td>1246</td>\n",
       "      <td>1402</td>\n",
       "      <td>1655</td>\n",
       "      <td>1692</td>\n",
       "      <td>0.390304</td>\n",
       "    </tr>\n",
       "    <tr>\n",
       "      <th>Turkmenistan</th>\n",
       "      <td>9942</td>\n",
       "      <td>11212</td>\n",
       "      <td>12235</td>\n",
       "      <td>13236</td>\n",
       "      <td>14332</td>\n",
       "      <td>0.441561</td>\n",
       "    </tr>\n",
       "    <tr>\n",
       "      <th>Mongolia</th>\n",
       "      <td>7708</td>\n",
       "      <td>8881</td>\n",
       "      <td>9788</td>\n",
       "      <td>10720</td>\n",
       "      <td>11348</td>\n",
       "      <td>0.472237</td>\n",
       "    </tr>\n",
       "    <tr>\n",
       "      <th>Nauru</th>\n",
       "      <td>6592</td>\n",
       "      <td>7339</td>\n",
       "      <td>7905</td>\n",
       "      <td>10078</td>\n",
       "      <td>12561</td>\n",
       "      <td>0.905492</td>\n",
       "    </tr>\n",
       "  </tbody>\n",
       "</table>\n",
       "</div>"
      ],
      "text/plain": [
       "year                       2010   2011   2012   2013   2014  5yr_change\n",
       "country                                                                \n",
       "South Sudan                3789   3482   1813   1985   1989   -0.475059\n",
       "Central African Republic    888    911    946    597    601   -0.323198\n",
       "Lebanon                   16281  15694  14970  14074  13491   -0.171365\n",
       "Greece                    28726  26141  24364  23746  23989   -0.164903\n",
       "Yemen, Rep.                4478   3805   3793   3872   3766   -0.159000\n",
       "China                      9525  10384  11145  11951  12758    0.339423\n",
       "Sierra Leone               1217   1246   1402   1655   1692    0.390304\n",
       "Turkmenistan               9942  11212  12235  13236  14332    0.441561\n",
       "Mongolia                   7708   8881   9788  10720  11348    0.472237\n",
       "Nauru                      6592   7339   7905  10078  12561    0.905492"
      ]
     },
     "execution_count": 5,
     "metadata": {},
     "output_type": "execute_result"
    }
   ],
   "source": [
    "df.columns = df.columns.levels[1]\n",
    "df = df.dropna(how=\"any\")\n",
    "df = df.astype(int)\n",
    "df[\"5yr_change\"] = (df[\"2014\"]-df[\"2010\"])/df[\"2010\"]\n",
    "df = df.sort_values(\"5yr_change\")\n",
    "df_selected = df.head().append(df.tail())\n",
    "df_selected"
   ]
  },
  {
   "cell_type": "markdown",
   "metadata": {},
   "source": [
    "Convert DataFrame to a format understood by c3:"
   ]
  },
  {
   "cell_type": "code",
   "execution_count": 6,
   "metadata": {
    "collapsed": true
   },
   "outputs": [],
   "source": [
    "def df2c3(df):\n",
    "    import numpy as np\n",
    "    data = {}\n",
    "    categories = list(df.index.values)\n",
    "    columns = []\n",
    "    for col in df.columns:\n",
    "        this_col = [col]\n",
    "        this_col.extend(list(df[col].values))\n",
    "        columns.append(this_col)\n",
    "    data[\"columns\"] = columns\n",
    "    data[\"categories\"] = categories\n",
    "    return data"
   ]
  },
  {
   "cell_type": "code",
   "execution_count": 7,
   "metadata": {
    "collapsed": true
   },
   "outputs": [],
   "source": [
    "viz_data = df2c3(df_selected[['2010', '2011', '2012', '2013', '2014']].sort_values(\"2014\", ascending=False).T)"
   ]
  },
  {
   "cell_type": "code",
   "execution_count": 8,
   "metadata": {},
   "outputs": [
    {
     "data": {
      "text/plain": [
       "{'categories': ['2010', '2011', '2012', '2013', '2014'],\n",
       " 'columns': [['Greece', 28726, 26141, 24364, 23746, 23989],\n",
       "  ['Turkmenistan', 9942, 11212, 12235, 13236, 14332],\n",
       "  ['Lebanon', 16281, 15694, 14970, 14074, 13491],\n",
       "  ['China', 9525, 10384, 11145, 11951, 12758],\n",
       "  ['Nauru', 6592, 7339, 7905, 10078, 12561],\n",
       "  ['Mongolia', 7708, 8881, 9788, 10720, 11348],\n",
       "  ['Yemen, Rep.', 4478, 3805, 3793, 3872, 3766],\n",
       "  ['South Sudan', 3789, 3482, 1813, 1985, 1989],\n",
       "  ['Sierra Leone', 1217, 1246, 1402, 1655, 1692],\n",
       "  ['Central African Republic', 888, 911, 946, 597, 601]]}"
      ]
     },
     "execution_count": 8,
     "metadata": {},
     "output_type": "execute_result"
    }
   ],
   "source": [
    "viz_data"
   ]
  },
  {
   "cell_type": "markdown",
   "metadata": {},
   "source": [
    "Load d3 and c3 JavaScript Libraries:"
   ]
  },
  {
   "cell_type": "code",
   "execution_count": 9,
   "metadata": {},
   "outputs": [
    {
     "data": {
      "application/javascript": [
       "require.config({\n",
       "   baseUrl: \"\",\n",
       "   paths: { \n",
       "            d3: '//cdnjs.cloudflare.com/ajax/libs/d3/3.4.8/d3.min',\n",
       "            c3: \"//cdnjs.cloudflare.com/ajax/libs/c3/0.4.10/c3.min\"\n",
       "          }\n",
       "});"
      ],
      "text/plain": [
       "<IPython.core.display.Javascript object>"
      ]
     },
     "metadata": {},
     "output_type": "display_data"
    }
   ],
   "source": [
    "%%javascript\n",
    "require.config({\n",
    "   baseUrl: \"\",\n",
    "   paths: { \n",
    "            d3: '//cdnjs.cloudflare.com/ajax/libs/d3/3.4.8/d3.min',\n",
    "            c3: \"//cdnjs.cloudflare.com/ajax/libs/c3/0.4.10/c3.min\"\n",
    "          }\n",
    "});"
   ]
  },
  {
   "cell_type": "code",
   "execution_count": 10,
   "metadata": {},
   "outputs": [
    {
     "data": {
      "application/javascript": [
       "require([\"d3\", \"c3\"], function(d3, c3) {\n",
       "    window.d3 = d3;\n",
       "    window.c3 = c3;\n",
       "});"
      ],
      "text/plain": [
       "<IPython.core.display.Javascript object>"
      ]
     },
     "metadata": {},
     "output_type": "display_data"
    }
   ],
   "source": [
    "%%javascript\n",
    "require([\"d3\", \"c3\"], function(d3, c3) {\n",
    "    window.d3 = d3;\n",
    "    window.c3 = c3;\n",
    "});"
   ]
  },
  {
   "cell_type": "markdown",
   "metadata": {},
   "source": [
    "Pass Python viz_data object to JavaScript:"
   ]
  },
  {
   "cell_type": "code",
   "execution_count": 11,
   "metadata": {},
   "outputs": [
    {
     "data": {
      "application/javascript": [
       "\n",
       "           window.viz_data={'columns': [['Greece', 28726, 26141, 24364, 23746, 23989], ['Turkmenistan', 9942, 11212, 12235, 13236, 14332], ['Lebanon', 16281, 15694, 14970, 14074, 13491], ['China', 9525, 10384, 11145, 11951, 12758], ['Nauru', 6592, 7339, 7905, 10078, 12561], ['Mongolia', 7708, 8881, 9788, 10720, 11348], ['Yemen, Rep.', 4478, 3805, 3793, 3872, 3766], ['South Sudan', 3789, 3482, 1813, 1985, 1989], ['Sierra Leone', 1217, 1246, 1402, 1655, 1692], ['Central African Republic', 888, 911, 946, 597, 601]], 'categories': ['2010', '2011', '2012', '2013', '2014']};\n",
       "           "
      ],
      "text/plain": [
       "<IPython.core.display.Javascript object>"
      ]
     },
     "execution_count": 11,
     "metadata": {},
     "output_type": "execute_result"
    }
   ],
   "source": [
    "Javascript(\"\"\"\n",
    "           window.viz_data={viz_data};\n",
    "           \"\"\".format(viz_data=viz_data))"
   ]
  },
  {
   "cell_type": "markdown",
   "metadata": {},
   "source": [
    "Add c3 styles and prepare div tag for chart:"
   ]
  },
  {
   "cell_type": "code",
   "execution_count": 12,
   "metadata": {},
   "outputs": [
    {
     "data": {
      "application/javascript": [
       "$(\"head\").append('<link href=\"https://cdnjs.cloudflare.com/ajax/libs/c3/0.4.10/c3.min.css\" rel=\"stylesheet\" />');\n",
       "$(\"head\").append('<style>.c3-line { stroke-width: 3px; }</style>');"
      ],
      "text/plain": [
       "<IPython.core.display.Javascript object>"
      ]
     },
     "metadata": {},
     "output_type": "display_data"
    }
   ],
   "source": [
    "%%javascript\n",
    "$(\"head\").append('<link href=\"https://cdnjs.cloudflare.com/ajax/libs/c3/0.4.10/c3.min.css\" rel=\"stylesheet\" />');\n",
    "$(\"head\").append('<style>.c3-line { stroke-width: 3px; }</style>');"
   ]
  },
  {
   "cell_type": "code",
   "execution_count": 13,
   "metadata": {},
   "outputs": [
    {
     "data": {
      "application/javascript": [
       "$(\"#chart1\").remove();\n",
       "element.append(\"<h4>GDP Per Capita 2010-2014 Growth - Top 5 and Bottom 5 Countries Line Chart</h4> \\\n",
       "               <div id='chart1'></div>\");"
      ],
      "text/plain": [
       "<IPython.core.display.Javascript object>"
      ]
     },
     "metadata": {},
     "output_type": "display_data"
    }
   ],
   "source": [
    "%%javascript\n",
    "$(\"#chart1\").remove();\n",
    "element.append(\"<h4>GDP Per Capita 2010-2014 Growth - Top 5 and Bottom 5 Countries Line Chart</h4> \\\n",
    "               <div id='chart1'></div>\");"
   ]
  },
  {
   "cell_type": "markdown",
   "metadata": {},
   "source": [
    "Draw a Chart in the output cell above:"
   ]
  },
  {
   "cell_type": "code",
   "execution_count": 14,
   "metadata": {},
   "outputs": [
    {
     "data": {
      "application/javascript": [
       "var chart = c3.generate({\n",
       "    bindto: \"#chart1\",\n",
       "    size: {height: 480 },\n",
       "    data: {\n",
       "        columns: viz_data[\"columns\"],\n",
       "        type:\"spline\"\n",
       "    },\n",
       "    axis: {\n",
       "            x: {\n",
       "                type:\"category\",\n",
       "                categories: viz_data[\"categories\"]\n",
       "              }\n",
       "          },\n",
       "    grid: {\n",
       "            x: {show: true},\n",
       "            y: { show: true}\n",
       "        }       \n",
       "});"
      ],
      "text/plain": [
       "<IPython.core.display.Javascript object>"
      ]
     },
     "metadata": {},
     "output_type": "display_data"
    }
   ],
   "source": [
    "%%javascript\n",
    "var chart = c3.generate({\n",
    "    bindto: \"#chart1\",\n",
    "    size: {height: 480 },\n",
    "    data: {\n",
    "        columns: viz_data[\"columns\"],\n",
    "        type:\"spline\"\n",
    "    },\n",
    "    axis: {\n",
    "            x: {\n",
    "                type:\"category\",\n",
    "                categories: viz_data[\"categories\"]\n",
    "              }\n",
    "          },\n",
    "    grid: {\n",
    "            x: {show: true},\n",
    "            y: { show: true}\n",
    "        }       \n",
    "});"
   ]
  },
  {
   "cell_type": "code",
   "execution_count": null,
   "metadata": {
    "collapsed": true
   },
   "outputs": [],
   "source": []
  },
  {
   "cell_type": "code",
   "execution_count": 15,
   "metadata": {},
   "outputs": [
    {
     "data": {
      "application/javascript": [
       "$(\"#chart2\").remove();\n",
       "element.append(\"<h4>http://c3js.org/samples/chart_scatter.html</h4> \\\n",
       "               <div id='chart2'></div>\");"
      ],
      "text/plain": [
       "<IPython.core.display.Javascript object>"
      ]
     },
     "metadata": {},
     "output_type": "display_data"
    }
   ],
   "source": [
    "%%javascript\n",
    "$(\"#chart2\").remove();\n",
    "element.append(\"<h4>http://c3js.org/samples/chart_scatter.html</h4> \\\n",
    "               <div id='chart2'></div>\");"
   ]
  },
  {
   "cell_type": "code",
   "execution_count": 16,
   "metadata": {},
   "outputs": [
    {
     "data": {
      "application/javascript": [
       "var chart2 = c3.generate({\n",
       "    bindto: \"#chart2\",\n",
       "    size: {height: 480 },\n",
       "    data: {\n",
       "        xs: {\n",
       "            setosa: 'setosa_x',\n",
       "            versicolor: 'versicolor_x',\n",
       "        },\n",
       "        // iris data from R\n",
       "        columns: [\n",
       "            [\"setosa_x\", 3.5, 3.0, 3.2, 3.1, 3.6, 3.9, 3.4, 3.4, 2.9, 3.1, 3.7, 3.4, 3.0, 3.0, 4.0, 4.4, 3.9, 3.5, 3.8, 3.8, 3.4, 3.7, 3.6, 3.3, 3.4, 3.0, 3.4, 3.5, 3.4, 3.2, 3.1, 3.4, 4.1, 4.2, 3.1, 3.2, 3.5, 3.6, 3.0, 3.4, 3.5, 2.3, 3.2, 3.5, 3.8, 3.0, 3.8, 3.2, 3.7, 3.3],\n",
       "            [\"versicolor_x\", 3.2, 3.2, 3.1, 2.3, 2.8, 2.8, 3.3, 2.4, 2.9, 2.7, 2.0, 3.0, 2.2, 2.9, 2.9, 3.1, 3.0, 2.7, 2.2, 2.5, 3.2, 2.8, 2.5, 2.8, 2.9, 3.0, 2.8, 3.0, 2.9, 2.6, 2.4, 2.4, 2.7, 2.7, 3.0, 3.4, 3.1, 2.3, 3.0, 2.5, 2.6, 3.0, 2.6, 2.3, 2.7, 3.0, 2.9, 2.9, 2.5, 2.8],\n",
       "            [\"setosa\", 0.2, 0.2, 0.2, 0.2, 0.2, 0.4, 0.3, 0.2, 0.2, 0.1, 0.2, 0.2, 0.1, 0.1, 0.2, 0.4, 0.4, 0.3, 0.3, 0.3, 0.2, 0.4, 0.2, 0.5, 0.2, 0.2, 0.4, 0.2, 0.2, 0.2, 0.2, 0.4, 0.1, 0.2, 0.2, 0.2, 0.2, 0.1, 0.2, 0.2, 0.3, 0.3, 0.2, 0.6, 0.4, 0.3, 0.2, 0.2, 0.2, 0.2],\n",
       "            [\"versicolor\", 1.4, 1.5, 1.5, 1.3, 1.5, 1.3, 1.6, 1.0, 1.3, 1.4, 1.0, 1.5, 1.0, 1.4, 1.3, 1.4, 1.5, 1.0, 1.5, 1.1, 1.8, 1.3, 1.5, 1.2, 1.3, 1.4, 1.4, 1.7, 1.5, 1.0, 1.1, 1.0, 1.2, 1.6, 1.5, 1.6, 1.5, 1.3, 1.3, 1.3, 1.2, 1.4, 1.2, 1.0, 1.3, 1.2, 1.3, 1.3, 1.1, 1.3],\n",
       "        ],\n",
       "        type: 'scatter'\n",
       "    },\n",
       "    axis: {\n",
       "        x: {\n",
       "            label: 'Sepal.Width',\n",
       "            tick: {\n",
       "                fit: false\n",
       "            }\n",
       "        },\n",
       "        y: {\n",
       "            label: 'Petal.Width'\n",
       "        }\n",
       "    }\n",
       "});\n",
       "\n",
       "setTimeout(function () {\n",
       "    chart2.load({\n",
       "        xs: {\n",
       "            virginica: 'virginica_x'\n",
       "        },\n",
       "        columns: [\n",
       "            [\"virginica_x\", 3.3, 2.7, 3.0, 2.9, 3.0, 3.0, 2.5, 2.9, 2.5, 3.6, 3.2, 2.7, 3.0, 2.5, 2.8, 3.2, 3.0, 3.8, 2.6, 2.2, 3.2, 2.8, 2.8, 2.7, 3.3, 3.2, 2.8, 3.0, 2.8, 3.0, 2.8, 3.8, 2.8, 2.8, 2.6, 3.0, 3.4, 3.1, 3.0, 3.1, 3.1, 3.1, 2.7, 3.2, 3.3, 3.0, 2.5, 3.0, 3.4, 3.0],\n",
       "            [\"virginica\", 2.5, 1.9, 2.1, 1.8, 2.2, 2.1, 1.7, 1.8, 1.8, 2.5, 2.0, 1.9, 2.1, 2.0, 2.4, 2.3, 1.8, 2.2, 2.3, 1.5, 2.3, 2.0, 2.0, 1.8, 2.1, 1.8, 1.8, 1.8, 2.1, 1.6, 1.9, 2.0, 2.2, 1.5, 1.4, 2.3, 2.4, 1.8, 1.8, 2.1, 2.4, 2.3, 1.9, 2.3, 2.5, 2.3, 1.9, 2.0, 2.3, 1.8],\n",
       "        ]\n",
       "    });\n",
       "}, 1000);\n",
       "\n",
       "setTimeout(function () {\n",
       "    chart2.unload({\n",
       "        ids: 'setosa'\n",
       "    });\n",
       "}, 2000);\n",
       "\n",
       "setTimeout(function () {\n",
       "    chart2.load({\n",
       "        columns: [\n",
       "            [\"virginica\", 0.2, 0.2, 0.2, 0.2, 0.2, 0.4, 0.3, 0.2, 0.2, 0.1, 0.2, 0.2, 0.1, 0.1, 0.2, 0.4, 0.4, 0.3, 0.3, 0.3, 0.2, 0.4, 0.2, 0.5, 0.2, 0.2, 0.4, 0.2, 0.2, 0.2, 0.2, 0.4, 0.1, 0.2, 0.2, 0.2, 0.2, 0.1, 0.2, 0.2, 0.3, 0.3, 0.2, 0.6, 0.4, 0.3, 0.2, 0.2, 0.2, 0.2],\n",
       "        ]\n",
       "    });\n",
       "}, 3000);"
      ],
      "text/plain": [
       "<IPython.core.display.Javascript object>"
      ]
     },
     "metadata": {},
     "output_type": "display_data"
    }
   ],
   "source": [
    "%%javascript\n",
    "var chart2 = c3.generate({\n",
    "    bindto: \"#chart2\",\n",
    "    size: {height: 480 },\n",
    "    data: {\n",
    "        xs: {\n",
    "            setosa: 'setosa_x',\n",
    "            versicolor: 'versicolor_x',\n",
    "        },\n",
    "        // iris data from R\n",
    "        columns: [\n",
    "            [\"setosa_x\", 3.5, 3.0, 3.2, 3.1, 3.6, 3.9, 3.4, 3.4, 2.9, 3.1, 3.7, 3.4, 3.0, 3.0, 4.0, 4.4, 3.9, 3.5, 3.8, 3.8, 3.4, 3.7, 3.6, 3.3, 3.4, 3.0, 3.4, 3.5, 3.4, 3.2, 3.1, 3.4, 4.1, 4.2, 3.1, 3.2, 3.5, 3.6, 3.0, 3.4, 3.5, 2.3, 3.2, 3.5, 3.8, 3.0, 3.8, 3.2, 3.7, 3.3],\n",
    "            [\"versicolor_x\", 3.2, 3.2, 3.1, 2.3, 2.8, 2.8, 3.3, 2.4, 2.9, 2.7, 2.0, 3.0, 2.2, 2.9, 2.9, 3.1, 3.0, 2.7, 2.2, 2.5, 3.2, 2.8, 2.5, 2.8, 2.9, 3.0, 2.8, 3.0, 2.9, 2.6, 2.4, 2.4, 2.7, 2.7, 3.0, 3.4, 3.1, 2.3, 3.0, 2.5, 2.6, 3.0, 2.6, 2.3, 2.7, 3.0, 2.9, 2.9, 2.5, 2.8],\n",
    "            [\"setosa\", 0.2, 0.2, 0.2, 0.2, 0.2, 0.4, 0.3, 0.2, 0.2, 0.1, 0.2, 0.2, 0.1, 0.1, 0.2, 0.4, 0.4, 0.3, 0.3, 0.3, 0.2, 0.4, 0.2, 0.5, 0.2, 0.2, 0.4, 0.2, 0.2, 0.2, 0.2, 0.4, 0.1, 0.2, 0.2, 0.2, 0.2, 0.1, 0.2, 0.2, 0.3, 0.3, 0.2, 0.6, 0.4, 0.3, 0.2, 0.2, 0.2, 0.2],\n",
    "            [\"versicolor\", 1.4, 1.5, 1.5, 1.3, 1.5, 1.3, 1.6, 1.0, 1.3, 1.4, 1.0, 1.5, 1.0, 1.4, 1.3, 1.4, 1.5, 1.0, 1.5, 1.1, 1.8, 1.3, 1.5, 1.2, 1.3, 1.4, 1.4, 1.7, 1.5, 1.0, 1.1, 1.0, 1.2, 1.6, 1.5, 1.6, 1.5, 1.3, 1.3, 1.3, 1.2, 1.4, 1.2, 1.0, 1.3, 1.2, 1.3, 1.3, 1.1, 1.3],\n",
    "        ],\n",
    "        type: 'scatter'\n",
    "    },\n",
    "    axis: {\n",
    "        x: {\n",
    "            label: 'Sepal.Width',\n",
    "            tick: {\n",
    "                fit: false\n",
    "            }\n",
    "        },\n",
    "        y: {\n",
    "            label: 'Petal.Width'\n",
    "        }\n",
    "    }\n",
    "});\n",
    "\n",
    "setTimeout(function () {\n",
    "    chart2.load({\n",
    "        xs: {\n",
    "            virginica: 'virginica_x'\n",
    "        },\n",
    "        columns: [\n",
    "            [\"virginica_x\", 3.3, 2.7, 3.0, 2.9, 3.0, 3.0, 2.5, 2.9, 2.5, 3.6, 3.2, 2.7, 3.0, 2.5, 2.8, 3.2, 3.0, 3.8, 2.6, 2.2, 3.2, 2.8, 2.8, 2.7, 3.3, 3.2, 2.8, 3.0, 2.8, 3.0, 2.8, 3.8, 2.8, 2.8, 2.6, 3.0, 3.4, 3.1, 3.0, 3.1, 3.1, 3.1, 2.7, 3.2, 3.3, 3.0, 2.5, 3.0, 3.4, 3.0],\n",
    "            [\"virginica\", 2.5, 1.9, 2.1, 1.8, 2.2, 2.1, 1.7, 1.8, 1.8, 2.5, 2.0, 1.9, 2.1, 2.0, 2.4, 2.3, 1.8, 2.2, 2.3, 1.5, 2.3, 2.0, 2.0, 1.8, 2.1, 1.8, 1.8, 1.8, 2.1, 1.6, 1.9, 2.0, 2.2, 1.5, 1.4, 2.3, 2.4, 1.8, 1.8, 2.1, 2.4, 2.3, 1.9, 2.3, 2.5, 2.3, 1.9, 2.0, 2.3, 1.8],\n",
    "        ]\n",
    "    });\n",
    "}, 1000);\n",
    "\n",
    "setTimeout(function () {\n",
    "    chart2.unload({\n",
    "        ids: 'setosa'\n",
    "    });\n",
    "}, 2000);\n",
    "\n",
    "setTimeout(function () {\n",
    "    chart2.load({\n",
    "        columns: [\n",
    "            [\"virginica\", 0.2, 0.2, 0.2, 0.2, 0.2, 0.4, 0.3, 0.2, 0.2, 0.1, 0.2, 0.2, 0.1, 0.1, 0.2, 0.4, 0.4, 0.3, 0.3, 0.3, 0.2, 0.4, 0.2, 0.5, 0.2, 0.2, 0.4, 0.2, 0.2, 0.2, 0.2, 0.4, 0.1, 0.2, 0.2, 0.2, 0.2, 0.1, 0.2, 0.2, 0.3, 0.3, 0.2, 0.6, 0.4, 0.3, 0.2, 0.2, 0.2, 0.2],\n",
    "        ]\n",
    "    });\n",
    "}, 3000);"
   ]
  },
  {
   "cell_type": "code",
   "execution_count": 17,
   "metadata": {},
   "outputs": [
    {
     "data": {
      "application/javascript": [
       "$(\"#chart3\").remove();\n",
       "element.append(\"<h4>http://c3js.org/samples/chart_gauge.html</h4> \\\n",
       "               <div id='chart3'></div>\");"
      ],
      "text/plain": [
       "<IPython.core.display.Javascript object>"
      ]
     },
     "metadata": {},
     "output_type": "display_data"
    }
   ],
   "source": [
    "%%javascript\n",
    "$(\"#chart3\").remove();\n",
    "element.append(\"<h4>http://c3js.org/samples/chart_gauge.html</h4> \\\n",
    "               <div id='chart3'></div>\");"
   ]
  },
  {
   "cell_type": "code",
   "execution_count": 18,
   "metadata": {},
   "outputs": [
    {
     "data": {
      "application/javascript": [
       "var chart3 = c3.generate({\n",
       "    bindto: \"#chart3\",\n",
       "    size: {height: 280 },\n",
       "    data: {\n",
       "        columns: [\n",
       "            ['data', 91.4]\n",
       "        ],\n",
       "        type: 'gauge',\n",
       "        onclick: function (d, i) { console.log(\"onclick\", d, i); },\n",
       "        onmouseover: function (d, i) { console.log(\"onmouseover\", d, i); },\n",
       "        onmouseout: function (d, i) { console.log(\"onmouseout\", d, i); }\n",
       "    },\n",
       "    gauge: {\n",
       "//        label: {\n",
       "//            format: function(value, ratio) {\n",
       "//                return value;\n",
       "//            },\n",
       "//            show: false // to turn off the min/max labels.\n",
       "//        },\n",
       "//    min: 0, // 0 is default, //can handle negative min e.g. vacuum / voltage / current flow / rate of change\n",
       "//    max: 100, // 100 is default\n",
       "//    units: ' %',\n",
       "//    width: 39 // for adjusting arc thickness\n",
       "    },\n",
       "    color: {\n",
       "        pattern: ['#FF0000', '#F97600', '#F6C600', '#60B044'], // the three color levels for the percentage values.\n",
       "        threshold: {\n",
       "//            unit: 'value', // percentage is default\n",
       "//            max: 200, // 100 is default\n",
       "            values: [30, 60, 90, 100]\n",
       "        }\n",
       "    },\n",
       "    size: {\n",
       "        height: 180\n",
       "    }\n",
       "});\n",
       "\n",
       "setTimeout(function () {\n",
       "    chart3.load({\n",
       "        columns: [['data', 10]]\n",
       "    });\n",
       "}, 1000);\n",
       "\n",
       "setTimeout(function () {\n",
       "    chart3.load({\n",
       "        columns: [['data', 50]]\n",
       "    });\n",
       "}, 2000);\n",
       "\n",
       "setTimeout(function () {\n",
       "    chart3.load({\n",
       "        columns: [['data', 70]]\n",
       "    });\n",
       "}, 3000);\n",
       "\n",
       "setTimeout(function () {\n",
       "    chart3.load({\n",
       "        columns: [['data', 0]]\n",
       "    });\n",
       "}, 4000);\n",
       "\n",
       "setTimeout(function () {\n",
       "    chart3.load({\n",
       "        columns: [['data', 100]]\n",
       "    });\n",
       "}, 5000);"
      ],
      "text/plain": [
       "<IPython.core.display.Javascript object>"
      ]
     },
     "metadata": {},
     "output_type": "display_data"
    }
   ],
   "source": [
    "%%javascript\n",
    "var chart3 = c3.generate({\n",
    "    bindto: \"#chart3\",\n",
    "    size: {height: 280 },\n",
    "    data: {\n",
    "        columns: [\n",
    "            ['data', 91.4]\n",
    "        ],\n",
    "        type: 'gauge',\n",
    "        onclick: function (d, i) { console.log(\"onclick\", d, i); },\n",
    "        onmouseover: function (d, i) { console.log(\"onmouseover\", d, i); },\n",
    "        onmouseout: function (d, i) { console.log(\"onmouseout\", d, i); }\n",
    "    },\n",
    "    gauge: {\n",
    "//        label: {\n",
    "//            format: function(value, ratio) {\n",
    "//                return value;\n",
    "//            },\n",
    "//            show: false // to turn off the min/max labels.\n",
    "//        },\n",
    "//    min: 0, // 0 is default, //can handle negative min e.g. vacuum / voltage / current flow / rate of change\n",
    "//    max: 100, // 100 is default\n",
    "//    units: ' %',\n",
    "//    width: 39 // for adjusting arc thickness\n",
    "    },\n",
    "    color: {\n",
    "        pattern: ['#FF0000', '#F97600', '#F6C600', '#60B044'], // the three color levels for the percentage values.\n",
    "        threshold: {\n",
    "//            unit: 'value', // percentage is default\n",
    "//            max: 200, // 100 is default\n",
    "            values: [30, 60, 90, 100]\n",
    "        }\n",
    "    },\n",
    "    size: {\n",
    "        height: 180\n",
    "    }\n",
    "});\n",
    "\n",
    "setTimeout(function () {\n",
    "    chart3.load({\n",
    "        columns: [['data', 10]]\n",
    "    });\n",
    "}, 1000);\n",
    "\n",
    "setTimeout(function () {\n",
    "    chart3.load({\n",
    "        columns: [['data', 50]]\n",
    "    });\n",
    "}, 2000);\n",
    "\n",
    "setTimeout(function () {\n",
    "    chart3.load({\n",
    "        columns: [['data', 70]]\n",
    "    });\n",
    "}, 3000);\n",
    "\n",
    "setTimeout(function () {\n",
    "    chart3.load({\n",
    "        columns: [['data', 0]]\n",
    "    });\n",
    "}, 4000);\n",
    "\n",
    "setTimeout(function () {\n",
    "    chart3.load({\n",
    "        columns: [['data', 100]]\n",
    "    });\n",
    "}, 5000);"
   ]
  },
  {
   "cell_type": "code",
   "execution_count": null,
   "metadata": {
    "collapsed": true
   },
   "outputs": [],
   "source": []
  },
  {
   "cell_type": "code",
   "execution_count": 19,
   "metadata": {},
   "outputs": [
    {
     "data": {
      "application/javascript": [
       "$(\"#chart4\").remove();\n",
       "element.append(\"<h4>http://c3js.org/samples/options_subchart.html</h4> \\\n",
       "               <div id='chart4'></div>\");"
      ],
      "text/plain": [
       "<IPython.core.display.Javascript object>"
      ]
     },
     "metadata": {},
     "output_type": "display_data"
    }
   ],
   "source": [
    "%%javascript\n",
    "$(\"#chart4\").remove();\n",
    "element.append(\"<h4>http://c3js.org/samples/options_subchart.html</h4> \\\n",
    "               <div id='chart4'></div>\");"
   ]
  },
  {
   "cell_type": "code",
   "execution_count": 20,
   "metadata": {},
   "outputs": [
    {
     "data": {
      "application/javascript": [
       "var chart4 = c3.generate({\n",
       "    bindto: \"#chart4\",\n",
       "    size: {height: 280 },\n",
       "    data: {\n",
       "        columns: [\n",
       "            ['sample', 30, 200, 100, 400, 150, 250]\n",
       "        ]\n",
       "    },\n",
       "    subchart: {\n",
       "        show: true\n",
       "    }\n",
       "});"
      ],
      "text/plain": [
       "<IPython.core.display.Javascript object>"
      ]
     },
     "metadata": {},
     "output_type": "display_data"
    }
   ],
   "source": [
    "%%javascript\n",
    "var chart4 = c3.generate({\n",
    "    bindto: \"#chart4\",\n",
    "    size: {height: 280 },\n",
    "    data: {\n",
    "        columns: [\n",
    "            ['sample', 30, 200, 100, 400, 150, 250]\n",
    "        ]\n",
    "    },\n",
    "    subchart: {\n",
    "        show: true\n",
    "    }\n",
    "});"
   ]
  },
  {
   "cell_type": "code",
   "execution_count": 262,
   "metadata": {
    "scrolled": true
   },
   "outputs": [
    {
     "name": "stdout",
     "output_type": "stream",
     "text": [
      "   sepalLength  sepalWidth  petalLength  petalWidth species\n",
      "0          5.1         3.5          1.4         0.2  setosa\n",
      "1          4.9         3.0          1.4         0.2  setosa\n",
      "2          4.7         3.2          1.3         0.2  setosa\n",
      "3          4.6         3.1          1.5         0.2  setosa\n",
      "4          5.0         3.6          1.4         0.2  setosa\n",
      "Index(['sepalLength', 'sepalWidth', 'petalLength', 'petalWidth', 'species'], dtype='object')\n"
     ]
    }
   ],
   "source": [
    "from pandas import DataFrame;\n",
    "df_irisData = DataFrame.from_csv('data.tsv', sep='\\t', index_col=None);\n",
    "print(df_irisData.head());\n",
    "print(df_irisData.columns)\n",
    "viz_irisData = df_irisData.to_json(orient=\"records\");\n"
   ]
  },
  {
   "cell_type": "code",
   "execution_count": 263,
   "metadata": {},
   "outputs": [
    {
     "data": {
      "application/javascript": [
       "\n",
       "           window.viz_irisData=[{\"sepalLength\":5.1,\"sepalWidth\":3.5,\"petalLength\":1.4,\"petalWidth\":0.2,\"species\":\"setosa\"},{\"sepalLength\":4.9,\"sepalWidth\":3.0,\"petalLength\":1.4,\"petalWidth\":0.2,\"species\":\"setosa\"},{\"sepalLength\":4.7,\"sepalWidth\":3.2,\"petalLength\":1.3,\"petalWidth\":0.2,\"species\":\"setosa\"},{\"sepalLength\":4.6,\"sepalWidth\":3.1,\"petalLength\":1.5,\"petalWidth\":0.2,\"species\":\"setosa\"},{\"sepalLength\":5.0,\"sepalWidth\":3.6,\"petalLength\":1.4,\"petalWidth\":0.2,\"species\":\"setosa\"},{\"sepalLength\":5.4,\"sepalWidth\":3.9,\"petalLength\":1.7,\"petalWidth\":0.4,\"species\":\"setosa\"},{\"sepalLength\":4.6,\"sepalWidth\":3.4,\"petalLength\":1.4,\"petalWidth\":0.3,\"species\":\"setosa\"},{\"sepalLength\":5.0,\"sepalWidth\":3.4,\"petalLength\":1.5,\"petalWidth\":0.2,\"species\":\"setosa\"},{\"sepalLength\":4.4,\"sepalWidth\":2.9,\"petalLength\":1.4,\"petalWidth\":0.2,\"species\":\"setosa\"},{\"sepalLength\":4.9,\"sepalWidth\":3.1,\"petalLength\":1.5,\"petalWidth\":0.1,\"species\":\"setosa\"},{\"sepalLength\":5.4,\"sepalWidth\":3.7,\"petalLength\":1.5,\"petalWidth\":0.2,\"species\":\"setosa\"},{\"sepalLength\":4.8,\"sepalWidth\":3.4,\"petalLength\":1.6,\"petalWidth\":0.2,\"species\":\"setosa\"},{\"sepalLength\":4.8,\"sepalWidth\":3.0,\"petalLength\":1.4,\"petalWidth\":0.1,\"species\":\"setosa\"},{\"sepalLength\":4.3,\"sepalWidth\":3.0,\"petalLength\":1.1,\"petalWidth\":0.1,\"species\":\"setosa\"},{\"sepalLength\":5.8,\"sepalWidth\":4.0,\"petalLength\":1.2,\"petalWidth\":0.2,\"species\":\"setosa\"},{\"sepalLength\":5.7,\"sepalWidth\":4.4,\"petalLength\":1.5,\"petalWidth\":0.4,\"species\":\"setosa\"},{\"sepalLength\":5.4,\"sepalWidth\":3.9,\"petalLength\":1.3,\"petalWidth\":0.4,\"species\":\"setosa\"},{\"sepalLength\":5.1,\"sepalWidth\":3.5,\"petalLength\":1.4,\"petalWidth\":0.3,\"species\":\"setosa\"},{\"sepalLength\":5.7,\"sepalWidth\":3.8,\"petalLength\":1.7,\"petalWidth\":0.3,\"species\":\"setosa\"},{\"sepalLength\":5.1,\"sepalWidth\":3.8,\"petalLength\":1.5,\"petalWidth\":0.3,\"species\":\"setosa\"},{\"sepalLength\":5.4,\"sepalWidth\":3.4,\"petalLength\":1.7,\"petalWidth\":0.2,\"species\":\"setosa\"},{\"sepalLength\":5.1,\"sepalWidth\":3.7,\"petalLength\":1.5,\"petalWidth\":0.4,\"species\":\"setosa\"},{\"sepalLength\":4.6,\"sepalWidth\":3.6,\"petalLength\":1.0,\"petalWidth\":0.2,\"species\":\"setosa\"},{\"sepalLength\":5.1,\"sepalWidth\":3.3,\"petalLength\":1.7,\"petalWidth\":0.5,\"species\":\"setosa\"},{\"sepalLength\":4.8,\"sepalWidth\":3.4,\"petalLength\":1.9,\"petalWidth\":0.2,\"species\":\"setosa\"},{\"sepalLength\":5.0,\"sepalWidth\":3.0,\"petalLength\":1.6,\"petalWidth\":0.2,\"species\":\"setosa\"},{\"sepalLength\":5.0,\"sepalWidth\":3.4,\"petalLength\":1.6,\"petalWidth\":0.4,\"species\":\"setosa\"},{\"sepalLength\":5.2,\"sepalWidth\":3.5,\"petalLength\":1.5,\"petalWidth\":0.2,\"species\":\"setosa\"},{\"sepalLength\":5.2,\"sepalWidth\":3.4,\"petalLength\":1.4,\"petalWidth\":0.2,\"species\":\"setosa\"},{\"sepalLength\":4.7,\"sepalWidth\":3.2,\"petalLength\":1.6,\"petalWidth\":0.2,\"species\":\"setosa\"},{\"sepalLength\":4.8,\"sepalWidth\":3.1,\"petalLength\":1.6,\"petalWidth\":0.2,\"species\":\"setosa\"},{\"sepalLength\":5.4,\"sepalWidth\":3.4,\"petalLength\":1.5,\"petalWidth\":0.4,\"species\":\"setosa\"},{\"sepalLength\":5.2,\"sepalWidth\":4.1,\"petalLength\":1.5,\"petalWidth\":0.1,\"species\":\"setosa\"},{\"sepalLength\":5.5,\"sepalWidth\":4.2,\"petalLength\":1.4,\"petalWidth\":0.2,\"species\":\"setosa\"},{\"sepalLength\":4.9,\"sepalWidth\":3.1,\"petalLength\":1.5,\"petalWidth\":0.2,\"species\":\"setosa\"},{\"sepalLength\":5.0,\"sepalWidth\":3.2,\"petalLength\":1.2,\"petalWidth\":0.2,\"species\":\"setosa\"},{\"sepalLength\":5.5,\"sepalWidth\":3.5,\"petalLength\":1.3,\"petalWidth\":0.2,\"species\":\"setosa\"},{\"sepalLength\":4.9,\"sepalWidth\":3.6,\"petalLength\":1.4,\"petalWidth\":0.1,\"species\":\"setosa\"},{\"sepalLength\":4.4,\"sepalWidth\":3.0,\"petalLength\":1.3,\"petalWidth\":0.2,\"species\":\"setosa\"},{\"sepalLength\":5.1,\"sepalWidth\":3.4,\"petalLength\":1.5,\"petalWidth\":0.2,\"species\":\"setosa\"},{\"sepalLength\":5.0,\"sepalWidth\":3.5,\"petalLength\":1.3,\"petalWidth\":0.3,\"species\":\"setosa\"},{\"sepalLength\":4.5,\"sepalWidth\":2.3,\"petalLength\":1.3,\"petalWidth\":0.3,\"species\":\"setosa\"},{\"sepalLength\":4.4,\"sepalWidth\":3.2,\"petalLength\":1.3,\"petalWidth\":0.2,\"species\":\"setosa\"},{\"sepalLength\":5.0,\"sepalWidth\":3.5,\"petalLength\":1.6,\"petalWidth\":0.6,\"species\":\"setosa\"},{\"sepalLength\":5.1,\"sepalWidth\":3.8,\"petalLength\":1.9,\"petalWidth\":0.4,\"species\":\"setosa\"},{\"sepalLength\":4.8,\"sepalWidth\":3.0,\"petalLength\":1.4,\"petalWidth\":0.3,\"species\":\"setosa\"},{\"sepalLength\":5.1,\"sepalWidth\":3.8,\"petalLength\":1.6,\"petalWidth\":0.2,\"species\":\"setosa\"},{\"sepalLength\":4.6,\"sepalWidth\":3.2,\"petalLength\":1.4,\"petalWidth\":0.2,\"species\":\"setosa\"},{\"sepalLength\":5.3,\"sepalWidth\":3.7,\"petalLength\":1.5,\"petalWidth\":0.2,\"species\":\"setosa\"},{\"sepalLength\":5.0,\"sepalWidth\":3.3,\"petalLength\":1.4,\"petalWidth\":0.2,\"species\":\"setosa\"},{\"sepalLength\":7.0,\"sepalWidth\":3.2,\"petalLength\":4.7,\"petalWidth\":1.4,\"species\":\"versicolor\"},{\"sepalLength\":6.4,\"sepalWidth\":3.2,\"petalLength\":4.5,\"petalWidth\":1.5,\"species\":\"versicolor\"},{\"sepalLength\":6.9,\"sepalWidth\":3.1,\"petalLength\":4.9,\"petalWidth\":1.5,\"species\":\"versicolor\"},{\"sepalLength\":5.5,\"sepalWidth\":2.3,\"petalLength\":4.0,\"petalWidth\":1.3,\"species\":\"versicolor\"},{\"sepalLength\":6.5,\"sepalWidth\":2.8,\"petalLength\":4.6,\"petalWidth\":1.5,\"species\":\"versicolor\"},{\"sepalLength\":5.7,\"sepalWidth\":2.8,\"petalLength\":4.5,\"petalWidth\":1.3,\"species\":\"versicolor\"},{\"sepalLength\":6.3,\"sepalWidth\":3.3,\"petalLength\":4.7,\"petalWidth\":1.6,\"species\":\"versicolor\"},{\"sepalLength\":4.9,\"sepalWidth\":2.4,\"petalLength\":3.3,\"petalWidth\":1.0,\"species\":\"versicolor\"},{\"sepalLength\":6.6,\"sepalWidth\":2.9,\"petalLength\":4.6,\"petalWidth\":1.3,\"species\":\"versicolor\"},{\"sepalLength\":5.2,\"sepalWidth\":2.7,\"petalLength\":3.9,\"petalWidth\":1.4,\"species\":\"versicolor\"},{\"sepalLength\":5.0,\"sepalWidth\":2.0,\"petalLength\":3.5,\"petalWidth\":1.0,\"species\":\"versicolor\"},{\"sepalLength\":5.9,\"sepalWidth\":3.0,\"petalLength\":4.2,\"petalWidth\":1.5,\"species\":\"versicolor\"},{\"sepalLength\":6.0,\"sepalWidth\":2.2,\"petalLength\":4.0,\"petalWidth\":1.0,\"species\":\"versicolor\"},{\"sepalLength\":6.1,\"sepalWidth\":2.9,\"petalLength\":4.7,\"petalWidth\":1.4,\"species\":\"versicolor\"},{\"sepalLength\":5.6,\"sepalWidth\":2.9,\"petalLength\":3.6,\"petalWidth\":1.3,\"species\":\"versicolor\"},{\"sepalLength\":6.7,\"sepalWidth\":3.1,\"petalLength\":4.4,\"petalWidth\":1.4,\"species\":\"versicolor\"},{\"sepalLength\":5.6,\"sepalWidth\":3.0,\"petalLength\":4.5,\"petalWidth\":1.5,\"species\":\"versicolor\"},{\"sepalLength\":5.8,\"sepalWidth\":2.7,\"petalLength\":4.1,\"petalWidth\":1.0,\"species\":\"versicolor\"},{\"sepalLength\":6.2,\"sepalWidth\":2.2,\"petalLength\":4.5,\"petalWidth\":1.5,\"species\":\"versicolor\"},{\"sepalLength\":5.6,\"sepalWidth\":2.5,\"petalLength\":3.9,\"petalWidth\":1.1,\"species\":\"versicolor\"},{\"sepalLength\":5.9,\"sepalWidth\":3.2,\"petalLength\":4.8,\"petalWidth\":1.8,\"species\":\"versicolor\"},{\"sepalLength\":6.1,\"sepalWidth\":2.8,\"petalLength\":4.0,\"petalWidth\":1.3,\"species\":\"versicolor\"},{\"sepalLength\":6.3,\"sepalWidth\":2.5,\"petalLength\":4.9,\"petalWidth\":1.5,\"species\":\"versicolor\"},{\"sepalLength\":6.1,\"sepalWidth\":2.8,\"petalLength\":4.7,\"petalWidth\":1.2,\"species\":\"versicolor\"},{\"sepalLength\":6.4,\"sepalWidth\":2.9,\"petalLength\":4.3,\"petalWidth\":1.3,\"species\":\"versicolor\"},{\"sepalLength\":6.6,\"sepalWidth\":3.0,\"petalLength\":4.4,\"petalWidth\":1.4,\"species\":\"versicolor\"},{\"sepalLength\":6.8,\"sepalWidth\":2.8,\"petalLength\":4.8,\"petalWidth\":1.4,\"species\":\"versicolor\"},{\"sepalLength\":6.7,\"sepalWidth\":3.0,\"petalLength\":5.0,\"petalWidth\":1.7,\"species\":\"versicolor\"},{\"sepalLength\":6.0,\"sepalWidth\":2.9,\"petalLength\":4.5,\"petalWidth\":1.5,\"species\":\"versicolor\"},{\"sepalLength\":5.7,\"sepalWidth\":2.6,\"petalLength\":3.5,\"petalWidth\":1.0,\"species\":\"versicolor\"},{\"sepalLength\":5.5,\"sepalWidth\":2.4,\"petalLength\":3.8,\"petalWidth\":1.1,\"species\":\"versicolor\"},{\"sepalLength\":5.5,\"sepalWidth\":2.4,\"petalLength\":3.7,\"petalWidth\":1.0,\"species\":\"versicolor\"},{\"sepalLength\":5.8,\"sepalWidth\":2.7,\"petalLength\":3.9,\"petalWidth\":1.2,\"species\":\"versicolor\"},{\"sepalLength\":6.0,\"sepalWidth\":2.7,\"petalLength\":5.1,\"petalWidth\":1.6,\"species\":\"versicolor\"},{\"sepalLength\":5.4,\"sepalWidth\":3.0,\"petalLength\":4.5,\"petalWidth\":1.5,\"species\":\"versicolor\"},{\"sepalLength\":6.0,\"sepalWidth\":3.4,\"petalLength\":4.5,\"petalWidth\":1.6,\"species\":\"versicolor\"},{\"sepalLength\":6.7,\"sepalWidth\":3.1,\"petalLength\":4.7,\"petalWidth\":1.5,\"species\":\"versicolor\"},{\"sepalLength\":6.3,\"sepalWidth\":2.3,\"petalLength\":4.4,\"petalWidth\":1.3,\"species\":\"versicolor\"},{\"sepalLength\":5.6,\"sepalWidth\":3.0,\"petalLength\":4.1,\"petalWidth\":1.3,\"species\":\"versicolor\"},{\"sepalLength\":5.5,\"sepalWidth\":2.5,\"petalLength\":4.0,\"petalWidth\":1.3,\"species\":\"versicolor\"},{\"sepalLength\":5.5,\"sepalWidth\":2.6,\"petalLength\":4.4,\"petalWidth\":1.2,\"species\":\"versicolor\"},{\"sepalLength\":6.1,\"sepalWidth\":3.0,\"petalLength\":4.6,\"petalWidth\":1.4,\"species\":\"versicolor\"},{\"sepalLength\":5.8,\"sepalWidth\":2.6,\"petalLength\":4.0,\"petalWidth\":1.2,\"species\":\"versicolor\"},{\"sepalLength\":5.0,\"sepalWidth\":2.3,\"petalLength\":3.3,\"petalWidth\":1.0,\"species\":\"versicolor\"},{\"sepalLength\":5.6,\"sepalWidth\":2.7,\"petalLength\":4.2,\"petalWidth\":1.3,\"species\":\"versicolor\"},{\"sepalLength\":5.7,\"sepalWidth\":3.0,\"petalLength\":4.2,\"petalWidth\":1.2,\"species\":\"versicolor\"},{\"sepalLength\":5.7,\"sepalWidth\":2.9,\"petalLength\":4.2,\"petalWidth\":1.3,\"species\":\"versicolor\"},{\"sepalLength\":6.2,\"sepalWidth\":2.9,\"petalLength\":4.3,\"petalWidth\":1.3,\"species\":\"versicolor\"},{\"sepalLength\":5.1,\"sepalWidth\":2.5,\"petalLength\":3.0,\"petalWidth\":1.1,\"species\":\"versicolor\"},{\"sepalLength\":5.7,\"sepalWidth\":2.8,\"petalLength\":4.1,\"petalWidth\":1.3,\"species\":\"versicolor\"},{\"sepalLength\":6.3,\"sepalWidth\":3.3,\"petalLength\":6.0,\"petalWidth\":2.5,\"species\":\"virginica\"},{\"sepalLength\":5.8,\"sepalWidth\":2.7,\"petalLength\":5.1,\"petalWidth\":1.9,\"species\":\"virginica\"},{\"sepalLength\":7.1,\"sepalWidth\":3.0,\"petalLength\":5.9,\"petalWidth\":2.1,\"species\":\"virginica\"},{\"sepalLength\":6.3,\"sepalWidth\":2.9,\"petalLength\":5.6,\"petalWidth\":1.8,\"species\":\"virginica\"},{\"sepalLength\":6.5,\"sepalWidth\":3.0,\"petalLength\":5.8,\"petalWidth\":2.2,\"species\":\"virginica\"},{\"sepalLength\":7.6,\"sepalWidth\":3.0,\"petalLength\":6.6,\"petalWidth\":2.1,\"species\":\"virginica\"},{\"sepalLength\":4.9,\"sepalWidth\":2.5,\"petalLength\":4.5,\"petalWidth\":1.7,\"species\":\"virginica\"},{\"sepalLength\":7.3,\"sepalWidth\":2.9,\"petalLength\":6.3,\"petalWidth\":1.8,\"species\":\"virginica\"},{\"sepalLength\":6.7,\"sepalWidth\":2.5,\"petalLength\":5.8,\"petalWidth\":1.8,\"species\":\"virginica\"},{\"sepalLength\":7.2,\"sepalWidth\":3.6,\"petalLength\":6.1,\"petalWidth\":2.5,\"species\":\"virginica\"},{\"sepalLength\":6.5,\"sepalWidth\":3.2,\"petalLength\":5.1,\"petalWidth\":2.0,\"species\":\"virginica\"},{\"sepalLength\":6.4,\"sepalWidth\":2.7,\"petalLength\":5.3,\"petalWidth\":1.9,\"species\":\"virginica\"},{\"sepalLength\":6.8,\"sepalWidth\":3.0,\"petalLength\":5.5,\"petalWidth\":2.1,\"species\":\"virginica\"},{\"sepalLength\":5.7,\"sepalWidth\":2.5,\"petalLength\":5.0,\"petalWidth\":2.0,\"species\":\"virginica\"},{\"sepalLength\":5.8,\"sepalWidth\":2.8,\"petalLength\":5.1,\"petalWidth\":2.4,\"species\":\"virginica\"},{\"sepalLength\":6.4,\"sepalWidth\":3.2,\"petalLength\":5.3,\"petalWidth\":2.3,\"species\":\"virginica\"},{\"sepalLength\":6.5,\"sepalWidth\":3.0,\"petalLength\":5.5,\"petalWidth\":1.8,\"species\":\"virginica\"},{\"sepalLength\":7.7,\"sepalWidth\":3.8,\"petalLength\":6.7,\"petalWidth\":2.2,\"species\":\"virginica\"},{\"sepalLength\":7.7,\"sepalWidth\":2.6,\"petalLength\":6.9,\"petalWidth\":2.3,\"species\":\"virginica\"},{\"sepalLength\":6.0,\"sepalWidth\":2.2,\"petalLength\":5.0,\"petalWidth\":1.5,\"species\":\"virginica\"},{\"sepalLength\":6.9,\"sepalWidth\":3.2,\"petalLength\":5.7,\"petalWidth\":2.3,\"species\":\"virginica\"},{\"sepalLength\":5.6,\"sepalWidth\":2.8,\"petalLength\":4.9,\"petalWidth\":2.0,\"species\":\"virginica\"},{\"sepalLength\":7.7,\"sepalWidth\":2.8,\"petalLength\":6.7,\"petalWidth\":2.0,\"species\":\"virginica\"},{\"sepalLength\":6.3,\"sepalWidth\":2.7,\"petalLength\":4.9,\"petalWidth\":1.8,\"species\":\"virginica\"},{\"sepalLength\":6.7,\"sepalWidth\":3.3,\"petalLength\":5.7,\"petalWidth\":2.1,\"species\":\"virginica\"},{\"sepalLength\":7.2,\"sepalWidth\":3.2,\"petalLength\":6.0,\"petalWidth\":1.8,\"species\":\"virginica\"},{\"sepalLength\":6.2,\"sepalWidth\":2.8,\"petalLength\":4.8,\"petalWidth\":1.8,\"species\":\"virginica\"},{\"sepalLength\":6.1,\"sepalWidth\":3.0,\"petalLength\":4.9,\"petalWidth\":1.8,\"species\":\"virginica\"},{\"sepalLength\":6.4,\"sepalWidth\":2.8,\"petalLength\":5.6,\"petalWidth\":2.1,\"species\":\"virginica\"},{\"sepalLength\":7.2,\"sepalWidth\":3.0,\"petalLength\":5.8,\"petalWidth\":1.6,\"species\":\"virginica\"},{\"sepalLength\":7.4,\"sepalWidth\":2.8,\"petalLength\":6.1,\"petalWidth\":1.9,\"species\":\"virginica\"},{\"sepalLength\":7.9,\"sepalWidth\":3.8,\"petalLength\":6.4,\"petalWidth\":2.0,\"species\":\"virginica\"},{\"sepalLength\":6.4,\"sepalWidth\":2.8,\"petalLength\":5.6,\"petalWidth\":2.2,\"species\":\"virginica\"},{\"sepalLength\":6.3,\"sepalWidth\":2.8,\"petalLength\":5.1,\"petalWidth\":1.5,\"species\":\"virginica\"},{\"sepalLength\":6.1,\"sepalWidth\":2.6,\"petalLength\":5.6,\"petalWidth\":1.4,\"species\":\"virginica\"},{\"sepalLength\":7.7,\"sepalWidth\":3.0,\"petalLength\":6.1,\"petalWidth\":2.3,\"species\":\"virginica\"},{\"sepalLength\":6.3,\"sepalWidth\":3.4,\"petalLength\":5.6,\"petalWidth\":2.4,\"species\":\"virginica\"},{\"sepalLength\":6.4,\"sepalWidth\":3.1,\"petalLength\":5.5,\"petalWidth\":1.8,\"species\":\"virginica\"},{\"sepalLength\":6.0,\"sepalWidth\":3.0,\"petalLength\":4.8,\"petalWidth\":1.8,\"species\":\"virginica\"},{\"sepalLength\":6.9,\"sepalWidth\":3.1,\"petalLength\":5.4,\"petalWidth\":2.1,\"species\":\"virginica\"},{\"sepalLength\":6.7,\"sepalWidth\":3.1,\"petalLength\":5.6,\"petalWidth\":2.4,\"species\":\"virginica\"},{\"sepalLength\":6.9,\"sepalWidth\":3.1,\"petalLength\":5.1,\"petalWidth\":2.3,\"species\":\"virginica\"},{\"sepalLength\":5.8,\"sepalWidth\":2.7,\"petalLength\":5.1,\"petalWidth\":1.9,\"species\":\"virginica\"},{\"sepalLength\":6.8,\"sepalWidth\":3.2,\"petalLength\":5.9,\"petalWidth\":2.3,\"species\":\"virginica\"},{\"sepalLength\":6.7,\"sepalWidth\":3.3,\"petalLength\":5.7,\"petalWidth\":2.5,\"species\":\"virginica\"},{\"sepalLength\":6.7,\"sepalWidth\":3.0,\"petalLength\":5.2,\"petalWidth\":2.3,\"species\":\"virginica\"},{\"sepalLength\":6.3,\"sepalWidth\":2.5,\"petalLength\":5.0,\"petalWidth\":1.9,\"species\":\"virginica\"},{\"sepalLength\":6.5,\"sepalWidth\":3.0,\"petalLength\":5.2,\"petalWidth\":2.0,\"species\":\"virginica\"},{\"sepalLength\":6.2,\"sepalWidth\":3.4,\"petalLength\":5.4,\"petalWidth\":2.3,\"species\":\"virginica\"},{\"sepalLength\":5.9,\"sepalWidth\":3.0,\"petalLength\":5.1,\"petalWidth\":1.8,\"species\":\"virginica\"}];\n",
       "           "
      ],
      "text/plain": [
       "<IPython.core.display.Javascript object>"
      ]
     },
     "execution_count": 263,
     "metadata": {},
     "output_type": "execute_result"
    }
   ],
   "source": [
    "Javascript(\"\"\"\n",
    "           window.viz_irisData={viz_irisData};\n",
    "           \"\"\".format(viz_irisData=viz_irisData))"
   ]
  },
  {
   "cell_type": "code",
   "execution_count": 316,
   "metadata": {},
   "outputs": [
    {
     "data": {
      "application/javascript": [
       "$(\"#chartd1\").remove();\n",
       "element.append(\"<h4>d3 scatter test</h4> \\\n",
       "               <div id='chartd1'></div>\");"
      ],
      "text/plain": [
       "<IPython.core.display.Javascript object>"
      ]
     },
     "metadata": {},
     "output_type": "display_data"
    }
   ],
   "source": [
    "%%javascript\n",
    "$(\"#chartd1\").remove();\n",
    "element.append(\"<h4>d3 scatter test</h4> \\\n",
    "               <div id='chartd1'></div>\");"
   ]
  },
  {
   "cell_type": "code",
   "execution_count": 317,
   "metadata": {},
   "outputs": [
    {
     "data": {
      "application/javascript": [
       "var stylestr = '<style> \\\n",
       "        .axis path, \\\n",
       "        .axis line { \\\n",
       "            fill: none; \\\n",
       "            stroke: #000; \\\n",
       "            shape-rendering: crispEdges;\\\n",
       "        } \\\n",
       "        .dot { \\\n",
       "            stroke: #000; \\\n",
       "        } \\\n",
       "        div.tooltip { \\\n",
       "            position: absolute; \\\n",
       "            text-align: center; \\\n",
       "            width: 70px; \\\n",
       "            height: 32px; \\\n",
       "            padding: 2px; \\\n",
       "            font: 12px sans-serif; \\\n",
       "            background: lightsteelblue; \\\n",
       "            border: 0px; \\\n",
       "            border-radius: 8px; \\\n",
       "            pointer-events: none;\\\n",
       "        } \\\n",
       "    </style>';\n",
       "$(\"head\").append(stylestr);\n",
       "\n",
       "var margin = {top: 20, right: 20, bottom: 30, left: 40},\n",
       "    width = 900 - margin.left - margin.right,\n",
       "    height = 400 - margin.top - margin.bottom;\n",
       "\n",
       "var x_scale = d3.scale.linear()\n",
       "    .range([0, width]);\n",
       "\n",
       "var y_scale = d3.scale.linear()\n",
       "    .range([height, 0]);\n",
       "\n",
       "var color = d3.scale.category10();\n",
       "\n",
       "var xAxis = d3.svg.axis()\n",
       "    .scale(x_scale)\n",
       "    .orient(\"bottom\");    \n",
       "\n",
       "var yAxis = d3.svg.axis()\n",
       "    .scale(y_scale)\n",
       "    .orient(\"left\");\n",
       "\n",
       "var svg = d3.select(\"#chartd1\").append(\"svg\")\n",
       "    .attr(\"width\", width + margin.left + margin.right)\n",
       "    .attr(\"height\", height + margin.top + margin.bottom)\n",
       "  .append(\"g\")\n",
       "    .attr(\"transform\", \"translate(\" + margin.left + \",\" + margin.top + \")\");\n",
       "\n",
       "// Define the div for the tooltip\n",
       "var div = d3.select(\"body\").append(\"div\")\n",
       "    .attr(\"class\", \"tooltip\")\n",
       "    .style(\"opacity\", 0);\n",
       "\n",
       "var formatDecimalComma = d3.format(\",.1f\");\n",
       "\n",
       "x_scale.domain(d3.extent(viz_irisData, function(d) { return d.sepalWidth; })).nice();\n",
       "y_scale.domain(d3.extent(viz_irisData, function(d) { return d.sepalLength; })).nice();\n",
       "\n",
       "svg.append(\"g\")\n",
       "  .attr(\"class\", \"x axis\")\n",
       "  .attr(\"transform\", \"translate(0,\" + height + \")\")\n",
       "  .style(\"font\", \"12px sans-serif\")\n",
       "  .call(xAxis)\n",
       ".append(\"text\")\n",
       "  .attr(\"class\", \"label\")\n",
       "  .attr(\"x\", width)\n",
       "  .attr(\"y\", -6)\n",
       "  .style(\"font-weight\", \"bold\")\n",
       "  .style(\"text-anchor\", \"end\")\n",
       "  .text(\"Sepal Width (cm)\");\n",
       "\n",
       "svg.append(\"g\")\n",
       "  .attr(\"class\", \"y axis\")\n",
       "  .style(\"font\", \"12px sans-serif\")\n",
       "  .call(yAxis)\n",
       ".append(\"text\")\n",
       "  .attr(\"class\", \"label\")\n",
       "  .attr(\"transform\", \"rotate(-90)\")\n",
       "  .attr(\"y\", 6)\n",
       "  .attr(\"dy\", \".71em\")\n",
       "  .style(\"font-weight\", \"bold\")\n",
       "  .style(\"text-anchor\", \"end\")\n",
       "  .text(\"Sepal Length (cm)\")\n",
       "\n",
       "svg.selectAll(\".dot\")\n",
       "  .data(viz_irisData)\n",
       ".enter().append(\"circle\")\n",
       "  .attr(\"class\", \"dot\")\n",
       "  .attr(\"r\", 5.0)\n",
       "  .attr(\"cx\", function(d) { return x_scale(d.sepalWidth); })\n",
       "  .attr(\"cy\", function(d) { return y_scale(d.sepalLength); })\n",
       "  .style(\"fill\", function(d) { return color(d.species); })\n",
       "  .style(\"opacity\", .7)\n",
       "  .style(\"stroke-opacity\", .5)\n",
       "  .on(\"mouseover\", function(d) {\n",
       "        div.transition()\n",
       "            .duration(200)\n",
       "            .style(\"opacity\", .9);\n",
       "        div.html(formatDecimalComma(d.sepalWidth)  + ', ' + formatDecimalComma(d.sepalLength) + \"<br/>\"  + d.species)\n",
       "            .style(\"left\", (d3.event.pageX) + \"px\")\n",
       "            .style(\"top\", (d3.event.pageY - 28) + \"px\");\n",
       "        })\n",
       "  .on(\"mouseout\", function(d) {\n",
       "        div.transition()\n",
       "            .duration(500)\n",
       "            .style(\"opacity\", 0);\n",
       "   });\n",
       "\n",
       "var legend = svg.selectAll(\".legend\")\n",
       "  .data(color.domain())\n",
       ".enter().append(\"g\")\n",
       "  .attr(\"class\", \"legend\")\n",
       "  .attr(\"transform\", function(d, i) { return \"translate(0,\" + i * 20 + \")\"; });\n",
       "\n",
       "legend.append(\"rect\")\n",
       "  .attr(\"x\", width - 18)\n",
       "  .attr(\"width\", 18)\n",
       "  .attr(\"height\", 18)\n",
       "  .style(\"fill\", color);\n",
       "\n",
       "legend.append(\"text\")\n",
       "  .attr(\"x\", width - 24)\n",
       "  .attr(\"y\", 9)\n",
       "  .attr(\"dy\", \".35em\")\n",
       "  .style(\"text-anchor\", \"end\")\n",
       "  .text(function(d) { return d; });"
      ],
      "text/plain": [
       "<IPython.core.display.Javascript object>"
      ]
     },
     "metadata": {},
     "output_type": "display_data"
    }
   ],
   "source": [
    "%%javascript\n",
    "var stylestr = '<style> \\\n",
    "        .axis path, \\\n",
    "        .axis line { \\\n",
    "            fill: none; \\\n",
    "            stroke: #000; \\\n",
    "            shape-rendering: crispEdges;\\\n",
    "        } \\\n",
    "        .dot { \\\n",
    "            stroke: #000; \\\n",
    "        } \\\n",
    "        div.tooltip { \\\n",
    "            position: absolute; \\\n",
    "            text-align: center; \\\n",
    "            width: 70px; \\\n",
    "            height: 32px; \\\n",
    "            padding: 2px; \\\n",
    "            font: 12px sans-serif; \\\n",
    "            background: lightsteelblue; \\\n",
    "            border: 0px; \\\n",
    "            border-radius: 8px; \\\n",
    "            pointer-events: none;\\\n",
    "        } \\\n",
    "    </style>';\n",
    "$(\"head\").append(stylestr);\n",
    "\n",
    "var margin = {top: 20, right: 20, bottom: 30, left: 40},\n",
    "    width = 900 - margin.left - margin.right,\n",
    "    height = 400 - margin.top - margin.bottom;\n",
    "\n",
    "var x_scale = d3.scale.linear()\n",
    "    .range([0, width]);\n",
    "\n",
    "var y_scale = d3.scale.linear()\n",
    "    .range([height, 0]);\n",
    "\n",
    "var color = d3.scale.category10();\n",
    "\n",
    "var xAxis = d3.svg.axis()\n",
    "    .scale(x_scale)\n",
    "    .orient(\"bottom\");    \n",
    "\n",
    "var yAxis = d3.svg.axis()\n",
    "    .scale(y_scale)\n",
    "    .orient(\"left\");\n",
    "\n",
    "var svg = d3.select(\"#chartd1\").append(\"svg\")\n",
    "    .attr(\"width\", width + margin.left + margin.right)\n",
    "    .attr(\"height\", height + margin.top + margin.bottom)\n",
    "  .append(\"g\")\n",
    "    .attr(\"transform\", \"translate(\" + margin.left + \",\" + margin.top + \")\");\n",
    "\n",
    "// Define the div for the tooltip\n",
    "var div = d3.select(\"body\").append(\"div\")\n",
    "    .attr(\"class\", \"tooltip\")\n",
    "    .style(\"opacity\", 0);\n",
    "\n",
    "var formatDecimalComma = d3.format(\",.1f\");\n",
    "\n",
    "x_scale.domain(d3.extent(viz_irisData, function(d) { return d.sepalWidth; })).nice();\n",
    "y_scale.domain(d3.extent(viz_irisData, function(d) { return d.sepalLength; })).nice();\n",
    "\n",
    "svg.append(\"g\")\n",
    "  .attr(\"class\", \"x axis\")\n",
    "  .attr(\"transform\", \"translate(0,\" + height + \")\")\n",
    "  .style(\"font\", \"12px sans-serif\")\n",
    "  .call(xAxis)\n",
    ".append(\"text\")\n",
    "  .attr(\"class\", \"label\")\n",
    "  .attr(\"x\", width)\n",
    "  .attr(\"y\", -6)\n",
    "  .style(\"font-weight\", \"bold\")\n",
    "  .style(\"text-anchor\", \"end\")\n",
    "  .text(\"Sepal Width (cm)\");\n",
    "\n",
    "svg.append(\"g\")\n",
    "  .attr(\"class\", \"y axis\")\n",
    "  .style(\"font\", \"12px sans-serif\")\n",
    "  .call(yAxis)\n",
    ".append(\"text\")\n",
    "  .attr(\"class\", \"label\")\n",
    "  .attr(\"transform\", \"rotate(-90)\")\n",
    "  .attr(\"y\", 6)\n",
    "  .attr(\"dy\", \".71em\")\n",
    "  .style(\"font-weight\", \"bold\")\n",
    "  .style(\"text-anchor\", \"end\")\n",
    "  .text(\"Sepal Length (cm)\")\n",
    "\n",
    "svg.selectAll(\".dot\")\n",
    "  .data(viz_irisData)\n",
    ".enter().append(\"circle\")\n",
    "  .attr(\"class\", \"dot\")\n",
    "  .attr(\"r\", 5.0)\n",
    "  .attr(\"cx\", function(d) { return x_scale(d.sepalWidth); })\n",
    "  .attr(\"cy\", function(d) { return y_scale(d.sepalLength); })\n",
    "  .style(\"fill\", function(d) { return color(d.species); })\n",
    "  .style(\"opacity\", .7)\n",
    "  .style(\"stroke-opacity\", .5)\n",
    "  .on(\"mouseover\", function(d) {\n",
    "        div.transition()\n",
    "            .duration(200)\n",
    "            .style(\"opacity\", .9);\n",
    "        div.html(formatDecimalComma(d.sepalWidth)  + ', ' + formatDecimalComma(d.sepalLength) + \"<br/>\"  + d.species)\n",
    "            .style(\"left\", (d3.event.pageX) + \"px\")\n",
    "            .style(\"top\", (d3.event.pageY - 28) + \"px\");\n",
    "        })\n",
    "  .on(\"mouseout\", function(d) {\n",
    "        div.transition()\n",
    "            .duration(500)\n",
    "            .style(\"opacity\", 0);\n",
    "   });\n",
    "\n",
    "var legend = svg.selectAll(\".legend\")\n",
    "  .data(color.domain())\n",
    ".enter().append(\"g\")\n",
    "  .attr(\"class\", \"legend\")\n",
    "  .attr(\"transform\", function(d, i) { return \"translate(0,\" + i * 20 + \")\"; });\n",
    "\n",
    "legend.append(\"rect\")\n",
    "  .attr(\"x\", width - 18)\n",
    "  .attr(\"width\", 18)\n",
    "  .attr(\"height\", 18)\n",
    "  .style(\"fill\", color);\n",
    "\n",
    "legend.append(\"text\")\n",
    "  .attr(\"x\", width - 24)\n",
    "  .attr(\"y\", 9)\n",
    "  .attr(\"dy\", \".35em\")\n",
    "  .style(\"text-anchor\", \"end\")\n",
    "  .text(function(d) { return d; });"
   ]
  },
  {
   "cell_type": "code",
   "execution_count": 320,
   "metadata": {},
   "outputs": [],
   "source": [
    "%run py_d3/py_d3/py_d3.py"
   ]
  },
  {
   "cell_type": "code",
   "execution_count": 321,
   "metadata": {},
   "outputs": [
    {
     "data": {
      "text/html": [
       "\n",
       "<script>\n",
       "requirejs.config({\n",
       "    paths: {\n",
       "        d3: \"//cdnjs.cloudflare.com/ajax/libs/d3/3.5.17/d3\"\n",
       "    }\n",
       "});\n",
       "\n",
       "require(['d3'], function(d3) {\n",
       "    window.d3 = d3;\n",
       "});\n",
       "</script>\n",
       "<script>\n",
       "_select = d3.select;\n",
       "\n",
       "d3.select0 = function(selection) {\n",
       "    return _select(\"#d3-cell-0\").select(selection);\n",
       "}\n",
       "d3.selectAll0 = function(selection) {\n",
       "    return _select(\"#d3-cell-0\").selectAll(selection);\n",
       "}\n",
       "</script>\n",
       "<g id=\"d3-cell-0\">\n",
       "\n",
       "<g></g>\n",
       "\n",
       "<script>\n",
       "d3.select0(\"g\").text(\"Hello World\");\n",
       "</script>\n",
       "</g>"
      ],
      "text/plain": [
       "<IPython.core.display.HTML object>"
      ]
     },
     "metadata": {},
     "output_type": "display_data"
    }
   ],
   "source": [
    "%%d3\n",
    "\n",
    "<g></g>\n",
    "\n",
    "<script>\n",
    "d3.select(\"g\").text(\"Hello World\");\n",
    "</script>"
   ]
  },
  {
   "cell_type": "code",
   "execution_count": 322,
   "metadata": {},
   "outputs": [
    {
     "data": {
      "text/html": [
       "\n",
       "<script>\n",
       "requirejs.config({\n",
       "    paths: {\n",
       "        d3: \"//cdnjs.cloudflare.com/ajax/libs/d3/3.5.17/d3\"\n",
       "    }\n",
       "});\n",
       "\n",
       "require(['d3'], function(d3) {\n",
       "    window.d3 = d3;\n",
       "});\n",
       "</script>\n",
       "<script>\n",
       "_select = d3.select;\n",
       "\n",
       "d3.select1 = function(selection) {\n",
       "    return _select(\"#d3-cell-1\").select(selection);\n",
       "}\n",
       "d3.selectAll1 = function(selection) {\n",
       "    return _select(\"#d3-cell-1\").selectAll(selection);\n",
       "}\n",
       "</script>\n",
       "<g id=\"d3-cell-1\">\n",
       "\n",
       "<g></g>\n",
       "\n",
       "<style>\n",
       "element {\n",
       "    height: 25px;\n",
       "}\n",
       "div.bar {\n",
       "    display: inline-block;\n",
       "    width: 20px;\n",
       "    height: 75px;\n",
       "    margin-right: 2px;\n",
       "    background-color: teal;\n",
       "}\n",
       "</style>\n",
       "\n",
       "<script>\n",
       "var dataset = [ 5, 10, 13, 19, 21, 25, 22, 18, 15, 13,\n",
       "                11, 12, 15, 20, 18, 17, 16, 18, 23, 25 ];\n",
       "\n",
       "d3.select1(\"g\").selectAll(\"div\")\n",
       "    .data(dataset)\n",
       "    .enter()\n",
       "    .append(\"div\")\n",
       "    .attr(\"class\", \"bar\")\n",
       "    .style(\"height\", function(d) {\n",
       "        var barHeight = d * 5;\n",
       "        return barHeight + \"px\";\n",
       "    });\n",
       "</script>\n",
       "</g>"
      ],
      "text/plain": [
       "<IPython.core.display.HTML object>"
      ]
     },
     "metadata": {},
     "output_type": "display_data"
    }
   ],
   "source": [
    "%%d3\n",
    "\n",
    "<g></g>\n",
    "\n",
    "<style>\n",
    "element {\n",
    "    height: 25px;\n",
    "}\n",
    "div.bar {\n",
    "    display: inline-block;\n",
    "    width: 20px;\n",
    "    height: 75px;\n",
    "    margin-right: 2px;\n",
    "    background-color: teal;\n",
    "}\n",
    "</style>\n",
    "\n",
    "<script>\n",
    "var dataset = [ 5, 10, 13, 19, 21, 25, 22, 18, 15, 13,\n",
    "                11, 12, 15, 20, 18, 17, 16, 18, 23, 25 ];\n",
    "\n",
    "d3.select(\"g\").selectAll(\"div\")\n",
    "    .data(dataset)\n",
    "    .enter()\n",
    "    .append(\"div\")\n",
    "    .attr(\"class\", \"bar\")\n",
    "    .style(\"height\", function(d) {\n",
    "        var barHeight = d * 5;\n",
    "        return barHeight + \"px\";\n",
    "    });\n",
    "</script>"
   ]
  },
  {
   "cell_type": "code",
   "execution_count": null,
   "metadata": {
    "collapsed": true
   },
   "outputs": [],
   "source": []
  }
 ],
 "metadata": {
  "kernelspec": {
   "display_name": "Python 3",
   "language": "python",
   "name": "python3"
  },
  "language_info": {
   "codemirror_mode": {
    "name": "ipython",
    "version": 3
   },
   "file_extension": ".py",
   "mimetype": "text/x-python",
   "name": "python",
   "nbconvert_exporter": "python",
   "pygments_lexer": "ipython3",
   "version": "3.6.1"
  }
 },
 "nbformat": 4,
 "nbformat_minor": 2
}
