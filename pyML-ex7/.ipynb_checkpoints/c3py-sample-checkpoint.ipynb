{
 "cells": [
  {
   "cell_type": "markdown",
   "metadata": {},
   "source": [
    "### This is sample of using c3py library (https://yurz@bitbucket.org/yurz/c3py.git)"
   ]
  },
  {
   "cell_type": "markdown",
   "metadata": {},
   "source": [
    "#### Only Line, Area and Bar (Unstacked and Stacked) charts are supported at the momen. c3py can be used for displaying charts inside Jupyter Notebooks or rendering self-contained HTML files."
   ]
  },
  {
   "cell_type": "code",
   "execution_count": 1,
   "metadata": {},
   "outputs": [
    {
     "ename": "ModuleNotFoundError",
     "evalue": "No module named 'c3py'",
     "output_type": "error",
     "traceback": [
      "\u001b[0;31m---------------------------------------------------------------------------\u001b[0m",
      "\u001b[0;31mModuleNotFoundError\u001b[0m                       Traceback (most recent call last)",
      "\u001b[0;32m<ipython-input-1-7e6c14f7c9f1>\u001b[0m in \u001b[0;36m<module>\u001b[0;34m()\u001b[0m\n\u001b[0;32m----> 1\u001b[0;31m \u001b[0;32mfrom\u001b[0m \u001b[0mc3py\u001b[0m \u001b[0;32mimport\u001b[0m \u001b[0mC3Chart\u001b[0m \u001b[0;32mas\u001b[0m \u001b[0mc3\u001b[0m\u001b[0;34m\u001b[0m\u001b[0m\n\u001b[0m",
      "\u001b[0;31mModuleNotFoundError\u001b[0m: No module named 'c3py'"
     ]
    }
   ],
   "source": [
    "from c3py import C3Chart as c3"
   ]
  },
  {
   "cell_type": "code",
   "execution_count": 2,
   "metadata": {},
   "outputs": [],
   "source": [
    "import sys\n",
    "import IPython"
   ]
  },
  {
   "cell_type": "code",
   "execution_count": 3,
   "metadata": {},
   "outputs": [
    {
     "name": "stdout",
     "output_type": "stream",
     "text": [
      "3.5.2 |Continuum Analytics, Inc.| (default, Jul  2 2016, 17:53:06) \n",
      "[GCC 4.4.7 20120313 (Red Hat 4.4.7-1)]\n",
      "4.2.0\n"
     ]
    }
   ],
   "source": [
    "print(sys.version)\n",
    "print(IPython.__version__)"
   ]
  },
  {
   "cell_type": "markdown",
   "metadata": {},
   "source": [
    "#### For displaying inside Jupyter - Load required Javascript libraries:"
   ]
  },
  {
   "cell_type": "code",
   "execution_count": 4,
   "metadata": {},
   "outputs": [
    {
     "data": {
      "text/html": [
       "<script>\n",
       "            require.config({\n",
       "            baseUrl: \"\",\n",
       "            paths: { \n",
       "                    d3: \"//cdnjs.cloudflare.com/ajax/libs/d3/3.4.8/d3.min\",\n",
       "                    c3: \"//cdnjs.cloudflare.com/ajax/libs/c3/0.4.10/c3.min\"\n",
       "                  }\n",
       "            });\n",
       "            $(\"head\").append('<link href=\"https://cdnjs.cloudflare.com/ajax/libs/c3/0.4.10/c3.min.css\" rel=\"stylesheet\" />');\n",
       "            $(\"head\").append('<style>                .c3chart {                    float:left;                    width:100%;                    margin-top: 20px;                }                .c3-line { stroke-width: 3px; }                .c3-legend-item-hidden {                    opacity: .5 !important;                }                .chrt-btn {                    color: white;                    background-color: #4791bc;                    border-color: #4791bc;                    border-radius: 2px;                    text-align: center;                    text-decoration: none;                    display: inline;                    float:left;                }                .chrt-title {                    display: inline;                    margin-left: 16px;                    font-size: 120%;                }</style>');\n",
       "            require([\"d3\", \"c3\"], function(d3, c3) {\n",
       "            window.d3 = d3;\n",
       "            window.c3 = c3;\n",
       "            });\n",
       "            </script>\n",
       "            "
      ]
     },
     "metadata": {},
     "output_type": "display_data"
    },
    {
     "name": "stdout",
     "output_type": "stream",
     "text": [
      "c3 loaded\n"
     ]
    }
   ],
   "source": [
    "c3.ipy_load()"
   ]
  },
  {
   "cell_type": "markdown",
   "metadata": {},
   "source": [
    "#### Download some GDP data from World Bank and prepare Pandas DataFrame object:"
   ]
  },
  {
   "cell_type": "code",
   "execution_count": 12,
   "metadata": {
    "scrolled": true
   },
   "outputs": [],
   "source": [
    "from pandas_datareader import data, wb"
   ]
  },
  {
   "cell_type": "code",
   "execution_count": 17,
   "metadata": {},
   "outputs": [],
   "source": [
    "df = wb.download(indicator='NY.GDP.PCAP.PP.KD', country=\"all\", start=2010, end=2015).unstack()"
   ]
  },
  {
   "cell_type": "markdown",
   "metadata": {},
   "source": [
    "#### This is how raw df looks:"
   ]
  },
  {
   "cell_type": "code",
   "execution_count": 18,
   "metadata": {},
   "outputs": [
    {
     "data": {
      "text/html": [
       "<div>\n",
       "<table border=\"1\" class=\"dataframe\">\n",
       "  <thead>\n",
       "    <tr>\n",
       "      <th></th>\n",
       "      <th colspan=\"6\" halign=\"left\">NY.GDP.PCAP.PP.KD</th>\n",
       "    </tr>\n",
       "    <tr>\n",
       "      <th>year</th>\n",
       "      <th>2010</th>\n",
       "      <th>2011</th>\n",
       "      <th>2012</th>\n",
       "      <th>2013</th>\n",
       "      <th>2014</th>\n",
       "      <th>2015</th>\n",
       "    </tr>\n",
       "    <tr>\n",
       "      <th>country</th>\n",
       "      <th></th>\n",
       "      <th></th>\n",
       "      <th></th>\n",
       "      <th></th>\n",
       "      <th></th>\n",
       "      <th></th>\n",
       "    </tr>\n",
       "  </thead>\n",
       "  <tbody>\n",
       "    <tr>\n",
       "      <th>Afghanistan</th>\n",
       "      <td>1662.803526</td>\n",
       "      <td>1712.588720</td>\n",
       "      <td>1899.299559</td>\n",
       "      <td>1876.190879</td>\n",
       "      <td>1844.021503</td>\n",
       "      <td>1808.126028</td>\n",
       "    </tr>\n",
       "    <tr>\n",
       "      <th>Albania</th>\n",
       "      <td>9373.839505</td>\n",
       "      <td>9640.144593</td>\n",
       "      <td>9792.315861</td>\n",
       "      <td>9913.298591</td>\n",
       "      <td>10102.193615</td>\n",
       "      <td>10401.183471</td>\n",
       "    </tr>\n",
       "    <tr>\n",
       "      <th>Algeria</th>\n",
       "      <td>12898.296186</td>\n",
       "      <td>13026.191661</td>\n",
       "      <td>13209.231761</td>\n",
       "      <td>13313.558917</td>\n",
       "      <td>13553.906066</td>\n",
       "      <td>13822.566222</td>\n",
       "    </tr>\n",
       "    <tr>\n",
       "      <th>American Samoa</th>\n",
       "      <td>NaN</td>\n",
       "      <td>NaN</td>\n",
       "      <td>NaN</td>\n",
       "      <td>NaN</td>\n",
       "      <td>NaN</td>\n",
       "      <td>NaN</td>\n",
       "    </tr>\n",
       "    <tr>\n",
       "      <th>Andorra</th>\n",
       "      <td>NaN</td>\n",
       "      <td>NaN</td>\n",
       "      <td>NaN</td>\n",
       "      <td>NaN</td>\n",
       "      <td>NaN</td>\n",
       "      <td>NaN</td>\n",
       "    </tr>\n",
       "  </tbody>\n",
       "</table>\n",
       "</div>"
      ],
      "text/plain": [
       "               NY.GDP.PCAP.PP.KD                                            \\\n",
       "year                        2010          2011          2012          2013   \n",
       "country                                                                      \n",
       "Afghanistan          1662.803526   1712.588720   1899.299559   1876.190879   \n",
       "Albania              9373.839505   9640.144593   9792.315861   9913.298591   \n",
       "Algeria             12898.296186  13026.191661  13209.231761  13313.558917   \n",
       "American Samoa               NaN           NaN           NaN           NaN   \n",
       "Andorra                      NaN           NaN           NaN           NaN   \n",
       "\n",
       "                                            \n",
       "year                    2014          2015  \n",
       "country                                     \n",
       "Afghanistan      1844.021503   1808.126028  \n",
       "Albania         10102.193615  10401.183471  \n",
       "Algeria         13553.906066  13822.566222  \n",
       "American Samoa           NaN           NaN  \n",
       "Andorra                  NaN           NaN  "
      ]
     },
     "execution_count": 18,
     "metadata": {},
     "output_type": "execute_result"
    }
   ],
   "source": [
    "df.head()"
   ]
  },
  {
   "cell_type": "markdown",
   "metadata": {},
   "source": [
    "#### Cleanup and create df_selected with top 5 and bottom 5 countries based on GDP Per Capita Growth between 2010 and 2015:"
   ]
  },
  {
   "cell_type": "code",
   "execution_count": 19,
   "metadata": {},
   "outputs": [
    {
     "data": {
      "text/html": [
       "<div>\n",
       "<table border=\"1\" class=\"dataframe\">\n",
       "  <thead>\n",
       "    <tr style=\"text-align: right;\">\n",
       "      <th>year</th>\n",
       "      <th>2010</th>\n",
       "      <th>2011</th>\n",
       "      <th>2012</th>\n",
       "      <th>2013</th>\n",
       "      <th>2014</th>\n",
       "      <th>2015</th>\n",
       "      <th>5yr_change</th>\n",
       "    </tr>\n",
       "    <tr>\n",
       "      <th>country</th>\n",
       "      <th></th>\n",
       "      <th></th>\n",
       "      <th></th>\n",
       "      <th></th>\n",
       "      <th></th>\n",
       "      <th></th>\n",
       "      <th></th>\n",
       "    </tr>\n",
       "  </thead>\n",
       "  <tbody>\n",
       "    <tr>\n",
       "      <th>South Sudan</th>\n",
       "      <td>3793</td>\n",
       "      <td>3461</td>\n",
       "      <td>1786</td>\n",
       "      <td>1937</td>\n",
       "      <td>1926</td>\n",
       "      <td>1741</td>\n",
       "      <td>-0.492223</td>\n",
       "    </tr>\n",
       "    <tr>\n",
       "      <th>Central African Republic</th>\n",
       "      <td>888</td>\n",
       "      <td>900</td>\n",
       "      <td>919</td>\n",
       "      <td>570</td>\n",
       "      <td>565</td>\n",
       "      <td>581</td>\n",
       "      <td>-0.363739</td>\n",
       "    </tr>\n",
       "    <tr>\n",
       "      <th>Oman</th>\n",
       "      <td>46839</td>\n",
       "      <td>42479</td>\n",
       "      <td>42052</td>\n",
       "      <td>39827</td>\n",
       "      <td>37667</td>\n",
       "      <td>37541</td>\n",
       "      <td>-0.195820</td>\n",
       "    </tr>\n",
       "    <tr>\n",
       "      <th>Lebanon</th>\n",
       "      <td>16281</td>\n",
       "      <td>15683</td>\n",
       "      <td>14946</td>\n",
       "      <td>14045</td>\n",
       "      <td>13470</td>\n",
       "      <td>13089</td>\n",
       "      <td>-0.172655</td>\n",
       "    </tr>\n",
       "    <tr>\n",
       "      <th>Greece</th>\n",
       "      <td>29259</td>\n",
       "      <td>26626</td>\n",
       "      <td>24816</td>\n",
       "      <td>24186</td>\n",
       "      <td>24434</td>\n",
       "      <td>24535</td>\n",
       "      <td>-0.164907</td>\n",
       "    </tr>\n",
       "    <tr>\n",
       "      <th>Macao SAR, China</th>\n",
       "      <td>98614</td>\n",
       "      <td>117340</td>\n",
       "      <td>125624</td>\n",
       "      <td>137164</td>\n",
       "      <td>133675</td>\n",
       "      <td>104718</td>\n",
       "      <td>0.355538</td>\n",
       "    </tr>\n",
       "    <tr>\n",
       "      <th>Sierra Leone</th>\n",
       "      <td>1361</td>\n",
       "      <td>1394</td>\n",
       "      <td>1570</td>\n",
       "      <td>1854</td>\n",
       "      <td>1896</td>\n",
       "      <td>1473</td>\n",
       "      <td>0.393093</td>\n",
       "    </tr>\n",
       "    <tr>\n",
       "      <th>Turkmenistan</th>\n",
       "      <td>10031</td>\n",
       "      <td>11360</td>\n",
       "      <td>12459</td>\n",
       "      <td>13554</td>\n",
       "      <td>14761</td>\n",
       "      <td>15527</td>\n",
       "      <td>0.471538</td>\n",
       "    </tr>\n",
       "    <tr>\n",
       "      <th>Mongolia</th>\n",
       "      <td>7708</td>\n",
       "      <td>8889</td>\n",
       "      <td>9809</td>\n",
       "      <td>10757</td>\n",
       "      <td>11403</td>\n",
       "      <td>11477</td>\n",
       "      <td>0.479372</td>\n",
       "    </tr>\n",
       "    <tr>\n",
       "      <th>Nauru</th>\n",
       "      <td>6592</td>\n",
       "      <td>7349</td>\n",
       "      <td>8061</td>\n",
       "      <td>10771</td>\n",
       "      <td>14631</td>\n",
       "      <td>14974</td>\n",
       "      <td>1.219508</td>\n",
       "    </tr>\n",
       "  </tbody>\n",
       "</table>\n",
       "</div>"
      ],
      "text/plain": [
       "year                       2010    2011    2012    2013    2014    2015  \\\n",
       "country                                                                   \n",
       "South Sudan                3793    3461    1786    1937    1926    1741   \n",
       "Central African Republic    888     900     919     570     565     581   \n",
       "Oman                      46839   42479   42052   39827   37667   37541   \n",
       "Lebanon                   16281   15683   14946   14045   13470   13089   \n",
       "Greece                    29259   26626   24816   24186   24434   24535   \n",
       "Macao SAR, China          98614  117340  125624  137164  133675  104718   \n",
       "Sierra Leone               1361    1394    1570    1854    1896    1473   \n",
       "Turkmenistan              10031   11360   12459   13554   14761   15527   \n",
       "Mongolia                   7708    8889    9809   10757   11403   11477   \n",
       "Nauru                      6592    7349    8061   10771   14631   14974   \n",
       "\n",
       "year                      5yr_change  \n",
       "country                               \n",
       "South Sudan                -0.492223  \n",
       "Central African Republic   -0.363739  \n",
       "Oman                       -0.195820  \n",
       "Lebanon                    -0.172655  \n",
       "Greece                     -0.164907  \n",
       "Macao SAR, China            0.355538  \n",
       "Sierra Leone                0.393093  \n",
       "Turkmenistan                0.471538  \n",
       "Mongolia                    0.479372  \n",
       "Nauru                       1.219508  "
      ]
     },
     "execution_count": 19,
     "metadata": {},
     "output_type": "execute_result"
    }
   ],
   "source": [
    "df.columns = df.columns.levels[1]\n",
    "df = df.dropna(how=\"any\")\n",
    "df = df.astype(int)\n",
    "df[\"5yr_change\"] = (df[\"2014\"]-df[\"2010\"])/df[\"2010\"]\n",
    "df = df.sort_values(\"5yr_change\")\n",
    "df_selected = df.head().append(df.tail())\n",
    "df_selected"
   ]
  },
  {
   "cell_type": "code",
   "execution_count": 20,
   "metadata": {},
   "outputs": [
    {
     "data": {
      "text/html": [
       "\n",
       "            <div class=\"c3cont\">\n",
       "                <style></style>\n",
       "                <div style=\"width:100%\">\n",
       "                    <input type=\"button\" class=\"chrt-btn\" onClick=\"ch1.show()\" value=\"Show All\" />\n",
       "                    &nbsp;&nbsp;\n",
       "                    <input type=\"button\" class=\"chrt-btn\" onClick=\"ch1.hide()\" value=\"Hide All\" />\n",
       "                    <span class=\"chrt-title\">GDP Per Capita 2010-2015 Growth - Top 5 and Bottom 5 Countries</span>\n",
       "                </div>\n",
       "\n",
       "                <div id='ch1' class=\"c3chart\"></div>\n",
       "                <br/><br/>\n",
       "                <script>\n",
       "                var data = {'categories': ['2010', '2011', '2012', '2013', '2014', '2015'], 'columns': [['South Sudan', '3793.0', '3461.0', '1786.0', '1937.0', '1926.0', '1741.0'], ['Central African Republic', '888.0', '900.0', '919.0', '570.0', '565.0', '581.0'], ['Oman', '46839.0', '42479.0', '42052.0', '39827.0', '37667.0', '37541.0'], ['Lebanon', '16281.0', '15683.0', '14946.0', '14045.0', '13470.0', '13089.0'], ['Greece', '29259.0', '26626.0', '24816.0', '24186.0', '24434.0', '24535.0'], ['Macao SAR, China', '98614.0', '117340.0', '125624.0', '137164.0', '133675.0', '104718.0'], ['Sierra Leone', '1361.0', '1394.0', '1570.0', '1854.0', '1896.0', '1473.0'], ['Turkmenistan', '10031.0', '11360.0', '12459.0', '13554.0', '14761.0', '15527.0'], ['Mongolia', '7708.0', '8889.0', '9809.0', '10757.0', '11403.0', '11477.0'], ['Nauru', '6592.0', '7349.0', '8061.0', '10771.0', '14631.0', '14974.0']], 'groups': []};\n",
       "\n",
       "                var ch1 = c3.generate({\n",
       "                    bindto: \"#ch1\",\n",
       "                    size: {height: 380, width: 1020},\n",
       "                     padding: {\n",
       "                                top: 10,\n",
       "                                right: 40,\n",
       "                                bottom: 10,\n",
       "                                left: 40,\n",
       "                            },\n",
       "                    data: {\n",
       "                        columns: data.columns,\n",
       "                        type: \"line\",\n",
       "                        groups: data.groups,\n",
       "                        order: function (a, b) {\n",
       "                            return a.id < b.id;\n",
       "                        }\n",
       "                    },\n",
       "                    axis: {\n",
       "                            rotated: false,\n",
       "                            x: {\n",
       "                                type:\"category\",\n",
       "                                categories: data.categories,\n",
       "                                tick: {\n",
       "                                    fit: true,\n",
       "                                    culling: { max: 12 },\n",
       "                                    multiline: false\n",
       "                                    }\n",
       "                                },\n",
       "                            y: {\n",
       "                                  tick: {\n",
       "                                      format: d3.format(\"s\")\n",
       "                                  }\n",
       "                              }\n",
       "                          },\n",
       "                    grid: {\n",
       "                            x: {show: true},\n",
       "                            y: {show: true}\n",
       "                        },  \n",
       "\n",
       "                    tooltip: {\n",
       "                        format: {\n",
       "                            value: function (value, ratio, id) {\n",
       "                                var format = d3.format(\",\");\n",
       "                                if (value != 0) {\n",
       "                                  return format(value);\n",
       "                                }\n",
       "                             }\n",
       "                           }\n",
       "                        }     \n",
       "                });\n",
       "                </script>\n",
       "                </div>\n",
       "            "
      ],
      "text/plain": [
       "<IPython.core.display.HTML object>"
      ]
     },
     "execution_count": 20,
     "metadata": {},
     "output_type": "execute_result"
    }
   ],
   "source": [
    "ch1 = c3(data=df_selected[['2010', '2011', '2012', '2013', '2014', '2015']].T, \n",
    "         width=1020, height=380, kind=\"line\", title=\"GDP Per Capita 2010-2015 Growth - Top 5 and Bottom 5 Countries\", id=\"ch1\")\n",
    "ch1()"
   ]
  },
  {
   "cell_type": "markdown",
   "metadata": {},
   "source": [
    "#### Now lat's create a copy of the above chart presented as an area chart"
   ]
  },
  {
   "cell_type": "code",
   "execution_count": 21,
   "metadata": {},
   "outputs": [],
   "source": [
    "ch2 = ch1.copy()"
   ]
  },
  {
   "cell_type": "code",
   "execution_count": 22,
   "metadata": {},
   "outputs": [
    {
     "data": {
      "text/html": [
       "\n",
       "            <div class=\"c3cont\">\n",
       "                <style></style>\n",
       "                <div style=\"width:100%\">\n",
       "                    <input type=\"button\" class=\"chrt-btn\" onClick=\"ch2.show()\" value=\"Show All\" />\n",
       "                    &nbsp;&nbsp;\n",
       "                    <input type=\"button\" class=\"chrt-btn\" onClick=\"ch2.hide()\" value=\"Hide All\" />\n",
       "                    <span class=\"chrt-title\">GDP Per Capita 2010-2015 Growth - Top 5 and Bottom 5 Countries</span>\n",
       "                </div>\n",
       "\n",
       "                <div id='ch2' class=\"c3chart\"></div>\n",
       "                <br/><br/>\n",
       "                <script>\n",
       "                var data = {'categories': ['2010', '2011', '2012', '2013', '2014', '2015'], 'columns': [['South Sudan', '3793.0', '3461.0', '1786.0', '1937.0', '1926.0', '1741.0'], ['Central African Republic', '888.0', '900.0', '919.0', '570.0', '565.0', '581.0'], ['Oman', '46839.0', '42479.0', '42052.0', '39827.0', '37667.0', '37541.0'], ['Lebanon', '16281.0', '15683.0', '14946.0', '14045.0', '13470.0', '13089.0'], ['Greece', '29259.0', '26626.0', '24816.0', '24186.0', '24434.0', '24535.0'], ['Macao SAR, China', '98614.0', '117340.0', '125624.0', '137164.0', '133675.0', '104718.0'], ['Sierra Leone', '1361.0', '1394.0', '1570.0', '1854.0', '1896.0', '1473.0'], ['Turkmenistan', '10031.0', '11360.0', '12459.0', '13554.0', '14761.0', '15527.0'], ['Mongolia', '7708.0', '8889.0', '9809.0', '10757.0', '11403.0', '11477.0'], ['Nauru', '6592.0', '7349.0', '8061.0', '10771.0', '14631.0', '14974.0']], 'groups': [['South Sudan', 'Central African Republic', 'Oman', 'Lebanon', 'Greece', 'Macao SAR, China', 'Sierra Leone', 'Turkmenistan', 'Mongolia', 'Nauru']]};\n",
       "\n",
       "                var ch2 = c3.generate({\n",
       "                    bindto: \"#ch2\",\n",
       "                    size: {height: 380, width: 1020},\n",
       "                     padding: {\n",
       "                                top: 10,\n",
       "                                right: 40,\n",
       "                                bottom: 10,\n",
       "                                left: 40,\n",
       "                            },\n",
       "                    data: {\n",
       "                        columns: data.columns,\n",
       "                        type: \"area\",\n",
       "                        groups: data.groups,\n",
       "                        order: function (a, b) {\n",
       "                            return a.id < b.id;\n",
       "                        }\n",
       "                    },\n",
       "                    axis: {\n",
       "                            rotated: false,\n",
       "                            x: {\n",
       "                                type:\"category\",\n",
       "                                categories: data.categories,\n",
       "                                tick: {\n",
       "                                    fit: true,\n",
       "                                    culling: { max: 12 },\n",
       "                                    multiline: false\n",
       "                                    }\n",
       "                                },\n",
       "                            y: {\n",
       "                                  tick: {\n",
       "                                      format: d3.format(\"s\")\n",
       "                                  }\n",
       "                              }\n",
       "                          },\n",
       "                    grid: {\n",
       "                            x: {show: true},\n",
       "                            y: {show: true}\n",
       "                        },  \n",
       "\n",
       "                    tooltip: {\n",
       "                        format: {\n",
       "                            value: function (value, ratio, id) {\n",
       "                                var format = d3.format(\",\");\n",
       "                                if (value != 0) {\n",
       "                                  return format(value);\n",
       "                                }\n",
       "                             }\n",
       "                           }\n",
       "                        }     \n",
       "                });\n",
       "                </script>\n",
       "                </div>\n",
       "            "
      ],
      "text/plain": [
       "<IPython.core.display.HTML object>"
      ]
     },
     "execution_count": 22,
     "metadata": {},
     "output_type": "execute_result"
    }
   ],
   "source": [
    "ch2.id = \"ch2\"\n",
    "ch2.kind = \"area\"\n",
    "ch2()"
   ]
  },
  {
   "cell_type": "markdown",
   "metadata": {},
   "source": [
    "#### Render a HTML file with both files:"
   ]
  },
  {
   "cell_type": "code",
   "execution_count": 23,
   "metadata": {
    "collapsed": true
   },
   "outputs": [],
   "source": [
    "with open(\"sample.html\", \"w\") as f:\n",
    "    f.write(\"<html><body>\" + c3.head + ch1.to_html() + \"<br/><br/>\" + ch2.to_html() + \"</html></body>\")"
   ]
  },
  {
   "cell_type": "markdown",
   "metadata": {},
   "source": [
    "[Yuri Zhylyuk](http://yznotes.com) 2016-10-23"
   ]
  }
 ],
 "metadata": {
  "hide_input": false,
  "kernelspec": {
   "display_name": "Python 3",
   "language": "python",
   "name": "python3"
  },
  "language_info": {
   "codemirror_mode": {
    "name": "ipython",
    "version": 3
   },
   "file_extension": ".py",
   "mimetype": "text/x-python",
   "name": "python",
   "nbconvert_exporter": "python",
   "pygments_lexer": "ipython3",
   "version": "3.6.1"
  },
  "widgets": {
   "state": {},
   "version": "1.1.2"
  }
 },
 "nbformat": 4,
 "nbformat_minor": 1
}
