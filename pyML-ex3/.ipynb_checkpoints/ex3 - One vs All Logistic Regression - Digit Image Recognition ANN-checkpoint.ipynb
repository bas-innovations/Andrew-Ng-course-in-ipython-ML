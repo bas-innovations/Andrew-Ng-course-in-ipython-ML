{
 "cells": [
  {
   "cell_type": "markdown",
   "metadata": {},
   "source": [
    "## Machine Learning Online Class - Exercise 3 | Part 1: One-vs-all"
   ]
  },
  {
   "cell_type": "markdown",
   "metadata": {},
   "source": [
    "####  Instructions\n",
    "  ------------\n",
    "\n",
    "  This file contains code that helps you get started on the\n",
    "  linear exercise. You will need to complete the following functions\n",
    "  in this exericse:\n",
    "\n",
    "     lrCostFunction.m (logistic regression cost function)\n",
    "     oneVsAll.m\n",
    "     predictOneVsAll.m\n",
    "     predict.m\n",
    "\n",
    "  For this exercise, you will not need to change any code in this file,\n",
    "  or any other files other than those mentioned above."
   ]
  },
  {
   "cell_type": "code",
   "execution_count": 1,
   "metadata": {
    "collapsed": true
   },
   "outputs": [],
   "source": [
    "# Initialization\n",
    "import numpy as np;\n",
    "import scipy.io as sio;\n",
    "\n",
    "import matplotlib\n",
    "import matplotlib.pyplot as plt\n",
    "%matplotlib inline "
   ]
  },
  {
   "cell_type": "code",
   "execution_count": 2,
   "metadata": {
    "collapsed": true
   },
   "outputs": [],
   "source": [
    "# Setup the parameters you will use for this part of the exercise\n",
    "input_layer_size  = 400;  # 20x20 Input Images of Digits\n",
    "num_labels = 10;          # 10 labels, from 1 to 10\n",
    "                          # (note that we have mapped \"0\" to label 10)"
   ]
  },
  {
   "cell_type": "markdown",
   "metadata": {},
   "source": [
    "#### =========== Part 1: Loading and Visualizing Data ============="
   ]
  },
  {
   "cell_type": "code",
   "execution_count": 3,
   "metadata": {},
   "outputs": [
    {
     "name": "stdout",
     "output_type": "stream",
     "text": [
      "Loading and Visualizing Data ...\n",
      "\n",
      "   ...Done.\n",
      "\n",
      "Contents of mat file...\n",
      "dict_keys(['__header__', '__version__', '__globals__', 'X', 'y'])\n",
      "\n",
      "\n",
      "Dimensions of X: (5000, 400)\n",
      "Dimensions of y: (5000, 1)\n"
     ]
    }
   ],
   "source": [
    "#  We start the exercise by first loading and visualizing the dataset.\n",
    "#  You will be working with a dataset that contains handwritten digits.\n",
    "\n",
    "# Load Training Data\n",
    "print('Loading and Visualizing Data ...\\n');\n",
    "\n",
    "mat_contents = sio.loadmat('ex3data1.mat'); # training data stored in arrays X, y\n",
    "print('   ...Done.')\n",
    "print('\\nContents of mat file...')\n",
    "print(mat_contents.keys())\n",
    "X = mat_contents['X'];\n",
    "y = mat_contents['y'];\n",
    "m = np.shape(X)[0];\n",
    "print('\\n')\n",
    "print('Dimensions of X: {0}'.format(X.shape));\n",
    "print('Dimensions of y: {0}'.format(y.shape));\n"
   ]
  },
  {
   "cell_type": "code",
   "execution_count": 4,
   "metadata": {},
   "outputs": [
    {
     "name": "stdout",
     "output_type": "stream",
     "text": [
      "(100, 400)\n",
      "[[ 0.  0.  0. ...,  0.  0.  0.]\n",
      " [ 0.  0.  0. ...,  0.  0.  0.]\n",
      " [ 0.  0.  0. ...,  0.  0.  0.]\n",
      " ..., \n",
      " [ 0.  0.  0. ...,  0.  0.  0.]\n",
      " [ 0.  0.  0. ...,  0.  0.  0.]\n",
      " [ 0.  0.  0. ...,  0.  0.  0.]]\n"
     ]
    }
   ],
   "source": [
    "# Randomly select 100 data points to display\n",
    "rand_indices = np.random.permutation(m);\n",
    "sel = X[rand_indices[0:100], :];\n",
    "print(sel.shape)\n",
    "print(sel)"
   ]
  },
  {
   "cell_type": "code",
   "execution_count": 5,
   "metadata": {
    "collapsed": true
   },
   "outputs": [],
   "source": [
    "def displayData(X):\n",
    "    #DISPLAYDATA Display 2D data in a nice grid\n",
    "    #   [h, display_array] = DISPLAYDATA(X, example_width) displays 2D data\n",
    "    #   stored in X in a nice grid. It returns the figure handle h and the \n",
    "    #   displayed array if requested.\n",
    "\n",
    "    # Set example_width automatically\n",
    "    example_width = np.int_(np.round(np.sqrt(np.shape(X)[1]),0));\n",
    "    \n",
    "    # Gray Image\n",
    "    #colormap(gray);\n",
    "\n",
    "    # Compute rows, cols\n",
    "    [m, n] = np.shape(X);\n",
    "    example_height = np.int_(np.round((n / example_width),0));\n",
    "    \n",
    "    # Compute number of items to display\n",
    "    display_rows = np.int_(np.floor(np.sqrt(m)));\n",
    "    display_cols = np.int_(np.ceil(m / display_rows));\n",
    "    \n",
    "    # Between images padding\n",
    "    pad = 1;\n",
    "    # Setup blank display\n",
    "    \n",
    "    display_array = - np.ones((np.int_(pad + display_rows * (example_height + pad)), \n",
    "                              np.int_(pad + display_cols * (example_width + pad))));\n",
    "\n",
    "    print('display_rows: {0}, display_cols: {1}, example_height: {2}, example_width: {3}'.format( \\\n",
    "                            display_rows, display_cols, example_height, example_width))\n",
    "    print('display shape: {0}'.format(display_array.shape));\n",
    "          \n",
    "    # Copy each example into a patch on the display array\n",
    "    curr_ex = 0;\n",
    "    for j in np.arange(display_rows):\n",
    "        for i in np.arange(display_cols):\n",
    "            if curr_ex >= m:\n",
    "                break;\n",
    "            # Get the max value of the patch\n",
    "            max_val = np.max(np.abs(X[curr_ex, :]));\n",
    "            # Copy the patch\n",
    "            display_array[np.ix_(np.int_(pad + j * (example_height + pad) + np.arange(example_height)), \n",
    "                          np.int_(pad + i * (example_width + pad) + np.arange(example_width)))] = \\\n",
    "                        np.flip(np.reshape(X[curr_ex, :], (example_height, example_width)).T, axis = 0)  / max_val ;\n",
    "            \n",
    "            curr_ex = curr_ex + 1;\n",
    "\n",
    "        if curr_ex >= m:\n",
    "            break; \n",
    "\n",
    "    # Display Image\n",
    "    plt.imshow(display_array, origin=[-1,1], cmap=\"Blues\");\n",
    "    # Do not show axis\n",
    "    plt.axis('off');\n",
    "    plt.show();\n",
    "    \n",
    "    return display_array;\n"
   ]
  },
  {
   "cell_type": "code",
   "execution_count": 6,
   "metadata": {},
   "outputs": [
    {
     "name": "stdout",
     "output_type": "stream",
     "text": [
      "display_rows: 10, display_cols: 10, example_height: 20, example_width: 20\n",
      "display shape: (211, 211)\n"
     ]
    },
    {
     "data": {
      "image/png": "[encoded data removed]",
      "text/plain": [
       "<matplotlib.figure.Figure at 0x7f8fd900aac8>"
      ]
     },
     "metadata": {},
     "output_type": "display_data"
    }
   ],
   "source": [
    "displayData(sel);"
   ]
  },
  {
   "cell_type": "code",
   "execution_count": 7,
   "metadata": {
    "collapsed": true
   },
   "outputs": [],
   "source": [
    "def sigmoid(z):\n",
    "    #SIGMOID Compute sigmoid function\n",
    "    #   g = SIGMOID(z) computes the sigmoid of z.\n",
    "    g = 1 / (1 + np.exp(-z));\n",
    "    return g"
   ]
  },
  {
   "cell_type": "code",
   "execution_count": 8,
   "metadata": {
    "collapsed": true
   },
   "outputs": [],
   "source": [
    "def lrCostFunction(theta, X, y, lambda_ex):\n",
    "    #LRCOSTFUNCTION Compute cost and gradient for logistic regression with \n",
    "    #regularization\n",
    "    #   J = LRCOSTFUNCTION(theta, X, y, lambda) computes the cost of using\n",
    "    #   theta as the parameter for regularized logistic regression and the\n",
    "    #   gradient of the cost w.r.t. to the parameters. \n",
    "\n",
    "    # Initialize some useful values\n",
    "    m = np.shape(y)[0]; # number of training examples\n",
    "\n",
    "    # You need to return the following variables correctly \n",
    "    J = 0;\n",
    "    grad = np.zeros((np.shape(theta)));\n",
    "    \n",
    "    # Instructions: Compute the cost of a particular choice of theta.\n",
    "    #               You should set J to the cost.\n",
    "    #               Compute the partial derivatives and set grad to the partial\n",
    "    #               derivatives of the cost w.r.t. each parameter in theta\n",
    "    #\n",
    "    # Hint: The computation of the cost function and gradients can be\n",
    "    #       efficiently vectorized. For example, consider the computation\n",
    "    #\n",
    "    #           sigmoid(X * theta)\n",
    "    #\n",
    "    #       Each row of the resulting matrix will contain the value of the\n",
    "    #       prediction for that example. You can make use of this to vectorize\n",
    "    #       the cost function and gradient computations. \n",
    "    #\n",
    "    # Hint: When computing the gradient of the regularized cost function, \n",
    "    #       there're many possible vectorized solutions, but one solution\n",
    "    #       looks like:\n",
    "    #           grad = (unregularized gradient for logistic regression)\n",
    "    #           temp = theta; \n",
    "    #           temp(1) = 0;   # because we don't add anything for j = 0  \n",
    "    #           grad = grad + YOUR_CODE_HERE (using the temp variable)\n",
    "\n",
    "    y = y.reshape(-1,1);\n",
    "    hypo = (sigmoid(X.dot(theta))).reshape(-1,1);\n",
    "    cost = -1 * (1 / m) * (np.log(hypo).T.dot(y) + np.log(1 - hypo).T.dot(1 - y));\n",
    "    costReg = (lambda_ex / (2*m)) * (np.sum(theta[1:]**2));\n",
    "    J = cost + costReg;\n",
    "\n",
    "    errorTerm = (hypo - y);\n",
    "    gradReg = np.zeros((np.shape(theta)[0],1));\n",
    "    gradReg[1:] = (lambda_ex / m) * theta[1:].reshape(-1,1);\n",
    "    grad = (np.sum(errorTerm * X, axis=0)/m).reshape(-1,1) + gradReg;\n",
    "\n",
    "    return J[0][0], grad.flatten()"
   ]
  },
  {
   "cell_type": "markdown",
   "metadata": {},
   "source": [
    "#### ============ Part 2a: Vectorize Logistic Regression ============"
   ]
  },
  {
   "cell_type": "code",
   "execution_count": 9,
   "metadata": {},
   "outputs": [
    {
     "name": "stdout",
     "output_type": "stream",
     "text": [
      "Testing lrCostFunction() with regularization\n",
      "\n",
      "Cost: 2.534819\n",
      "Expected cost: 2.534819\n",
      "\n",
      "Gradients:\n",
      " 0.146561 \n",
      " -0.548558 \n",
      " 0.724722 \n",
      " 1.398003 \n",
      "\n",
      "Expected gradients:\n",
      " 0.146561\n",
      " -0.548558\n",
      " 0.724722\n",
      " 1.398003\n",
      "\n"
     ]
    }
   ],
   "source": [
    "#  In this part of the exercise, you will reuse your logistic regression\n",
    "#  code from the last exercise. You task here is to make sure that your\n",
    "#  regularized logistic regression implementation is vectorized. After\n",
    "#  that, you will implement one-vs-all classification for the handwritten\n",
    "#  digit dataset.\n",
    "\n",
    "# Test case for lrCostFunction\n",
    "print('Testing lrCostFunction() with regularization');\n",
    "\n",
    "theta_t = np.array([-2, -1, 1, 2]).reshape(-1,1);\n",
    "X_t = np.reshape(np.arange(1,15+1),(3,5)).T;\n",
    "X_t = np.concatenate((np.ones((5,1)), X_t/10), axis=1);\n",
    "y_t = np.array([1,0,1,0,1]).reshape(-1,1);\n",
    "lambda_t = 3;\n",
    "[J, grad] = lrCostFunction(theta_t, X_t, y_t, lambda_t);\n",
    "\n",
    "print('\\nCost: {0:0.6f}'.format(J));\n",
    "print('Expected cost: 2.534819');\n",
    "print('\\nGradients:');\n",
    "for i in np.arange(np.shape(grad)[0]):\n",
    "    print(' {0:0.6f} '.format(grad[i]));\n",
    "print('\\nExpected gradients:');\n",
    "print(' 0.146561\\n -0.548558\\n 0.724722\\n 1.398003\\n');"
   ]
  },
  {
   "cell_type": "markdown",
   "metadata": {},
   "source": [
    "#### ============ Part 2b: One-vs-All Training ============"
   ]
  },
  {
   "cell_type": "code",
   "execution_count": 10,
   "metadata": {
    "collapsed": true
   },
   "outputs": [],
   "source": [
    "from scipy.optimize import minimize\n",
    "\n",
    "def oneVsAll(X, y, num_labels, lambda_ex):\n",
    "    #ONEVSALL trains multiple logistic regression classifiers and returns all\n",
    "    #the classifiers in a matrix all_theta, where the i-th row of all_theta \n",
    "    #corresponds to the classifier for label i\n",
    "    #   [all_theta] = ONEVSALL(X, y, num_labels, lambda) trains num_labels\n",
    "    #   logistic regression classifiers and returns each of these classifiers\n",
    "    #   in a matrix all_theta, where the i-th row of all_theta corresponds \n",
    "    #   to the classifier for label i\n",
    "\n",
    "    # Some useful variables\n",
    "    [m, n] = np.shape(X);\n",
    "\n",
    "    # You need to return the following variables correctly \n",
    "    all_theta = np.zeros((num_labels, n + 1));\n",
    "\n",
    "    # Add ones to the X data matrix\n",
    "    Xml = np.concatenate((np.ones((m,1)), X), axis=1);\n",
    "\n",
    "    # ====================== YOUR CODE HERE ======================\n",
    "    # Instructions: You should complete the following code to train num_labels\n",
    "    #               logistic regression classifiers with regularization\n",
    "    #               parameter lambda. \n",
    "    #\n",
    "    # Hint: theta(:) will return a column vector.\n",
    "    #\n",
    "    # Hint: You can use y == c to obtain a vector of 1's and 0's that tell you\n",
    "    #       whether the ground truth is true/false for this class.\n",
    "    #\n",
    "    # Note: For this assignment, we recommend using fmincg to optimize the cost\n",
    "    #       function. It is okay to use a for-loop (for c = 1:num_labels) to\n",
    "    #       loop over the different classes.\n",
    "    #\n",
    "    #       fmincg works similarly to fminunc, but is more efficient when we\n",
    "    #       are dealing with large number of parameters.\n",
    "    #\n",
    "    # Example Code for fmincg:\n",
    "    #\n",
    "    #     # Set Initial theta\n",
    "    #     initial_theta = zeros(n + 1, 1);\n",
    "    #     \n",
    "    #     # Set options for fminunc\n",
    "    #     options = optimset('GradObj', 'on', 'MaxIter', 50);\n",
    "    # \n",
    "    #     # Run fmincg to obtain the optimal theta\n",
    "    #     # This function will return theta and the cost \n",
    "    #     [theta] = ...\n",
    "    #         fmincg (@(t)(lrCostFunction(t, X, (y == c), lambda)), ...\n",
    "    #                 initial_theta, options);\n",
    "    #\n",
    "\n",
    "    for i in np.arange(num_labels):\n",
    "        initial_theta = np.zeros((np.shape(Xml)[1], 1));\n",
    "        c = (y == (i+1)).reshape(-1,1) # use i+1 as python numpy array have a zero index.\n",
    "        Result = minimize(fun = lrCostFunction, \n",
    "                                 x0 = initial_theta, \n",
    "                                 args = (Xml, c, lambda_ex),\n",
    "                                 method = 'L-BFGS-B',\n",
    "                                 jac = True, # set to true as costFunction returns both the cost and gradient\n",
    "                                 options={'disp': True, \n",
    "                                          'gtol': 1e-05, \n",
    "                                          'maxiter': 50});\n",
    "\n",
    "        optimal_theta = Result.x;\n",
    "        cost = Result.fun;\n",
    "        print('i: {0}, \\tcost: {1:0.6f}'.format(i+1, cost));\n",
    "        all_theta[i, :] = optimal_theta;\n",
    "\n",
    "    return all_theta\n"
   ]
  },
  {
   "cell_type": "code",
   "execution_count": 11,
   "metadata": {},
   "outputs": [
    {
     "name": "stdout",
     "output_type": "stream",
     "text": [
      "\n",
      "Training One-vs-All Logistic Regression...\n",
      "\n",
      "i: 1, \tcost: 0.013151\n",
      "i: 2, \tcost: 0.052497\n",
      "i: 3, \tcost: 0.058868\n",
      "i: 4, \tcost: 0.033605\n",
      "i: 5, \tcost: 0.055913\n",
      "i: 6, \tcost: 0.018481\n",
      "i: 7, \tcost: 0.031131\n",
      "i: 8, \tcost: 0.080051\n",
      "i: 9, \tcost: 0.072360\n",
      "i: 10, \tcost: 0.008603\n"
     ]
    }
   ],
   "source": [
    "print('\\nTraining One-vs-All Logistic Regression...\\n')\n",
    "lambda_ex = 0.1;\n",
    "all_theta = oneVsAll(X, y, num_labels, lambda_ex);"
   ]
  },
  {
   "cell_type": "markdown",
   "metadata": {},
   "source": [
    "#### ================ Part 3: Predict for One-Vs-All ================"
   ]
  },
  {
   "cell_type": "code",
   "execution_count": 12,
   "metadata": {
    "collapsed": true
   },
   "outputs": [],
   "source": [
    "def predictOneVsAll(all_theta, X):\n",
    "    #PREDICT Predict the label for a trained one-vs-all classifier. The labels \n",
    "    #are in the range 1..K, where K = size(all_theta, 1). \n",
    "    #  p = PREDICTONEVSALL(all_theta, X) will return a vector of predictions\n",
    "    #  for each example in the matrix X. Note that X contains the examples in\n",
    "    #  rows. all_theta is a matrix where the i-th row is a trained logistic\n",
    "    #  regression theta vector for the i-th class. You should set p to a vector\n",
    "    #  of values from 1..K (e.g., p = [1; 3; 1; 2] predicts classes 1, 3, 1, 2\n",
    "    #  for 4 examples) \n",
    "\n",
    "    m = np.shape(X)[0];\n",
    "    num_labels = np.shape(all_theta)[0];\n",
    "\n",
    "    # You need to return the following variables correctly \n",
    "    p = np.zeros((np.shape(X)[0], 1));\n",
    "\n",
    "    # Add ones to the X data matrix\n",
    "    Xml = np.concatenate((np.ones((m,1)), X), axis=1);\n",
    "\n",
    "    # ====================== YOUR CODE HERE ======================\n",
    "    # Instructions: Complete the following code to make predictions using\n",
    "    #               your learned logistic regression parameters (one-vs-all).\n",
    "    #               You should set p to a vector of predictions (from 1 to\n",
    "    #               num_labels).\n",
    "    #\n",
    "    # Hint: This code can be done all vectorized using the max function.\n",
    "    #       In particular, the max function can also return the index of the \n",
    "    #       max element, for more information see 'help max'. If your examples \n",
    "    #       are in rows, then, you can use max(A, [], 2) to obtain the max \n",
    "    #       for each row.\n",
    "    #       \n",
    "\n",
    "    c = Xml.dot(all_theta.T);\n",
    "    p = (np.argmax(c, axis=1)+1).reshape(-1,1);\n",
    "    return p.reshape(-1,1);"
   ]
  },
  {
   "cell_type": "code",
   "execution_count": 13,
   "metadata": {},
   "outputs": [
    {
     "name": "stdout",
     "output_type": "stream",
     "text": [
      "\n",
      "Training Set Accuracy: 96.20%\n",
      "\n"
     ]
    }
   ],
   "source": [
    "pred = predictOneVsAll(all_theta, X);\n",
    "print('\\nTraining Set Accuracy: {0:0.2f}%\\n'.format(np.mean(((pred) == y)) * 100));"
   ]
  },
  {
   "cell_type": "markdown",
   "metadata": {},
   "source": [
    "## Machine Learning Online Class - Exercise 3 | Part 2: Neural Networks"
   ]
  },
  {
   "cell_type": "markdown",
   "metadata": {},
   "source": [
    "####  Instructions\n",
    "-------------\n",
    " \n",
    "  This file contains code that helps you get started on the\n",
    "  linear exercise. You will need to complete the following functions \n",
    "  in this exericse:\n",
    "\n",
    "     lrCostFunction.m (logistic regression cost function)\n",
    "     oneVsAll.m\n",
    "     predictOneVsAll.m\n",
    "     predict.m\n",
    "\n",
    "  For this exercise, you will not need to change any code in this file,\n",
    "  or any other files other than those mentioned above."
   ]
  },
  {
   "cell_type": "code",
   "execution_count": 14,
   "metadata": {
    "collapsed": true
   },
   "outputs": [],
   "source": [
    "## Initialization"
   ]
  },
  {
   "cell_type": "code",
   "execution_count": 15,
   "metadata": {
    "collapsed": true
   },
   "outputs": [],
   "source": [
    "## Setup the parameters you will use for this exercise\n",
    "input_layer_size  = 400;  # 20x20 Input Images of Digits\n",
    "hidden_layer_size = 25;   # 25 hidden units\n",
    "num_labels = 10;          # 10 labels, from 1 to 10   \n",
    "                          # (note that we have mapped \"0\" to label 10)"
   ]
  },
  {
   "cell_type": "markdown",
   "metadata": {},
   "source": [
    "#### =========== Part 1: Loading and Visualizing Data ============="
   ]
  },
  {
   "cell_type": "code",
   "execution_count": 16,
   "metadata": {},
   "outputs": [
    {
     "name": "stdout",
     "output_type": "stream",
     "text": [
      "Loading and Visualizing Data ...\n",
      "\n",
      "dict_keys(['__header__', '__version__', '__globals__', 'X', 'y'])\n",
      "   ...Done.\n"
     ]
    }
   ],
   "source": [
    "#  We start the exercise by first loading and visualizing the dataset. \n",
    "#  You will be working with a dataset that contains handwritten digits.\n",
    "#\n",
    "\n",
    "# Load Training Data\n",
    "print('Loading and Visualizing Data ...\\n');\n",
    "\n",
    "mat_contents = sio.loadmat('ex3data1.mat'); # training data stored in arrays X, y\n",
    "print(mat_contents.keys())\n",
    "X = mat_contents['X'];\n",
    "y = mat_contents['y'];\n",
    "m = np.shape(X)[0];\n",
    "print('   ...Done.')"
   ]
  },
  {
   "cell_type": "code",
   "execution_count": 17,
   "metadata": {},
   "outputs": [
    {
     "name": "stdout",
     "output_type": "stream",
     "text": [
      "display_rows: 10, display_cols: 10, example_height: 20, example_width: 20\n",
      "display shape: (211, 211)\n"
     ]
    },
    {
     "data": {
      "image/png": "[encoded data removed]",
      "text/plain": [
       "<matplotlib.figure.Figure at 0x7f8fb0527668>"
      ]
     },
     "metadata": {},
     "output_type": "display_data"
    }
   ],
   "source": [
    "# Randomly select 100 data points to display\n",
    "rand_indices = np.random.permutation(m);\n",
    "sel = X[rand_indices[0:100], :];\n",
    "\n",
    "displayData(sel);"
   ]
  },
  {
   "cell_type": "markdown",
   "metadata": {},
   "source": [
    "#### ================ Part 2: Loading Pameters ================"
   ]
  },
  {
   "cell_type": "code",
   "execution_count": 18,
   "metadata": {},
   "outputs": [
    {
     "name": "stdout",
     "output_type": "stream",
     "text": [
      "\n",
      "Loading Saved Neural Network Parameters ...\n",
      "\n",
      "   ...Done.\n",
      "dict_keys(['__header__', '__version__', '__globals__', 'Theta1', 'Theta2'])\n"
     ]
    }
   ],
   "source": [
    "# In this part of the exercise, we load some pre-initialized \n",
    "# neural network parameters.\n",
    "\n",
    "print('\\nLoading Saved Neural Network Parameters ...\\n')\n",
    "\n",
    "# Load the weights into variables Theta1 and Theta2\n",
    "mat_contents = sio.loadmat('ex3weights.mat');\n",
    "print('   ...Done.')\n",
    "\n",
    "print(mat_contents.keys())\n",
    "Theta1 = mat_contents['Theta1'];\n",
    "Theta2 = mat_contents['Theta2'];"
   ]
  },
  {
   "cell_type": "markdown",
   "metadata": {},
   "source": [
    "#### ================= Part 3: Implement Predict ================="
   ]
  },
  {
   "cell_type": "code",
   "execution_count": 19,
   "metadata": {
    "collapsed": true
   },
   "outputs": [],
   "source": [
    "def predict(Theta1, Theta2, X):\n",
    "    #PREDICT Predict the label of an input given a trained neural network\n",
    "    #   p = PREDICT(Theta1, Theta2, X) outputs the predicted label of X given the\n",
    "    #   trained weights of a neural network (Theta1, Theta2)\n",
    "\n",
    "    # Useful values\n",
    "    [m, n] = np.shape(X);\n",
    "    num_labels = np.shape(Theta2)[0];\n",
    "\n",
    "    # You need to return the following variables correctly \n",
    "    p = np.zeros((np.shape(X)[0], 1));\n",
    "    \n",
    "    # ====================== YOUR CODE HERE ======================\n",
    "    # Instructions: Complete the following code to make predictions using\n",
    "    #               your learned neural network. You should set p to a \n",
    "    #               vector containing labels between 1 to num_labels.\n",
    "    #\n",
    "    # Hint: The max function might come in useful. In particular, the max\n",
    "    #       function can also return the index of the max element, for more\n",
    "    #       information see 'help max'. If your examples are in rows, then, you\n",
    "    #       can use max(A, [], 2) to obtain the max for each row.\n",
    "    #\n",
    "\n",
    "    Xml = np.concatenate((np.ones((m,1)), X), axis=1);\n",
    "    Z = Xml.dot(Theta1.T);\n",
    "    A1 = sigmoid(Z);\n",
    "    A1 = np.concatenate((np.ones((m,1)), A1), axis=1);\n",
    "    Z2 = A1.dot(Theta2.T);\n",
    "    A2 = sigmoid(Z2);\n",
    "    p = (np.argmax(A2, axis=1)+1).reshape(-1,1);\n",
    "    return p;"
   ]
  },
  {
   "cell_type": "code",
   "execution_count": 20,
   "metadata": {},
   "outputs": [
    {
     "name": "stdout",
     "output_type": "stream",
     "text": [
      "\n",
      "Training Set Accuracy: 97.52\n",
      "\n"
     ]
    }
   ],
   "source": [
    "#  After training the neural network, we would like to use it to predict\n",
    "#  the labels. You will now implement the \"predict\" function to use the\n",
    "#  neural network to predict the labels of the training set. This lets\n",
    "#  you compute the training set accuracy.\n",
    "\n",
    "pred = predict(Theta1, Theta2, X);\n",
    "print('\\nTraining Set Accuracy: {0}\\n'.format(np.mean((pred == y)) * 100));"
   ]
  },
  {
   "cell_type": "code",
   "execution_count": 21,
   "metadata": {},
   "outputs": [
    {
     "name": "stdout",
     "output_type": "stream",
     "text": [
      "Training set accuracy: 96.5 %\n"
     ]
    }
   ],
   "source": [
    "#### Multiclass Logistic Regression with scikit-learn\n",
    "from sklearn.linear_model import LogisticRegression\n",
    "\n",
    "clf = LogisticRegression(C=10, penalty='l2', solver='liblinear')\n",
    "# Scikit-learn fits intercept automatically, so we exclude first column with 'ones' from X when fitting.\n",
    "clf.fit(X[:,1:],y.ravel())\n",
    "\n",
    "pred2 = clf.predict(X[:,1:])\n",
    "print('Training set accuracy: {} %'.format(np.mean(pred2 == y.ravel())*100))"
   ]
  },
  {
   "cell_type": "code",
   "execution_count": 22,
   "metadata": {},
   "outputs": [
    {
     "name": "stdout",
     "output_type": "stream",
     "text": [
      "Displaying Example Image: 1043\n",
      "\n",
      "display_rows: 1, display_cols: 1, example_height: 20, example_width: 20\n",
      "display shape: (22, 22)\n"
     ]
    },
    {
     "data": {
      "image/png": "[encoded data removed]",
      "text/plain": [
       "<matplotlib.figure.Figure at 0x7f8fa60fca58>"
      ]
     },
     "metadata": {},
     "output_type": "display_data"
    },
    {
     "name": "stdout",
     "output_type": "stream",
     "text": [
      "Neural Network Prediction: 2 (digit 2)\n",
      "\n"
     ]
    }
   ],
   "source": [
    "#  To give you an idea of the network's output, you can also run\n",
    "#  through the examples one at the a time to see what it is predicting.\n",
    "\n",
    "#  Get random image row to display\n",
    "i = np.random.randint(0, np.shape(X)[0]-1)\n",
    "\n",
    "# Display\n",
    "print('Displaying Example Image: {0}\\n'.format(i));\n",
    "displayData(X[i, :].reshape(1,-1));\n",
    "\n",
    "pred = predict(Theta1, Theta2, X[i, :].reshape(1,-1));\n",
    "print('Neural Network Prediction: {0} (digit {1})\\n'.format(pred[0][0], pred[0][0]%10));\n"
   ]
  },
  {
   "cell_type": "code",
   "execution_count": null,
   "metadata": {
    "collapsed": true
   },
   "outputs": [],
   "source": []
  }
 ],
 "metadata": {
  "kernelspec": {
   "display_name": "Python 3",
   "language": "python",
   "name": "python3"
  },
  "language_info": {
   "codemirror_mode": {
    "name": "ipython",
    "version": 3
   },
   "file_extension": ".py",
   "mimetype": "text/x-python",
   "name": "python",
   "nbconvert_exporter": "python",
   "pygments_lexer": "ipython3",
   "version": "3.6.1"
  }
 },
 "nbformat": 4,
 "nbformat_minor": 2
}
