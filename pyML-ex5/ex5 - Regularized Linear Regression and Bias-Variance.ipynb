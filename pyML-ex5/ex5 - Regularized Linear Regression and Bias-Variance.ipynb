{
 "cells": [
  {
   "cell_type": "markdown",
   "metadata": {},
   "source": [
    "## Machine Learning Online Class - Exercise 5 | Regularized Linear Regression and Bias-Variance"
   ]
  },
  {
   "cell_type": "markdown",
   "metadata": {},
   "source": [
    "\n",
    "  Instructions\n",
    "  ------------\n",
    " \n",
    "  This file contains code that helps you get started on the\n",
    "  exercise. You will need to complete the following functions:\n",
    "\n",
    "     linearRegCostFunction.m\n",
    "     learningCurve.m\n",
    "     validationCurve.m\n",
    "\n",
    "  For this exercise, you will not need to change any code in this file,\n",
    "  or any other files other than those mentioned above.\n"
   ]
  },
  {
   "cell_type": "code",
   "execution_count": 1,
   "metadata": {
    "collapsed": true
   },
   "outputs": [],
   "source": [
    "## Initialization\n",
    "import numpy as np;\n",
    "import scipy.io as sio;\n",
    "from scipy.optimize import minimize\n",
    "\n",
    "import matplotlib\n",
    "import matplotlib.pyplot as plt\n",
    "%matplotlib inline "
   ]
  },
  {
   "cell_type": "markdown",
   "metadata": {},
   "source": [
    "#### =========== Part 1: Loading and Visualizing Data ============="
   ]
  },
  {
   "cell_type": "code",
   "execution_count": 2,
   "metadata": {},
   "outputs": [
    {
     "name": "stdout",
     "output_type": "stream",
     "text": [
      "Loading and Visualizing Data ...\n",
      "   ...Done.\n",
      "\n",
      "Contents of mat file...\n",
      "dict_keys(['__header__', '__version__', '__globals__', 'X', 'y', 'Xtest', 'ytest', 'Xval', 'yval'])\n",
      "\n",
      "\n",
      "Dimensions of X: (12, 1)\n",
      "Dimensions of y: (12, 1)\n",
      "Dimensions of Xval: (21, 1)\n",
      "Dimensions of yval: (21, 1)\n",
      "Dimensions of Xtest: (21, 1)\n",
      "Dimensions of ytest: (21, 1)\n"
     ]
    }
   ],
   "source": [
    "#  We start the exercise by first loading and visualizing the dataset. \n",
    "#  The following code will load the dataset into your environment and plot\n",
    "#  the data.\n",
    "#\n",
    "\n",
    "# Load Training Data\n",
    "print('Loading and Visualizing Data ...');\n",
    "\n",
    "# Load from ex5data1: \n",
    "# You will have X, y, Xval, yval, Xtest, ytest in your environment\n",
    "mat_contents = sio.loadmat('ex5data1.mat');\n",
    "print('   ...Done.')\n",
    "print('\\nContents of mat file...')\n",
    "print(mat_contents.keys())\n",
    "X = mat_contents['X'];\n",
    "y = mat_contents['y'];\n",
    "Xval = mat_contents['Xval'];\n",
    "yval = mat_contents['yval'];\n",
    "Xtest = mat_contents['Xtest'];\n",
    "ytest = mat_contents['ytest'];\n",
    "\n",
    "# m = Number of examples\n",
    "m = np.shape(X)[0];\n",
    "mval = np.shape(Xval)[0];\n",
    "mtest = np.shape(Xtest)[0];\n",
    "print('\\n')\n",
    "print('Dimensions of X: {0}'.format(X.shape));\n",
    "print('Dimensions of y: {0}'.format(y.shape));\n",
    "print('Dimensions of Xval: {0}'.format(Xval.shape));\n",
    "print('Dimensions of yval: {0}'.format(yval.shape));\n",
    "print('Dimensions of Xtest: {0}'.format(Xval.shape));\n",
    "print('Dimensions of ytest: {0}'.format(yval.shape));"
   ]
  },
  {
   "cell_type": "code",
   "execution_count": 3,
   "metadata": {
    "collapsed": true
   },
   "outputs": [],
   "source": [
    "# add intercept terms to matrices\n",
    "Xml = np.concatenate((np.ones((m,1)), X), axis=1);\n",
    "Xvalml = np.concatenate((np.ones((mval,1)), Xval), axis=1);\n",
    "Xtestml = np.concatenate((np.ones((mtest,1)), Xtest), axis=1);"
   ]
  },
  {
   "cell_type": "code",
   "execution_count": 4,
   "metadata": {},
   "outputs": [
    {
     "data": {
      "image/png": "[encoded data removed]",
      "text/plain": [
       "<matplotlib.figure.Figure at 0x7fd3d6d45a20>"
      ]
     },
     "metadata": {},
     "output_type": "display_data"
    }
   ],
   "source": [
    "# Plot training data\n",
    "plt.plot(X, y, 'rx', markersize=10, linewidth=1.5);\n",
    "plt.xlabel('Change in water level (x)');\n",
    "plt.ylabel('Water flowing out of the dam (y)');"
   ]
  },
  {
   "cell_type": "markdown",
   "metadata": {},
   "source": [
    "#### =========== Part 2: Regularized Linear Regression Cost ============="
   ]
  },
  {
   "cell_type": "code",
   "execution_count": 5,
   "metadata": {
    "collapsed": true
   },
   "outputs": [],
   "source": [
    "def linearRegCostFunction(X, y, theta, lambda_ex):\n",
    "    #LINEARREGCOSTFUNCTION Compute cost and gradient for regularized linear \n",
    "    #regression with multiple variables\n",
    "    #   [J, grad] = LINEARREGCOSTFUNCTION(X, y, theta, lambda) computes the \n",
    "    #   cost of using theta as the parameter for linear regression to fit the \n",
    "    #   data points in X and y. Returns the cost in J and the gradient in grad\n",
    "\n",
    "    # Initialize some useful values\n",
    "    m = np.shape(y)[0]; # number of training examples\n",
    "\n",
    "    # You need to return the following variables correctly \n",
    "    J = 0;\n",
    "    grad = np.zeros((np.shape(theta)));\n",
    "    \n",
    "\n",
    "    # ====================== YOUR CODE HERE ======================\n",
    "    # Instructions: Compute the cost and gradient of regularized linear \n",
    "    #               regression for a particular choice of theta.\n",
    "    #\n",
    "    #               You should set J to the cost and grad to the gradient.\n",
    "    #\n",
    "\n",
    "    theta = theta.reshape(-1,1);\n",
    "    y = y.reshape(-1,1);\n",
    "    \n",
    "    hypo = X.dot(theta)\n",
    "    cost = np.sum((hypo - y)**2) / (2 * m);\n",
    "    costReg = (lambda_ex / (2*m)) * (np.sum(theta[1:]**2));\n",
    "    J = cost + costReg;\n",
    "\n",
    "    errorTerm = (hypo - y);\n",
    "    gradReg = np.zeros((np.shape(theta)[0],1));\n",
    "    gradReg[1:] = (lambda_ex / m) * theta[1:].reshape(-1,1);\n",
    "    grad = (np.sum(errorTerm * X, axis=0)/m).reshape(-1,1) + gradReg;\n",
    "\n",
    "    return J, grad.flatten()"
   ]
  },
  {
   "cell_type": "code",
   "execution_count": 6,
   "metadata": {},
   "outputs": [
    {
     "name": "stdout",
     "output_type": "stream",
     "text": [
      "Cost at theta = [1, 1]: 303.993192 \n",
      "(this value should be about 303.993192)\n",
      "\n"
     ]
    }
   ],
   "source": [
    "#  You should now implement the cost function for regularized linear \n",
    "#  regression. \n",
    "#\n",
    "\n",
    "lambda_ex = 1;\n",
    "theta = np.array([1, 1]).reshape(-1,1);\n",
    "Xml = np.concatenate((np.ones((m,1)), X), axis=1);\n",
    "[J, grad] = linearRegCostFunction(Xml, y, theta, lambda_ex);\n",
    "\n",
    "print('Cost at theta = [1, 1]: {0:0.6f} \\n(this value should be about 303.993192)\\n'.format(J));"
   ]
  },
  {
   "cell_type": "markdown",
   "metadata": {},
   "source": [
    "#### =========== Part 3: Regularized Linear Regression Gradient ============="
   ]
  },
  {
   "cell_type": "code",
   "execution_count": 7,
   "metadata": {},
   "outputs": [
    {
     "name": "stdout",
     "output_type": "stream",
     "text": [
      "Gradient at theta = [1, 1]:\t[-15.303016; 598.250744]\n",
      "  (this value should be about:\t[-15.303016; 598.250744])\n",
      "\n"
     ]
    }
   ],
   "source": [
    "#  You should now implement the gradient for regularized linear \n",
    "#  regression.\n",
    "#\n",
    "\n",
    "lambda_ex = 1;\n",
    "theta = np.array([1, 1]).reshape(-1,1);\n",
    "[J, grad] = linearRegCostFunction(Xml, y, theta, lambda_ex);\n",
    "\n",
    "print('Gradient at theta = [1, 1]:\\t[{0:10.6f}; {1:10.6f}]'. format(grad[0], grad[1]));\n",
    "print('  (this value should be about:\\t[-15.303016; 598.250744])\\n')"
   ]
  },
  {
   "cell_type": "markdown",
   "metadata": {},
   "source": [
    "#### =========== Part 4: Train Linear Regression ============="
   ]
  },
  {
   "cell_type": "code",
   "execution_count": 8,
   "metadata": {
    "collapsed": true
   },
   "outputs": [],
   "source": [
    "def trainLinearReg(Xml, y, lambda_ex):\n",
    "    #TRAINLINEARREG Trains linear regression given a dataset (X, y) and a\n",
    "    #regularization parameter lambda\n",
    "    #   [theta] = TRAINLINEARREG (X, y, lambda) trains linear regression using\n",
    "    #   the dataset (X, y) and regularization parameter lambda. Returns the\n",
    "    #   trained parameters theta.\n",
    "    #\n",
    "\n",
    "    # Initialize Theta\n",
    "    initial_theta = np.zeros((np.shape(Xml)[1], 1));\n",
    "    \n",
    "    # Create \"short hand\" for the cost function to be minimized\n",
    "    def costFunc(p):\n",
    "        return linearRegCostFunction(Xml, y, p, lambda_ex)\n",
    "    # Now, costFunction is a function that takes in only one argument\n",
    "\n",
    "    # Minimize using scipy.optimize.minimize\n",
    "    Result = minimize(fun = costFunc, \n",
    "                             x0 = initial_theta,\n",
    "                             args = (),\n",
    "                             method = 'L-BFGS-B',\n",
    "                             jac = True, # set to true as costFunction returns both the cost and gradient\n",
    "                             options={'disp': True, \n",
    "                                      'gtol': 1e-05, \n",
    "                                      'maxiter': 600});\n",
    "\n",
    "    optimal_theta = Result.x;\n",
    "    cost = Result.fun;\n",
    "\n",
    "    return cost, optimal_theta"
   ]
  },
  {
   "cell_type": "code",
   "execution_count": 9,
   "metadata": {
    "collapsed": true
   },
   "outputs": [],
   "source": [
    "#  Once you have implemented the cost and gradient correctly, the\n",
    "#  trainLinearReg function will use your cost function to train \n",
    "#  regularized linear regression.\n",
    "# \n",
    "#  Write Up Note: The data is non-linear, so this will not give a great \n",
    "#                 fit.\n",
    "#\n",
    "\n",
    "#  Train linear regression with lambda = 0\n",
    "lambda_ex = 1;\n",
    "[cost, optimal_theta] = trainLinearReg(Xml, y, lambda_ex);"
   ]
  },
  {
   "cell_type": "code",
   "execution_count": 10,
   "metadata": {},
   "outputs": [
    {
     "data": {
      "image/png": "[encoded data removed]",
      "text/plain": [
       "<matplotlib.figure.Figure at 0x7fd3d46bbba8>"
      ]
     },
     "metadata": {},
     "output_type": "display_data"
    }
   ],
   "source": [
    "#  Plot fit over the data\n",
    "fig, ax = plt.subplots()\n",
    "ax.plot(X, y, 'rx', markersize=10, linewidth=1.5, label='Water Flow');\n",
    "plt.xlabel('Change in water level (x)');\n",
    "plt.ylabel('Water flowing out of the dam (y)');\n",
    "#y_fit = Xml.dot(theta);\n",
    "#plt.plot(X, y_fit, '--', linewidth=2);\n",
    "\n",
    "intercept = optimal_theta[0];\n",
    "slope = optimal_theta[1];\n",
    "\n",
    "def abline(slope, intercept):\n",
    "    \"\"\"Plot a line from slope and intercept\"\"\"\n",
    "    axes = plt.gca()\n",
    "    x_vals = np.array(axes.get_xlim())\n",
    "    y_vals = intercept + slope * x_vals\n",
    "    abLine = plt.plot(x_vals, y_vals, '--', label=\"Linear Regression\")\n",
    "    return abLine\n",
    "    \n",
    "abLine = abline(slope, intercept);\n",
    "ax.legend();"
   ]
  },
  {
   "cell_type": "markdown",
   "metadata": {},
   "source": [
    "#### =========== Part 5: Learning Curve for Linear Regression ============="
   ]
  },
  {
   "cell_type": "code",
   "execution_count": 11,
   "metadata": {
    "collapsed": true
   },
   "outputs": [],
   "source": [
    "def learningCurve(X, y, Xval, yval, lambda_ex):\n",
    "    #LEARNINGCURVE Generates the train and cross validation set errors needed \n",
    "    #to plot a learning curve\n",
    "    #   [error_train, error_val] = ...\n",
    "    #       LEARNINGCURVE(X, y, Xval, yval, lambda) returns the train and\n",
    "    #       cross validation set errors for a learning curve. In particular, \n",
    "    #       it returns two vectors of the same length - error_train and \n",
    "    #       error_val. Then, error_train(i) contains the training error for\n",
    "    #       i examples (and similarly for error_val(i)).\n",
    "    #\n",
    "    #   In this function, you will compute the train and test errors for\n",
    "    #   dataset sizes from 1 up to m. In practice, when working with larger\n",
    "    #   datasets, you might want to do this in larger intervals.\n",
    "    #\n",
    "\n",
    "    # Number of training examples\n",
    "    m = np.shape(X)[0];\n",
    "\n",
    "    # You need to return these values correctly\n",
    "    error_train = np.zeros((m, 1));\n",
    "    error_val   = np.zeros((m, 1));\n",
    "\n",
    "    # ====================== YOUR CODE HERE ======================\n",
    "    # Instructions: Fill in this function to return training errors in \n",
    "    #               error_train and the cross validation errors in error_val. \n",
    "    #               i.e., error_train(i) and \n",
    "    #               error_val(i) should give you the errors\n",
    "    #               obtained after training on i examples.\n",
    "    #\n",
    "    # Note: You should evaluate the training error on the first i training\n",
    "    #       examples (i.e., X(1:i, :) and y(1:i)).\n",
    "    #\n",
    "    #       For the cross-validation error, you should instead evaluate on\n",
    "    #       the _entire_ cross validation set (Xval and yval).\n",
    "    #\n",
    "    # Note: If you are using your cost function (linearRegCostFunction)\n",
    "    #       to compute the training and cross validation error, you should \n",
    "    #       call the function with the lambda argument set to 0. \n",
    "    #       Do note that you will still need to use lambda when running\n",
    "    #       the training to obtain the theta parameters.\n",
    "    #\n",
    "    # Hint: You can loop over the examples with the following:\n",
    "    #\n",
    "    #       for i = 1:m\n",
    "    #           # Compute train/cross validation errors using training examples \n",
    "    #           # X(1:i, :) and y(1:i), storing the result in \n",
    "    #           # error_train(i) and error_val(i)\n",
    "    #           ....\n",
    "    #           \n",
    "    #       end\n",
    "    #\n",
    "\n",
    "    # ---------------------- Sample Solution ----------------------\n",
    "\n",
    "    for i in np.arange(1,m+1):\n",
    "\n",
    "        Xtrain = X[:i, :];\n",
    "        ytrain = y[:i];\n",
    "\n",
    "        [cost, theta] = trainLinearReg(Xtrain, ytrain, lambda_ex);\n",
    "\n",
    "        # we set lambda to zero when calculating the computing the training\n",
    "        # and cross validation errors.\n",
    "        [J, grad] = linearRegCostFunction(Xtrain, ytrain, theta, 0);\n",
    "        error_train[i-1] = J;\n",
    "        [J, grad] = linearRegCostFunction(Xval, yval, theta, 0);\n",
    "        error_val[i-1] = J;\n",
    "\n",
    "    return error_train, error_val;"
   ]
  },
  {
   "cell_type": "code",
   "execution_count": 12,
   "metadata": {
    "collapsed": true
   },
   "outputs": [],
   "source": [
    "#  Next, you should implement the learningCurve function. \n",
    "#\n",
    "#  Write Up Note: Since the model is underfitting the data, we expect to\n",
    "#                 see a graph with \"high bias\" -- Figure 3 in ex5.pdf \n",
    "#\n",
    "\n",
    "lambda_ex = 0;\n",
    "[error_train, error_val] = learningCurve(Xml, y, Xvalml, yval, lambda_ex);"
   ]
  },
  {
   "cell_type": "code",
   "execution_count": 13,
   "metadata": {},
   "outputs": [
    {
     "data": {
      "image/png": "[encoded data removed]",
      "text/plain": [
       "<matplotlib.figure.Figure at 0x7fd3d45adef0>"
      ]
     },
     "metadata": {},
     "output_type": "display_data"
    }
   ],
   "source": [
    "plt.plot(np.arange(1,m+1), error_train, label='Train');\n",
    "plt.plot(np.arange(1,m+1), error_val, label='Cross Validation');\n",
    "plt.title('Learning curve for linear regression');\n",
    "plt.xlabel('Number of training examples');\n",
    "plt.ylabel('Error');\n",
    "plt.axis([0, 13, 0, 150]);\n",
    "plt.legend();"
   ]
  },
  {
   "cell_type": "code",
   "execution_count": 14,
   "metadata": {},
   "outputs": [
    {
     "name": "stdout",
     "output_type": "stream",
     "text": [
      "# Training Examples\tTrain Error\tCross Validation Error\n",
      "\n",
      "   \t      1 \t   0.000000 \t 205.121096\n",
      "   \t      2 \t   0.000000 \t 110.300366\n",
      "   \t      3 \t   3.286595 \t  45.010231\n",
      "   \t      4 \t   2.842678 \t  48.368911\n",
      "   \t      5 \t  13.154049 \t  35.865165\n",
      "   \t      6 \t  19.443963 \t  33.829962\n",
      "   \t      7 \t  20.098522 \t  31.970986\n",
      "   \t      8 \t  18.172859 \t  30.862446\n",
      "   \t      9 \t  22.609405 \t  31.135998\n",
      "   \t     10 \t  23.261462 \t  28.936207\n",
      "   \t     11 \t  24.317250 \t  29.551432\n",
      "   \t     12 \t  22.373906 \t  29.433818\n"
     ]
    }
   ],
   "source": [
    "print('# Training Examples\\tTrain Error\\tCross Validation Error\\n');\n",
    "for i in np.arange(1,m+1):\n",
    "    print('   \\t{0:7d} \\t {1:{w}.{p}f} \\t {2:{w}.{p}f}'.format(i, error_train[i-1,0], error_val[i-1,0],w=10, p=6));"
   ]
  },
  {
   "cell_type": "markdown",
   "metadata": {},
   "source": [
    "#### =========== Part 6: Feature Mapping for Polynomial Regression ============="
   ]
  },
  {
   "cell_type": "code",
   "execution_count": 15,
   "metadata": {
    "collapsed": true
   },
   "outputs": [],
   "source": [
    "def polyFeatures(X, p):\n",
    "    #POLYFEATURES Maps X (1D vector) into the p-th power\n",
    "    #   [X_poly] = POLYFEATURES(X, p) takes a data matrix X (size m x 1) and\n",
    "    #   maps each example into its polynomial features where\n",
    "    #   X_poly(i, :) = [X(i) X(i).^2 X(i).^3 ...  X(i).^p];\n",
    "    #\n",
    "\n",
    "    # You need to return the following variables correctly.\n",
    "    X_poly = np.zeros((np.shape(X)[0], p));\n",
    "\n",
    "    # ====================== YOUR CODE HERE ======================\n",
    "    # Instructions: Given a vector X, return a matrix X_poly where the p-th \n",
    "    #               column of X contains the values of X to the p-th power.\n",
    "    #\n",
    "    # \n",
    "    X_poly = np.matlib.repmat(X, 1, p)**np.arange(1,p+1)\n",
    "    return X_poly;\n"
   ]
  },
  {
   "cell_type": "code",
   "execution_count": 16,
   "metadata": {
    "collapsed": true
   },
   "outputs": [],
   "source": [
    "def featureNormalize(X):\n",
    "    #FEATURENORMALIZE Normalizes the features in X \n",
    "    #   FEATURENORMALIZE(X) returns a normalized version of X where\n",
    "    #   the mean value of each feature is 0 and the standard deviation\n",
    "    #   is 1. This is often a good preprocessing step to do when\n",
    "    #   working with learning algorithms.\n",
    "\n",
    "    mu = np.mean(X, axis=0);\n",
    "    sigma = np.std(X, axis=0, ddof=1);\n",
    "    X_norm = (X - mu) / sigma;\n",
    "    return X_norm, mu, sigma;"
   ]
  },
  {
   "cell_type": "code",
   "execution_count": 17,
   "metadata": {},
   "outputs": [
    {
     "name": "stdout",
     "output_type": "stream",
     "text": [
      "Normalized Training Example 1:\n",
      "\n",
      "    1.000000\n",
      "   -0.362141\n",
      "   -0.755087\n",
      "    0.182226\n",
      "   -0.706190\n",
      "    0.306618\n",
      "   -0.590878\n",
      "    0.344516\n",
      "   -0.508481\n"
     ]
    }
   ],
   "source": [
    "#  One solution to this is to use polynomial regression. You should now\n",
    "#  complete polyFeatures to map each example into its powers\n",
    "#\n",
    "\n",
    "p = 8;\n",
    "\n",
    "# Map X onto Polynomial Features and Normalize\n",
    "X_poly = polyFeatures(X, p);\n",
    "[X_poly, mu, sigma] = featureNormalize(X_poly);  # Normalize\n",
    "X_poly = np.concatenate((np.ones((m,1)), X_poly), axis=1); # Add Ones\n",
    "\n",
    "# Map X_poly_test and normalize (using mu and sigma)\n",
    "X_poly_test = polyFeatures(Xtest, p);\n",
    "X_poly_test = (X_poly_test - mu) / sigma;\n",
    "X_poly_test = np.concatenate((np.ones((mtest,1)), X_poly_test), axis=1); # Add Ones\n",
    "\n",
    "# Map X_poly_val and normalize (using mu and sigma)\n",
    "X_poly_val = polyFeatures(Xval, p);\n",
    "X_poly_val = (X_poly_val - mu) / sigma;\n",
    "X_poly_val = np.concatenate((np.ones((mval,1)), X_poly_val), axis=1); # Add Ones\n",
    "\n",
    "print('Normalized Training Example 1:\\n');\n",
    "for i in np.arange(X_poly.shape[1]):\n",
    "    print('  {0:10.6f}'.format(X_poly[0, i]));"
   ]
  },
  {
   "cell_type": "markdown",
   "metadata": {},
   "source": [
    "#### =========== Part 7: Learning Curve for Polynomial Regression ============="
   ]
  },
  {
   "cell_type": "code",
   "execution_count": 18,
   "metadata": {
    "collapsed": true
   },
   "outputs": [],
   "source": [
    "def plotFit(min_x, max_x, mu, sigma, theta, p, ax):\n",
    "    #PLOTFIT Plots a learned polynomial regression fit over an existing figure.\n",
    "    #Also works with linear regression.\n",
    "    #   PLOTFIT(min_x, max_x, mu, sigma, theta, p) plots the learned polynomial\n",
    "    #   fit with power p and feature normalization (mu, sigma).\n",
    "\n",
    "    # We plot a range slightly bigger than the min and max values to get\n",
    "    # an idea of how the fit will vary outside the range of the data points\n",
    "    \n",
    "    x = np.arange(min_x - 15, max_x + 25, 0.05).reshape(-1,1);\n",
    "    # Map the X values \n",
    "    X_poly = polyFeatures(x, p);\n",
    "    X_poly = (X_poly - mu) / sigma;\n",
    "    # Add ones\n",
    "    X_poly = np.concatenate((np.ones((np.shape(X_poly)[0],1)), X_poly), axis=1); # Add Ones\n",
    "    # Plot\n",
    "    ax.plot(x, X_poly.dot(theta), '--', linewidth=2);"
   ]
  },
  {
   "cell_type": "code",
   "execution_count": 19,
   "metadata": {},
   "outputs": [
    {
     "name": "stdout",
     "output_type": "stream",
     "text": [
      "Polynomial Regression (lambda = 1.00)\n",
      "\n",
      "\n",
      "# Training Examples\tTrain Error\tCross Validation Error\n",
      "\n",
      "   \t      1 \t   0.000000 \t 138.846777\n",
      "   \t      2 \t   0.045772 \t 143.522884\n",
      "   \t      3 \t   2.911375 \t   5.534713\n",
      "   \t      4 \t   1.499415 \t   6.609874\n",
      "   \t      5 \t   1.199180 \t   6.633507\n",
      "   \t      6 \t   0.924180 \t   8.292298\n",
      "   \t      7 \t   1.540890 \t   5.737131\n",
      "   \t      8 \t   1.422967 \t   5.516471\n",
      "   \t      9 \t   1.553724 \t   6.239631\n",
      "   \t     10 \t   1.441566 \t   5.983075\n",
      "   \t     11 \t   1.308143 \t   6.043681\n",
      "   \t     12 \t   2.076196 \t   4.260628\n"
     ]
    },
    {
     "data": {
      "image/png": "[encoded data removed]",
      "text/plain": [
       "<matplotlib.figure.Figure at 0x7fd3d44fecc0>"
      ]
     },
     "metadata": {},
     "output_type": "display_data"
    }
   ],
   "source": [
    "#  Now, you will get to experiment with polynomial regression with multiple\n",
    "#  values of lambda. The code below runs polynomial regression with \n",
    "#  lambda = 0. You should try running the code with different values of\n",
    "#  lambda to see how the fit and learning curve change.\n",
    "#\n",
    "\n",
    "lambda_ex = 1;\n",
    "[cost, theta] = trainLinearReg(X_poly, y, lambda_ex);\n",
    "\n",
    "# set up a figure twice as wide as it is tall\n",
    "fig = plt.figure(figsize=plt.figaspect(0.2));\n",
    "#===============\n",
    "#  First subplot\n",
    "#===============\n",
    "# set up the axes for the first plot\n",
    "ax = fig.add_subplot(1, 2, 1);\n",
    "# Plot training data and fit\n",
    "ax.plot(X, y, 'rx', markersize=8, linewidth=1.5);\n",
    "plotFit(np.min(X), np.max(X), mu, sigma, theta, p, ax);\n",
    "plt.xlabel('Change in water level (x)');\n",
    "plt.ylabel('Water flowing out of the dam (y)');\n",
    "plt.title('Polynomial Regression Fit (lambda = {0:0.2f})'.format(lambda_ex));\n",
    "\n",
    "#===============\n",
    "# Second subplot\n",
    "#===============\n",
    "# set up the axes for the second plot\n",
    "ax = fig.add_subplot(1, 2, 2);\n",
    "\n",
    "[error_train, error_val] = learningCurve(X_poly, y, X_poly_val, yval, lambda_ex);\n",
    "ax.plot(np.arange(1,m+1), error_train, label='train');\n",
    "ax.plot(np.arange(1,m+1), error_val, label='Cross Validation');\n",
    "plt.xlabel('Number of training examples')\n",
    "plt.ylabel('Error');\n",
    "plt.title('Polynomial Regression Learning Curve (lambda = {0:0.2f})'.format(lambda_ex));\n",
    "plt.axis([0, 13, 0, 100]);\n",
    "plt.legend();\n",
    "\n",
    "print('Polynomial Regression (lambda = {0:0.2f})\\n\\n'.format(lambda_ex));\n",
    "print('# Training Examples\\tTrain Error\\tCross Validation Error\\n');\n",
    "for i in np.arange(m):\n",
    "    print('   \\t{0:7d} \\t {1:{w}.{p}f} \\t {2:{w}.{p}f}'.format(i+1, error_train[i,0], error_val[i,0],w=10, p=6));\n",
    "\n"
   ]
  },
  {
   "cell_type": "markdown",
   "metadata": {},
   "source": [
    "#### =========== Part 8: Validation for Selecting Lambda ============="
   ]
  },
  {
   "cell_type": "code",
   "execution_count": 20,
   "metadata": {
    "collapsed": true
   },
   "outputs": [],
   "source": [
    "def validationCurve(X, y, Xval, yval):\n",
    "    #VALIDATIONCURVE Generate the train and validation errors needed to\n",
    "    #plot a validation curve that we can use to select lambda\n",
    "    #   [lambda_vec, error_train, error_val] = ...\n",
    "    #       VALIDATIONCURVE(X, y, Xval, yval) returns the train\n",
    "    #       and validation errors (in error_train, error_val)\n",
    "    #       for different values of lambda. You are given the training set (X,\n",
    "    #       y) and validation set (Xval, yval).\n",
    "    #\n",
    "\n",
    "    # Selected values of lambda (you should not change this)\n",
    "    lambda_vec = np.array([0, 0.001, 0.003, 0.01, 0.03, 0.1, 0.3, 1, 3, 10]).reshape(-1,1);\n",
    "\n",
    "    # You need to return these variables correctly.\n",
    "    error_train = np.zeros((np.shape(lambda_vec)[0], 1));\n",
    "    error_val = np.zeros((np.shape(lambda_vec)[0], 1));\n",
    "\n",
    "    # ====================== YOUR CODE HERE ======================\n",
    "    # Instructions: Fill in this function to return training errors in \n",
    "    #               error_train and the validation errors in error_val. The \n",
    "    #               vector lambda_vec contains the different lambda parameters \n",
    "    #               to use for each calculation of the errors, i.e, \n",
    "    #               error_train(i), and error_val(i) should give \n",
    "    #               you the errors obtained after training with \n",
    "    #               lambda = lambda_vec(i)\n",
    "    #\n",
    "    # Note: You can loop over lambda_vec with the following:\n",
    "    #\n",
    "    #       for i = 1:length(lambda_vec)\n",
    "    #           lambda = lambda_vec(i);\n",
    "    #           # Compute train / val errors when training linear \n",
    "    #           # regression with regularization parameter lambda\n",
    "    #           # You should store the result in error_train(i)\n",
    "    #           # and error_val(i)\n",
    "    #           ....\n",
    "    #           \n",
    "    #       end\n",
    "    #\n",
    "    #\n",
    "\n",
    "    for i in np.arange(np.shape(lambda_vec)[0]):\n",
    "        lambda_ex = lambda_vec[i, 0];\n",
    "\n",
    "        [cost, theta] = trainLinearReg(X, y, lambda_ex);\n",
    "\n",
    "        # we set lambda to zero when calculating the computing the training\n",
    "        # and cross validation errors.\n",
    "        [J, grad] = linearRegCostFunction(X, y, theta, 0);\n",
    "        error_train[i] = J;\n",
    "        [J, grad] = linearRegCostFunction(Xval, yval, theta, 0);\n",
    "        error_val[i] = J;  \n",
    "        \n",
    "    return lambda_vec, error_train, error_val;"
   ]
  },
  {
   "cell_type": "code",
   "execution_count": 21,
   "metadata": {},
   "outputs": [
    {
     "name": "stdout",
     "output_type": "stream",
     "text": [
      "# Training Examples\tTrain Error\tCross Validation Error\n",
      "\n",
      "   \t     0.000 \t   0.028890 \t  53.912943\n",
      "   \t     0.001 \t   0.112703 \t   9.839620\n",
      "   \t     0.003 \t   0.170913 \t  16.299639\n",
      "   \t     0.010 \t   0.221503 \t  16.950320\n",
      "   \t     0.030 \t   0.281856 \t  12.828707\n",
      "   \t     0.100 \t   0.459296 \t   7.587400\n",
      "   \t     0.300 \t   0.921748 \t   4.636860\n",
      "   \t     1.000 \t   2.076196 \t   4.260628\n",
      "   \t     3.000 \t   4.901343 \t   3.822911\n",
      "   \t    10.000 \t  16.092213 \t   9.945506\n"
     ]
    },
    {
     "data": {
      "image/png": "[encoded data removed]",
      "text/plain": [
       "<matplotlib.figure.Figure at 0x7fd3d45bf588>"
      ]
     },
     "metadata": {},
     "output_type": "display_data"
    }
   ],
   "source": [
    "#  You will now implement validationCurve to test various values of \n",
    "#  lambda on a validation set. You will then use this to select the\n",
    "#  \"best\" lambda value.\n",
    "#\n",
    "\n",
    "[lambda_vec, error_train, error_val] = validationCurve(X_poly, y, X_poly_val, yval);\n",
    "\n",
    "plt.plot(lambda_vec, error_train, label='Train');\n",
    "plt.plot(lambda_vec, error_val, label='Validation');\n",
    "plt.legend();\n",
    "plt.xlabel('lambda');\n",
    "plt.ylabel('Error');\n",
    "\n",
    "print('# Training Examples\\tTrain Error\\tCross Validation Error\\n');\n",
    "for i in np.arange(np.shape(error_train)[0]):\n",
    "    print('   \\t{0:10.3f} \\t {1:{w}.{p}f} \\t {2:{w}.{p}f}'.format(lambda_vec[i,0], error_train[i,0], error_val[i,0],w=10, p=6));\n"
   ]
  }
 ],
 "metadata": {
  "kernelspec": {
   "display_name": "Python 3",
   "language": "python",
   "name": "python3"
  },
  "language_info": {
   "codemirror_mode": {
    "name": "ipython",
    "version": 3
   },
   "file_extension": ".py",
   "mimetype": "text/x-python",
   "name": "python",
   "nbconvert_exporter": "python",
   "pygments_lexer": "ipython3",
   "version": "3.6.1"
  }
 },
 "nbformat": 4,
 "nbformat_minor": 2
}
