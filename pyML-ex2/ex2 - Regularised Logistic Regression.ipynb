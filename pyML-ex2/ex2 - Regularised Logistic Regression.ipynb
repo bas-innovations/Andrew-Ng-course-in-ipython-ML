{
 "cells": [
  {
   "cell_type": "markdown",
   "metadata": {},
   "source": [
    " ## Machine Learning Online Class - Exercise 2: Logistic Regression"
   ]
  },
  {
   "cell_type": "markdown",
   "metadata": {},
   "source": [
    "\n",
    "  Instructions\n",
    "  ------------\n",
    " \n",
    "  This file contains code that helps you get started on the logistic\n",
    "  regression exercise. You will need to complete the following functions \n",
    "  in this exericse:\n",
    "\n",
    "     sigmoid\n",
    "     costFunction\n",
    "     predict\n",
    "     costFunctionReg\n",
    "\n",
    "  For this exercise, you will not need to change any code in this file,\n",
    "  or any other files other than those mentioned above.\n"
   ]
  },
  {
   "cell_type": "markdown",
   "metadata": {},
   "source": [
    "#### Initialization"
   ]
  },
  {
   "cell_type": "code",
   "execution_count": 1,
   "metadata": {
    "collapsed": true
   },
   "outputs": [],
   "source": [
    "import numpy as np\n",
    "\n",
    "import matplotlib\n",
    "import matplotlib.pyplot as plt\n",
    "%matplotlib inline  "
   ]
  },
  {
   "cell_type": "code",
   "execution_count": 2,
   "metadata": {},
   "outputs": [
    {
     "name": "stdout",
     "output_type": "stream",
     "text": [
      "Loading data ...\n",
      "\n",
      "...Done\n"
     ]
    }
   ],
   "source": [
    "## Load Data\n",
    "#  The first two columns contains the exam scores and the third column\n",
    "#  contains the label.\n",
    "print('Loading data ...\\n');\n",
    "data = np.loadtxt('ex2data1.txt',dtype='float',delimiter=',');\n",
    "X = data[:, [0,1]]\n",
    "y = np.vstack(data[:, 2])\n",
    "print('...Done')"
   ]
  },
  {
   "cell_type": "markdown",
   "metadata": {},
   "source": [
    "#### ==================== Part 1: Plotting ===================="
   ]
  },
  {
   "cell_type": "code",
   "execution_count": 3,
   "metadata": {
    "collapsed": true
   },
   "outputs": [],
   "source": [
    "def plotData(X, y):\n",
    "    #PLOTDATA Plots the data points X and y into a new figure \n",
    "    #   PLOTDATA(x,y) plots the data points with + for the positive examples\n",
    "    #   and o for the negative examples. X is assumed to be a Mx2 matrix.\n",
    "\n",
    "    # Create New Figure\n",
    "    fig, ax = plt.subplots()\n",
    "\n",
    "    # ====================== YOUR CODE HERE ======================\n",
    "    # Instructions: Plot the positive and negative examples on a\n",
    "    #               2D plot, using the option 'k+' for the positive\n",
    "    #               examples and 'ko' for the negative examples.\n",
    "    #\n",
    "\n",
    "    # Find Indices of Positive and Negative Examples\n",
    "    pos = np.asarray(np.where(y == 1));\n",
    "    neg = np.asarray(np.where(y == 0));\n",
    "    # Plot Examples\n",
    "    # we use the ravel command to convert from 2d to 1d arrays\n",
    "    series1 = ax.plot(X[pos[0,:],0], X[pos[0,:],1], 'k+', linewidth=2, markersize=7);\n",
    "    series2 = ax.plot(X[neg[0,:],0], X[neg[0,:],1], 'ko', color='y', alpha=0.8, markersize=7);\n",
    "    \n",
    "    return ax"
   ]
  },
  {
   "cell_type": "code",
   "execution_count": 4,
   "metadata": {},
   "outputs": [
    {
     "name": "stdout",
     "output_type": "stream",
     "text": [
      "Plotting data with + indicating (y = 1) examples and o indicating (y = 0) examples.\n",
      "\n"
     ]
    },
    {
     "data": {
      "image/png": "[encoded data removed]",
      "text/plain": [
       "<matplotlib.figure.Figure at 0x7fe29f481588>"
      ]
     },
     "metadata": {},
     "output_type": "display_data"
    }
   ],
   "source": [
    "#  We start the exercise by first plotting the data to understand the \n",
    "#  the problem we are working with.\n",
    "\n",
    "print('Plotting data with + indicating (y = 1) examples and o ' + \n",
    "         'indicating (y = 0) examples.\\n');\n",
    "\n",
    "ax = plotData(X, y);\n",
    "# Labels and Legend\n",
    "plt.xlabel('Exam 1 score')\n",
    "plt.ylabel('Exam 2 score')\n",
    "legend = ax.legend(labels=['Admitted', 'Not Admitted'])"
   ]
  },
  {
   "cell_type": "markdown",
   "metadata": {},
   "source": [
    "#### ============ Part 2: Compute Cost and Gradient ============"
   ]
  },
  {
   "cell_type": "markdown",
   "metadata": {},
   "source": [
    "Recall that the logistic regression hypothesis, $h_{\\theta}(x)$, is defined as:\n",
    "$$h_{\\theta}(x)=g(\\theta^{T}x)$$\n",
    "\n",
    "where function g is the sigmoid function. The sigmoid function is defined as:\n",
    "$$g(z)=\\frac{1}{1+e^{-z}}$$"
   ]
  },
  {
   "cell_type": "code",
   "execution_count": 5,
   "metadata": {
    "collapsed": true
   },
   "outputs": [],
   "source": [
    "def sigmoid(z):\n",
    "    #SIGMOID Compute sigmoid function\n",
    "    #   g = SIGMOID(z) computes the sigmoid of z.\n",
    "\n",
    "    # You need to return the following variables correctly \n",
    "    g = np.zeros(np.shape(z));\n",
    "\n",
    "    # ====================== YOUR CODE HERE ======================\n",
    "    # Instructions: Compute the sigmoid of each value of z (z can be a matrix,\n",
    "    #\n",
    "\n",
    "    g = 1 / (1 + np.exp(-z));\n",
    "    return g"
   ]
  },
  {
   "cell_type": "code",
   "execution_count": 6,
   "metadata": {},
   "outputs": [
    {
     "data": {
      "image/png": "[encoded data removed]",
      "text/plain": [
       "<matplotlib.figure.Figure at 0x7fe29cfb9358>"
      ]
     },
     "metadata": {},
     "output_type": "display_data"
    }
   ],
   "source": [
    "fig, ax = plt.subplots()\n",
    "ax.plot(np.arange(-10, 10, step=0.01),\n",
    "        sigmoid(np.arange(-10, 10, step=0.01)));\n",
    "ax.set_ylim((-0.1,1.1));\n",
    "ax.set_xlabel('z', fontsize=12);\n",
    "ax.set_ylabel('g(z)', fontsize=12);\n",
    "ax.set_title('sigmoid function', fontsize=12);"
   ]
  },
  {
   "cell_type": "markdown",
   "metadata": {},
   "source": [
    "Recall that the cost function in logistic regression is:\n",
    "$$J(\\theta)=-\\frac{1}{m}\\sum_{i=1}^{m}y^{(i)}\\log(h_\\theta(x^{(i)}))+(1-y^{(i)})\\log(1-h_\\theta(x^{(i)}))$$\n",
    "\n",
    "and the gradient of the cost is a vector of the same length as $h_\\theta$ where the $j^{th}$ element (for $j = 0,1,...,n$) is defined as follows:\n",
    "$$\\frac{\\partial J(\\theta)}{\\partial\\theta_{j}} =\\frac{1}{m}\\sum_{i=1}^{m}(h_\\theta(x^{(i)})-y^{(i)})x_j^{(i)}$$"
   ]
  },
  {
   "cell_type": "code",
   "execution_count": 7,
   "metadata": {
    "collapsed": true
   },
   "outputs": [],
   "source": [
    "def costFunction(theta, X, y):\n",
    "    #COSTFUNCTION Compute cost and gradient for logistic regression\n",
    "    #   J = COSTFUNCTION(theta, X, y) computes the cost of using theta as the\n",
    "    #   parameter for logistic regression and the gradient of the cost\n",
    "    #   w.r.t. to the parameters.\n",
    "\n",
    "    # Initialize some useful values\n",
    "    m = np.shape(y)[0]; # number of training examples\n",
    "\n",
    "    # You need to return the following variables correctly \n",
    "    J = 0;\n",
    "    grad = np.zeros((np.shape(theta)));\n",
    "\n",
    "    # ====================== YOUR CODE HERE ======================\n",
    "    # Instructions: Compute the cost of a particular choice of theta.\n",
    "    #               You should set J to the cost.\n",
    "    #               Compute the partial derivatives and set grad to the partial\n",
    "    #               derivatives of the cost w.r.t. each parameter in theta\n",
    "    #\n",
    "    # Note: grad should have the same dimensions as theta\n",
    "    #\n",
    "    y = np.vstack(y);\n",
    "    hypo = np.vstack(sigmoid(np.dot(X, theta)));\n",
    "    \n",
    "    e = -y * np.log(hypo) - (1 - y) * np.log(1 - hypo);\n",
    "    J = np.sum(e) / m;\n",
    "    errorTerm = (hypo - y);\n",
    "    grad = np.vstack(np.sum(errorTerm*X, axis=0)/m);\n",
    "\n",
    "    return J, grad.flatten()"
   ]
  },
  {
   "cell_type": "code",
   "execution_count": 8,
   "metadata": {},
   "outputs": [
    {
     "name": "stdout",
     "output_type": "stream",
     "text": [
      "Cost at initial theta (zeros):    0.693\n",
      "Expected cost (approx): 0.693\n",
      "\n",
      "Gradient at initial theta (zeros):\n",
      " -0.100 \n",
      " -12.009 \n",
      " -11.263 \n",
      "Expected gradients (approx):\n",
      " -0.1000\n",
      " -12.0092\n",
      " -11.2628\n",
      "\n",
      "\n",
      "Cost at test theta:     0.22\n",
      "Expected cost (approx): 0.218\n",
      "\n",
      "Gradient at test theta:\n",
      " 0.043 \n",
      " 2.566 \n",
      " 2.647 \n",
      "Expected gradients (approx):\n",
      " 0.043\n",
      " 2.566\n",
      " 2.647\n",
      "\n"
     ]
    }
   ],
   "source": [
    "#  In this part of the exercise, you will implement the cost and gradient\n",
    "#  for logistic regression. You neeed to complete the code in \n",
    "#  costFunction.m\n",
    "\n",
    "#  Setup the data matrix appropriately, and add ones for the intercept term\n",
    "[m, n] = np.shape(X);\n",
    "\n",
    "# Add intercept term to x and X_test\n",
    "Xml = np.concatenate((np.ones((m,1)), X), axis=1) # Add a column of ones to x\n",
    "\n",
    "# Initialize fitting parameters\n",
    "initial_theta = np.zeros((n + 1, 1));\n",
    "\n",
    "# Compute and display initial cost and gradient\n",
    "[cost, grad] = costFunction(initial_theta, Xml, y);\n",
    "\n",
    "print('Cost at initial theta (zeros): {0:8.3f}'.format(cost));\n",
    "print('Expected cost (approx): 0.693\\n');\n",
    "print('Gradient at initial theta (zeros):');\n",
    "for i in np.arange(np.shape(grad)[0]):\n",
    "    print(' {0:0.3f} '.format(grad[i]));\n",
    "print('Expected gradients (approx):\\n -0.1000\\n -12.0092\\n -11.2628\\n');\n",
    "\n",
    "# Compute and display cost and gradient with non-zero theta\n",
    "test_theta = [[-24], [0.2], [0.2]];\n",
    "[cost, grad] = costFunction(test_theta, Xml, y);\n",
    "\n",
    "print('\\nCost at test theta: {0:8.2f}'.format(cost));\n",
    "print('Expected cost (approx): 0.218\\n');\n",
    "print('Gradient at test theta:');\n",
    "for i in np.arange(np.shape(grad)[0]):\n",
    "    print(' {0:0.3f} '.format(grad[i]));\n",
    "print('Expected gradients (approx):\\n 0.043\\n 2.566\\n 2.647\\n');"
   ]
  },
  {
   "cell_type": "markdown",
   "metadata": {},
   "source": [
    "#### ============= Part 3: Optimizing using fminunc  ============="
   ]
  },
  {
   "cell_type": "code",
   "execution_count": 9,
   "metadata": {},
   "outputs": [
    {
     "name": "stdout",
     "output_type": "stream",
     "text": [
      "Cost at theta found by fminunc: 0.2034977015894438\n",
      "Expected cost (approx): 0.203\n",
      "\n",
      "theta: \n",
      " -25.161 \n",
      " 0.206 \n",
      " 0.201 \n",
      "Expected theta (approx):\n",
      " -25.161\n",
      " 0.206\n",
      " 0.201\n",
      "\n"
     ]
    },
    {
     "name": "stderr",
     "output_type": "stream",
     "text": [
      "/home/benedict/anaconda3/lib/python3.6/site-packages/ipykernel_launcher.py:25: RuntimeWarning: divide by zero encountered in log\n",
      "/home/benedict/anaconda3/lib/python3.6/site-packages/ipykernel_launcher.py:25: RuntimeWarning: invalid value encountered in multiply\n"
     ]
    }
   ],
   "source": [
    "from scipy.optimize import minimize\n",
    "\n",
    "initial_theta = np.zeros((np.shape(Xml)[1], 1));\n",
    "Result = minimize(fun = costFunction, \n",
    "                         x0 = initial_theta, \n",
    "                         args = (Xml, y),\n",
    "                         method = 'BFGS',\n",
    "                         jac = True, # set to true as costFunction returns both the cost and gradient\n",
    "                         options={'disp': False, \n",
    "                                  'gtol': 1e-05,\n",
    "                                  'maxiter': None});\n",
    "cost = Result.fun;\n",
    "optimal_theta = Result.x;\n",
    "\n",
    "# Print theta to screen\n",
    "print('Cost at theta found by fminunc: {0}'.format(cost));\n",
    "print('Expected cost (approx): 0.203\\n');\n",
    "print('theta: ');\n",
    "for i in np.arange(np.shape(optimal_theta)[0]):\n",
    "    print(' {0:0.3f} '.format(optimal_theta[i]));\n",
    "print('Expected theta (approx):');\n",
    "print(' -25.161\\n 0.206\\n 0.201\\n');"
   ]
  },
  {
   "cell_type": "code",
   "execution_count": 10,
   "metadata": {
    "collapsed": true
   },
   "outputs": [],
   "source": [
    "def mapFeature(X1, X2):\n",
    "    # MAPFEATURE Feature mapping function to polynomial features\n",
    "    #\n",
    "    #   MAPFEATURE(X1, X2) maps the two input features\n",
    "    #   to quadratic features used in the regularization exercise.\n",
    "    #\n",
    "    #   Returns a new feature array with more features, comprising of \n",
    "    #   X1, X2, X1.^2, X2.^2, X1*X2, X1*X2.^2, etc..\n",
    "    #\n",
    "    #   Inputs X1, X2 must be the same size\n",
    "\n",
    "    X1 = [[X1]] if np.isscalar(X1) else np.vstack(X1);\n",
    "    X2 = [[X2]] if np.isscalar(X2) else np.vstack(X2);\n",
    "   \n",
    "    degree = 6;\n",
    "    out = np.vstack(np.ones(np.shape(X1)[0]));\n",
    "    for i in np.arange(1,degree+1):\n",
    "        for j in np.arange(i+1):\n",
    "            out = np.append(out, (X1 ** (i - j)) * (X2 ** j), axis = 1);\n",
    "\n",
    "    return out;"
   ]
  },
  {
   "cell_type": "code",
   "execution_count": 11,
   "metadata": {
    "collapsed": true
   },
   "outputs": [],
   "source": [
    "def plotDecisionBoundary(ax, theta, X, y):\n",
    "    #PLOTDECISIONBOUNDARY Plots the data points X and y into a new figure with\n",
    "    #the decision boundary defined by theta\n",
    "    #   PLOTDECISIONBOUNDARY(theta, X,y) plots the data points with + for the \n",
    "    #   positive examples and o for the negative examples. X is assumed to be \n",
    "    #   a either \n",
    "    #   1) Mx3 matrix, where the first column is an all-ones column for the \n",
    "    #      intercept.\n",
    "    #   2) MxN, N>3 matrix, where the first column is all-ones\n",
    "    \n",
    "    if np.shape(theta)[0] <= 3:\n",
    "        # Only need 2 points to define a line, so choose two endpoints\n",
    "        plot_x = [np.min(X[:,1])-2,  np.max(X[:,1])+2];\n",
    "               \n",
    "        # Calculate the decision boundary line\n",
    "        plot_y = (-1.0 / theta[2]) * (np.multiply(theta[1], plot_x) + theta[0]);\n",
    "        \n",
    "        # Plot, and adjust axes for better viewing\n",
    "        ax.plot(plot_x, plot_y, label='Decision Boundary')\n",
    "\n",
    "        ax.axis([30, 100, 30, 100])\n",
    "    else:\n",
    "        # Here is the grid range\n",
    "        u = np.linspace(-1, 1.5, 50);\n",
    "        v = np.linspace(-1, 1.5, 50);\n",
    "        \n",
    "        z = np.zeros((np.shape(u)[0], np.shape(v)[0]));\n",
    "        # Evaluate z = theta*x over the grid\n",
    "        for i in np.arange(np.shape(u)[0]):\n",
    "            for j in np.arange(np.shape(v)[0]):\n",
    "                z[i,j] = np.dot(mapFeature(u[i], v[j]), theta);\n",
    "        z = np.vstack(z); # important to transpose z before calling contour\n",
    "\n",
    "        # Plot z = 0\n",
    "        # Notice you need to specify the range [0, 0]\n",
    "        ax.contour(u, v, z, levels=[0], linewidth=2)\n",
    "        \n",
    "    return ax;"
   ]
  },
  {
   "cell_type": "code",
   "execution_count": 12,
   "metadata": {},
   "outputs": [
    {
     "data": {
      "image/png": "[encoded data removed]",
      "text/plain": [
       "<matplotlib.figure.Figure at 0x7fe2c68697b8>"
      ]
     },
     "metadata": {},
     "output_type": "display_data"
    }
   ],
   "source": [
    "# Plot Data\n",
    "ax = plotData(X, y);\n",
    "# Plot Boundary\n",
    "ax = plotDecisionBoundary(ax, optimal_theta, X, y);\n",
    "plt.xlabel('Exam 1 score')\n",
    "plt.ylabel('Exam 2 score')\n",
    "# Legend, specific for the exercise\n",
    "ax.legend(labels=['Admitted', 'Not Admitted', 'Decision Boundary'],\n",
    "              bbox_to_anchor=(1.05, 1), loc=2, \n",
    "              borderaxespad=0.);\n",
    "#legend = ax.legend(labels=['Admitted', 'Not Admitted', 'Decision Boundary'])"
   ]
  },
  {
   "cell_type": "markdown",
   "metadata": {},
   "source": [
    "#### ============== Part 4: Predict and Accuracies =============="
   ]
  },
  {
   "cell_type": "markdown",
   "metadata": {},
   "source": [
    "  After learning the parameters, you'll like to use it to predict the outcomes\n",
    "  on unseen data. In this part, you will use the logistic regression model\n",
    "  to predict the probability that a student with score 45 on exam 1 and \n",
    "  score 85 on exam 2 will be admitted.\n",
    "\n",
    "  Furthermore, you will compute the training and test set accuracies of \n",
    "  our model.\n",
    "\n",
    "  Your task is to complete the code in predict.m\n",
    "\n",
    "  Predict probability for a student with score 45 on exam 1 \n",
    "  and score 85 on exam 2 "
   ]
  },
  {
   "cell_type": "code",
   "execution_count": 13,
   "metadata": {
    "collapsed": true
   },
   "outputs": [],
   "source": [
    "def predict(theta, X):\n",
    "    #PREDICT Predict whether the label is 0 or 1 using learned logistic \n",
    "    #regression parameters theta\n",
    "    #   p = PREDICT(theta, X) computes the predictions for X using a \n",
    "    #   threshold at 0.5 (i.e., if sigmoid(theta'*x) >= 0.5, predict 1)\n",
    "\n",
    "    m = np.shape(X)[0]; # Number of training examples\n",
    "\n",
    "    # You need to return the following variables correctly\n",
    "    p = np.zeros((m, 1));\n",
    "\n",
    "    # ====================== YOUR CODE HERE ======================\n",
    "    # Instructions: Complete the following code to make predictions using\n",
    "    #               your learned logistic regression parameters. \n",
    "    #               You should set p to a vector of 0's and 1's\n",
    "    #\n",
    "    p[np.where(sigmoid(np.dot(X,theta)) >= 0.5),0] = 1;\n",
    "\n",
    "    return p;"
   ]
  },
  {
   "cell_type": "code",
   "execution_count": 14,
   "metadata": {},
   "outputs": [
    {
     "name": "stdout",
     "output_type": "stream",
     "text": [
      "For a student with scores 45 and 85, we predict an admission probability of 0.7763\n",
      "\n",
      "Expected value: 0.775 +/- 0.002\n",
      "\n",
      "\n",
      "Train Accuracy: #89.0 \n",
      "\n",
      "Expected accuracy (approx): 89.0\n",
      "\n",
      "\n",
      "\n"
     ]
    }
   ],
   "source": [
    "prob = sigmoid(np.dot([1, 45, 85], optimal_theta));\n",
    "print('For a student with scores 45 and 85, we predict an admission ' +\n",
    "         'probability of {0:0.4f}\\n'.format(prob));\n",
    "print('Expected value: 0.775 +/- 0.002\\n\\n');\n",
    "\n",
    "# Compute accuracy on our training set\n",
    "p = predict(optimal_theta, Xml);\n",
    "\n",
    "print('Train Accuracy: #{0} \\n'.format(np.mean([p == y]) * 100));\n",
    "print('Expected accuracy (approx): 89.0\\n');\n",
    "print('\\n');"
   ]
  },
  {
   "cell_type": "markdown",
   "metadata": {},
   "source": [
    "## Regularized Logistic Regression"
   ]
  },
  {
   "cell_type": "markdown",
   "metadata": {},
   "source": [
    " Machine Learning Online Class - Exercise 2: Logistic Regression\n",
    "\n",
    "  Instructions\n",
    "  ------------\n",
    "\n",
    "  This file contains code that helps you get started on the second part\n",
    "  of the exercise which covers regularization with logistic regression.\n",
    "\n",
    "  You will need to complete the following functions in this exericse:\n",
    "\n",
    "     sigmoid.m\n",
    "     costFunction.m\n",
    "     predict.m\n",
    "     costFunctionReg.m\n",
    "\n",
    "  For this exercise, you will not need to change any code in this file,\n",
    "  or any other files other than those mentioned above.\n"
   ]
  },
  {
   "cell_type": "code",
   "execution_count": 15,
   "metadata": {},
   "outputs": [
    {
     "name": "stdout",
     "output_type": "stream",
     "text": [
      "Loading data ...\n",
      "\n",
      "...Done\n"
     ]
    }
   ],
   "source": [
    "# Initialization\n",
    "\n",
    "## Load Data\n",
    "#  The first two columns contains the X values and the third column\n",
    "#  contains the label (y).\n",
    "print('Loading data ...\\n');\n",
    "data = np.loadtxt('ex2data2.txt',dtype='float',delimiter=',');\n",
    "X = data[:, [0,1]]\n",
    "y = np.vstack(data[:, 2])\n",
    "print('...Done')"
   ]
  },
  {
   "cell_type": "code",
   "execution_count": 16,
   "metadata": {},
   "outputs": [
    {
     "data": {
      "image/png": "[encoded data removed]",
      "text/plain": [
       "<matplotlib.figure.Figure at 0x7fe2c68696a0>"
      ]
     },
     "metadata": {},
     "output_type": "display_data"
    }
   ],
   "source": [
    "# Display the data\n",
    "ax = plotData(X, y);\n",
    "# Labels and Legend\n",
    "plt.xlabel('Microchip Test 1');\n",
    "plt.ylabel('Microchip Test 2');\n",
    "# Specified in plot order\n",
    "ax.legend(labels=['y = 1', 'y = 0']);"
   ]
  },
  {
   "cell_type": "markdown",
   "metadata": {},
   "source": [
    "#### =========== Part 1: Regularized Logistic Regression ============\n",
    "  In this part, you are given a dataset with data points that are not\n",
    "  linearly separable. However, you would still like to use logistic\n",
    "  regression to classify the data points.\n",
    "\n",
    "  To do so, you introduce more features to use -- in particular, you add\n",
    "  polynomial features to our data matrix (similar to polynomial\n",
    "  regression)."
   ]
  },
  {
   "cell_type": "markdown",
   "metadata": {},
   "source": [
    "Recall that the regularized cost function in logistic regression is:\n",
    "$$J(\\theta)=-\\frac{1}{m}\\sum_{i=1}^{m}y^{(i)}\\log(h_\\theta(x^{(i)}))+(1-y^{(i)})\\log(1-h_\\theta(x^{(i)})) + \\frac{\\lambda}{m}\\sum_{i=1}^{n}\\theta_j^{2}$$\n",
    "\n",
    "and the gradient of the cost is a vector where the $j^{th}$ element is defined as follows:\n",
    "\\begin{gather*} \n",
    "\\frac{\\partial J(\\theta)}{\\partial\\theta_{j}} =\\frac{1}{m}\\sum_{i=1}^{m}(h_\\theta(x^{(i)})-y^{(i)})x_j^{(i)} \\quad \\mathsf{for}\\quad j = 0\n",
    "\\end{gather*}\n",
    "\\begin{gather*} \n",
    "\\frac{\\partial J(\\theta)}{\\partial\\theta_{j}} =\\Bigg(\\frac{1}{m}\\sum_{i=1}^{m}(h_\\theta(x^{(i)})-y^{(i)})x_j^{(i)} \\Bigg) + \\frac{\\lambda}{m}\\theta_j  \\quad \\mathsf{for}\\quad j \\geq 0\n",
    "\\end{gather*}"
   ]
  },
  {
   "cell_type": "code",
   "execution_count": 17,
   "metadata": {
    "collapsed": true
   },
   "outputs": [],
   "source": [
    "def costFunctionReg(theta, X, y, lambda_ex):\n",
    "    #COSTFUNCTIONREG Compute cost and gradient for logistic regression with regularization\n",
    "    #   J = COSTFUNCTIONREG(theta, X, y, lambda) computes the cost of using\n",
    "    #   theta as the parameter for regularized logistic regression and the\n",
    "    #   gradient of the cost w.r.t. to the parameters. \n",
    "\n",
    "    # Initialize some useful values\n",
    "    m = np.shape(y)[0]; # number of training examples\n",
    "\n",
    "    # You need to return the following variables correctly \n",
    "    J = 0;\n",
    "    grad = np.zeros((np.shape(theta)));\n",
    "    # ====================== YOUR CODE HERE ======================\n",
    "    # Instructions: Compute the cost of a particular choice of theta.\n",
    "    #               You should set J to the cost.\n",
    "    #               Compute the partial derivatives and set grad to the partial\n",
    "    #               derivatives of the cost w.r.t. each parameter in theta\n",
    "    y = np.vstack(y);\n",
    "    hypo = np.vstack(sigmoid(X.dot(theta)));\n",
    "    e = -y * np.log(hypo) - (1 - y) * np.log(1 - hypo);\n",
    "    cost = -1 * (1 / m) * (np.log(hypo).T.dot(y) + np.log(1 - hypo).T.dot(1 - y));\n",
    "    costReg = (lambda_ex / (2*m)) * (np.sum(theta[1:]**2));\n",
    "    J = cost + costReg;\n",
    "\n",
    "    errorTerm = (hypo - y);\n",
    "    gradReg = np.vstack(np.zeros(np.shape(theta)[0]));\n",
    "    gradReg[1:] = (lambda_ex / m) * np.vstack(theta[1:]);\n",
    "    grad = np.vstack(np.sum(errorTerm * X, axis=0)/m) + gradReg;\n",
    "\n",
    "    return J[0][0], grad.flatten()\n"
   ]
  },
  {
   "cell_type": "code",
   "execution_count": 18,
   "metadata": {},
   "outputs": [
    {
     "name": "stdout",
     "output_type": "stream",
     "text": [
      "Cost at initial theta (zeros): 0.693\n",
      "\n",
      "Expected cost (approx): 0.693\n",
      "\n",
      "Gradient at initial theta (zeros) - first five values only:\n",
      " 0.0085 \n",
      " 0.0188 \n",
      " 0.0001 \n",
      " 0.0503 \n",
      " 0.0115 \n",
      "\n",
      "\n",
      "Expected gradients (approx) - first five values only:\n",
      " 0.0085\n",
      " 0.0188\n",
      " 0.0001\n",
      " 0.0503\n",
      " 0.0115\n",
      "\n"
     ]
    }
   ],
   "source": [
    "# Add Polynomial Features\n",
    "\n",
    "# Note that mapFeature also adds a column of ones for us, so the intercept\n",
    "# term is handled\n",
    "\n",
    "Xml = mapFeature(X[:,0], X[:,1]);\n",
    "\n",
    "# Initialize fitting parameters\n",
    "initial_theta = np.zeros((np.shape(Xml)[1], 1));\n",
    "\n",
    "# Set regularization parameter lambda to 1\n",
    "lambda_ex = 1;\n",
    "\n",
    "# Compute and display initial cost and gradient for regularized logistic\n",
    "# regression\n",
    "[cost, grad] = costFunctionReg(initial_theta, Xml, y, lambda_ex);\n",
    "\n",
    "print('Cost at initial theta (zeros): {0:0.3f}\\n'.format(cost));\n",
    "print('Expected cost (approx): 0.693\\n');\n",
    "print('Gradient at initial theta (zeros) - first five values only:');\n",
    "for i in np.arange(np.shape(grad)[0]):\n",
    "    if i < 5:\n",
    "        print(' {0:0.4f} '.format(grad[i]));\n",
    "print('\\n')\n",
    "print('Expected gradients (approx) - first five values only:');\n",
    "print(' 0.0085\\n 0.0188\\n 0.0001\\n 0.0503\\n 0.0115\\n');"
   ]
  },
  {
   "cell_type": "code",
   "execution_count": 19,
   "metadata": {},
   "outputs": [
    {
     "name": "stdout",
     "output_type": "stream",
     "text": [
      "\n",
      "Cost at test theta (with lambda = 10): 3.165\n",
      "\n",
      "Expected cost (approx): 3.16\n",
      "\n",
      "Gradient at test theta - first five values only:\n",
      " 0.3460 \n",
      " 0.1614 \n",
      " 0.1948 \n",
      " 0.2269 \n",
      " 0.0922 \n",
      "\n",
      "\n",
      "Expected gradients (approx) - first five values only:\n",
      " 0.3460\n",
      " 0.1614\n",
      " 0.1948\n",
      " 0.2269\n",
      " 0.0922\n",
      "\n"
     ]
    }
   ],
   "source": [
    "# Compute and display cost and gradient\n",
    "# with all-ones theta and lambda = 10\n",
    "test_theta = np.ones((np.shape(Xml)[1],1));\n",
    "lambda_ex = 10;\n",
    "[cost, grad] = costFunctionReg(test_theta, Xml, y, lambda_ex);\n",
    "\n",
    "print('\\nCost at test theta (with lambda = 10): {0:0.3f}\\n'.format(cost));\n",
    "print('Expected cost (approx): 3.16\\n');\n",
    "print('Gradient at test theta - first five values only:');\n",
    "for i in np.arange(np.shape(grad)[0]):\n",
    "    if i < 5:\n",
    "        print(' {0:0.4f} '.format(grad[i]));\n",
    "print('\\n')\n",
    "print('Expected gradients (approx) - first five values only:');\n",
    "print(' 0.3460\\n 0.1614\\n 0.1948\\n 0.2269\\n 0.0922\\n');"
   ]
  },
  {
   "cell_type": "markdown",
   "metadata": {},
   "source": [
    "#### ============= Part 2: Regularization and Accuracies ============="
   ]
  },
  {
   "cell_type": "markdown",
   "metadata": {},
   "source": [
    "  Optional Exercise:\n",
    "  In this part, you will get to try different values of lambda and\n",
    "  see how regularization affects the decision coundart\n",
    "\n",
    "  Try the following values of lambda (0, 1, 10, 100).\n",
    "\n",
    "  How does the decision boundary change when you vary lambda? How does\n",
    "  the training set accuracy vary?"
   ]
  },
  {
   "cell_type": "code",
   "execution_count": 20,
   "metadata": {},
   "outputs": [
    {
     "name": "stdout",
     "output_type": "stream",
     "text": [
      "Cost at theta found by minimize: 0.5290027422869218\n"
     ]
    }
   ],
   "source": [
    "from scipy.optimize import minimize\n",
    "\n",
    "# Initialize fitting parameters\n",
    "initial_theta = np.zeros((np.shape(Xml)[1], 1));\n",
    "\n",
    "# Set regularization parameter lambda to 1 (you should vary this)\n",
    "lambda_ex = 1;\n",
    "\n",
    "Result = minimize(fun = costFunctionReg, \n",
    "                         x0 = initial_theta, \n",
    "                         args = (Xml, y, lambda_ex),\n",
    "                         method = 'BFGS',\n",
    "                         jac = True, # set to true as costFunction returns both the cost and gradient\n",
    "                         options={'disp': False, \n",
    "                                  'gtol': 1e-05, \n",
    "                                  'return_all': False, \n",
    "                                  'maxiter': 400});\n",
    "cost = Result.fun;\n",
    "optimal_theta = Result.x;\n",
    "\n",
    "# Print theta to screen\n",
    "print('Cost at theta found by minimize: {0}'.format(cost));"
   ]
  },
  {
   "cell_type": "code",
   "execution_count": 21,
   "metadata": {},
   "outputs": [
    {
     "data": {
      "image/png": "[encoded data removed]",
      "text/plain": [
       "<matplotlib.figure.Figure at 0x7fe296b61780>"
      ]
     },
     "metadata": {},
     "output_type": "display_data"
    }
   ],
   "source": [
    "# Plot Data\n",
    "ax = plotData(X, y);\n",
    "# Plot Boundary\n",
    "ax = plotDecisionBoundary(ax, optimal_theta, Xml, y);\n",
    "# Labels and Legend\n",
    "plt.xlabel('Microchip Test 1');\n",
    "plt.ylabel('Microchip Test 2');\n",
    "# Specified in plot order\n",
    "ax.legend(labels=['y = 1', 'y = 0', 'Decision Boundary'],\n",
    "              bbox_to_anchor=(1.05, 1), loc=2, \n",
    "              borderaxespad=0.);"
   ]
  },
  {
   "cell_type": "code",
   "execution_count": null,
   "metadata": {
    "collapsed": true
   },
   "outputs": [],
   "source": []
  }
 ],
 "metadata": {
  "kernelspec": {
   "display_name": "Python 3",
   "language": "python",
   "name": "python3"
  },
  "language_info": {
   "codemirror_mode": {
    "name": "ipython",
    "version": 3
   },
   "file_extension": ".py",
   "mimetype": "text/x-python",
   "name": "python",
   "nbconvert_exporter": "python",
   "pygments_lexer": "ipython3",
   "version": "3.6.1"
  }
 },
 "nbformat": 4,
 "nbformat_minor": 2
}
