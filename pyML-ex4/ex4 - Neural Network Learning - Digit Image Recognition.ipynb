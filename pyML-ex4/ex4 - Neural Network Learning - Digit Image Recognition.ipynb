{
 "cells": [
  {
   "cell_type": "markdown",
   "metadata": {},
   "source": [
    "## Machine Learning Online Class - Exercise 4 Neural Network Learning"
   ]
  },
  {
   "cell_type": "markdown",
   "metadata": {},
   "source": [
    "####  Instructions\n",
    "  ------------\n",
    " \n",
    "  This file contains code that helps you get started on the\n",
    "  linear exercise. You will need to complete the following functions \n",
    "  in this exericse:\n",
    "\n",
    "     sigmoidGradient.m\n",
    "     randInitializeWeights.m\n",
    "     nnCostFunction.m\n",
    "\n",
    "  For this exercise, you will not need to change any code in this file,\n",
    "  or any other files other than those mentioned above.\n"
   ]
  },
  {
   "cell_type": "code",
   "execution_count": 9,
   "metadata": {
    "collapsed": true
   },
   "outputs": [],
   "source": [
    "## Initialization\n",
    "import numpy as np;\n",
    "import scipy.io as sio;\n",
    "from scipy.optimize import minimize\n",
    "\n",
    "import matplotlib\n",
    "import matplotlib.pyplot as plt\n",
    "%matplotlib inline "
   ]
  },
  {
   "cell_type": "code",
   "execution_count": 10,
   "metadata": {
    "collapsed": true
   },
   "outputs": [],
   "source": [
    "## Setup the parameters you will use for this exercise\n",
    "input_layer_size  = 400;  # 20x20 Input Images of Digits\n",
    "hidden_layer_size = 25;   # 25 hidden units\n",
    "num_labels = 10;          # 10 labels, from 1 to 10   \n",
    "                          # (note that we have mapped \"0\" to label 10)"
   ]
  },
  {
   "cell_type": "markdown",
   "metadata": {},
   "source": [
    "#### ========== Part 1: Loading and Visualizing Data ============="
   ]
  },
  {
   "cell_type": "code",
   "execution_count": 11,
   "metadata": {},
   "outputs": [
    {
     "name": "stdout",
     "output_type": "stream",
     "text": [
      "Loading and Visualizing Data ...\n",
      "   ...Done.\n",
      "\n",
      "Contents of mat file...\n",
      "dict_keys(['__header__', '__version__', '__globals__', 'X', 'y'])\n",
      "\n",
      "\n",
      "Dimensions of X: (5000, 400)\n",
      "Dimensions of y: (5000, 1)\n"
     ]
    }
   ],
   "source": [
    "#  We start the exercise by first loading and visualizing the dataset. \n",
    "#  You will be working with a dataset that contains handwritten digits.\n",
    "#\n",
    "\n",
    "# Load Training Data\n",
    "print('Loading and Visualizing Data ...');\n",
    "\n",
    "mat_contents = sio.loadmat('ex4data1.mat'); # training data stored in arrays X, y\n",
    "print('   ...Done.')\n",
    "print('\\nContents of mat file...')\n",
    "print(mat_contents.keys())\n",
    "X = mat_contents['X'];\n",
    "y = mat_contents['y'];\n",
    "m = np.shape(X)[0];\n",
    "print('\\n')\n",
    "print('Dimensions of X: {0}'.format(X.shape));\n",
    "print('Dimensions of y: {0}'.format(y.shape));\n"
   ]
  },
  {
   "cell_type": "code",
   "execution_count": 12,
   "metadata": {},
   "outputs": [
    {
     "name": "stdout",
     "output_type": "stream",
     "text": [
      "(100, 400)\n",
      "[[ 0.  0.  0. ...,  0.  0.  0.]\n",
      " [ 0.  0.  0. ...,  0.  0.  0.]\n",
      " [ 0.  0.  0. ...,  0.  0.  0.]\n",
      " ..., \n",
      " [ 0.  0.  0. ...,  0.  0.  0.]\n",
      " [ 0.  0.  0. ...,  0.  0.  0.]\n",
      " [ 0.  0.  0. ...,  0.  0.  0.]]\n"
     ]
    }
   ],
   "source": [
    "# Randomly select 100 data points to display\n",
    "rand_indices = np.random.permutation(m);\n",
    "sel = X[rand_indices[0:100], :];\n",
    "print(sel.shape)\n",
    "print(sel)"
   ]
  },
  {
   "cell_type": "code",
   "execution_count": 13,
   "metadata": {
    "collapsed": true
   },
   "outputs": [],
   "source": [
    "def displayData(X):\n",
    "    #DISPLAYDATA Display 2D data in a nice grid\n",
    "    #   [h, display_array] = DISPLAYDATA(X, example_width) displays 2D data\n",
    "    #   stored in X in a nice grid. It returns the figure handle h and the \n",
    "    #   displayed array if requested.\n",
    "\n",
    "    # Set example_width automatically\n",
    "    example_width = np.int_(np.round(np.sqrt(np.shape(X)[1]),0));\n",
    "    \n",
    "    # Gray Image\n",
    "    #colormap(gray);\n",
    "\n",
    "    # Compute rows, cols\n",
    "    [m, n] = np.shape(X);\n",
    "    example_height = np.int_(np.round((n / example_width),0));\n",
    "    \n",
    "    # Compute number of items to display\n",
    "    display_rows = np.int_(np.floor(np.sqrt(m)));\n",
    "    display_cols = np.int_(np.ceil(m / display_rows));\n",
    "    \n",
    "    # Between images padding\n",
    "    pad = 1;\n",
    "    # Setup blank display\n",
    "    \n",
    "    display_array = - np.ones((np.int_(pad + display_rows * (example_height + pad)), \n",
    "                              np.int_(pad + display_cols * (example_width + pad))));\n",
    "\n",
    "    print('display_rows: {0}, display_cols: {1}, example_height: {2}, example_width: {3}'.format( \\\n",
    "                            display_rows, display_cols, example_height, example_width))\n",
    "    print('display shape: {0}'.format(display_array.shape));\n",
    "          \n",
    "    # Copy each example into a patch on the display array\n",
    "    curr_ex = 0;\n",
    "    for j in np.arange(display_rows):\n",
    "        for i in np.arange(display_cols):\n",
    "            if curr_ex >= m:\n",
    "                break;\n",
    "            # Get the max value of the patch\n",
    "            max_val = np.max(np.abs(X[curr_ex, :]));\n",
    "            # Copy the patch\n",
    "            display_array[np.ix_(np.int_(pad + j * (example_height + pad) + np.arange(example_height)), \n",
    "                          np.int_(pad + i * (example_width + pad) + np.arange(example_width)))] = \\\n",
    "                        np.flip(np.reshape(X[curr_ex, :], (example_height, example_width)).T, axis = 0)  / max_val ;\n",
    "            \n",
    "            curr_ex = curr_ex + 1;\n",
    "\n",
    "        if curr_ex >= m:\n",
    "            break; \n",
    "\n",
    "    # Display Image\n",
    "    plt.imshow(display_array, origin=[-1,1], cmap=\"Blues\");\n",
    "    # Do not show axis\n",
    "    plt.axis('off');\n",
    "    plt.show();\n",
    "    \n",
    "    return display_array;\n"
   ]
  },
  {
   "cell_type": "code",
   "execution_count": 14,
   "metadata": {},
   "outputs": [
    {
     "name": "stdout",
     "output_type": "stream",
     "text": [
      "display_rows: 10, display_cols: 10, example_height: 20, example_width: 20\n",
      "display shape: (211, 211)\n"
     ]
    },
    {
     "data": {
      "image/png": "[encoded data removed]",
      "text/plain": [
       "<matplotlib.figure.Figure at 0x7f5fd6a97860>"
      ]
     },
     "metadata": {},
     "output_type": "display_data"
    }
   ],
   "source": [
    "displayData(sel);"
   ]
  },
  {
   "cell_type": "markdown",
   "metadata": {},
   "source": [
    "#### =============== Part 2: Loading Parameters ================"
   ]
  },
  {
   "cell_type": "code",
   "execution_count": 15,
   "metadata": {},
   "outputs": [
    {
     "name": "stdout",
     "output_type": "stream",
     "text": [
      "Loading Saved Neural Network Parameters ...\n",
      "   ...Done.\n",
      "\n",
      "Contents of mat file...\n",
      "dict_keys(['__header__', '__version__', '__globals__', 'Theta1', 'Theta2'])\n",
      "\n",
      "Dimensions\n",
      "theta1: (25, 401),   theta2: (10, 26)\n",
      "nn_params: (10285,)\n"
     ]
    }
   ],
   "source": [
    "# In this part of the exercise, we load some pre-initialized \n",
    "# neural network parameters.\n",
    "\n",
    "print('Loading Saved Neural Network Parameters ...')\n",
    "\n",
    "# Load the weights into variables Theta1 and Theta2\n",
    "mat_contents = sio.loadmat('ex4weights.mat');\n",
    "print('   ...Done.')\n",
    "\n",
    "print('\\nContents of mat file...')\n",
    "print(mat_contents.keys())\n",
    "theta1 = mat_contents['Theta1'];\n",
    "theta2 = mat_contents['Theta2'];\n",
    "\n",
    "print('\\nDimensions')\n",
    "print('theta1: {0},   theta2: {1}'.format(theta1.shape, theta2.shape))\n",
    "   \n",
    "# Unroll parameters \n",
    "# note: np.r_ translates slice objects to concatenation along the first axis.\n",
    "nn_params = np.r_[theta1.ravel(), theta2.ravel()] \n",
    "print('nn_params:', nn_params.shape)"
   ]
  },
  {
   "cell_type": "markdown",
   "metadata": {},
   "source": [
    "#### =============== Part 3: Compute Cost (Feedforward) ================"
   ]
  },
  {
   "cell_type": "code",
   "execution_count": 16,
   "metadata": {
    "collapsed": true
   },
   "outputs": [],
   "source": [
    "def sigmoid(z):\n",
    "    #SIGMOID Compute sigmoid function\n",
    "    #   g = SIGMOID(z) computes the sigmoid of z.\n",
    "    g = 1 / (1 + np.exp(-z));\n",
    "    return g"
   ]
  },
  {
   "cell_type": "code",
   "execution_count": 17,
   "metadata": {
    "collapsed": true
   },
   "outputs": [],
   "source": [
    "def nnCostFunction(nn_params, input_layer_size, hidden_layer_size, \n",
    "                       num_labels, X, y, lambda_ex):\n",
    "    #NNCOSTFUNCTION Implements the neural network cost function for a two layer\n",
    "    #neural network which performs classification\n",
    "    #   [J grad] = NNCOSTFUNCTON(nn_params, hidden_layer_size, num_labels, ...\n",
    "    #   X, y, lambda) computes the cost and gradient of the neural network. The\n",
    "    #   parameters for the neural network are \"unrolled\" into the vector\n",
    "    #   nn_params and need to be converted back into the weight matrices. \n",
    "    # \n",
    "    #   The returned parameter grad should be a \"unrolled\" vector of the\n",
    "    #   partial derivatives of the neural network.\n",
    "    #\n",
    "\n",
    "    # Reshape nn_params back into the parameters Theta1 and Theta2, the weight matrices\n",
    "    # for our 2 layer neural network\n",
    "    theta1_cf = np.reshape(nn_params[:(hidden_layer_size * (input_layer_size + 1))],\n",
    "                        (hidden_layer_size, (input_layer_size + 1))).copy();\n",
    "    \n",
    "    theta2_cf = np.reshape(nn_params[(hidden_layer_size * (input_layer_size + 1)):],\n",
    "                        (num_labels, (hidden_layer_size + 1))).copy();\n",
    "    \n",
    "    # Setup some useful variables\n",
    "    [m, n] = X.shape;\n",
    "\n",
    "    # You need to return the following variables correctly \n",
    "    J = 0;\n",
    "    theta1_grad = np.zeros(theta1_cf.shape);\n",
    "    theta2_grad = np.zeros(theta2_cf.shape);\n",
    "\n",
    "    # ====================== YOUR CODE HERE ======================\n",
    "    # Instructions: You should complete the code by working through the\n",
    "    #               following parts.\n",
    "    #\n",
    "    # Part 1: Feedforward the neural network and return the cost in the\n",
    "    #         variable J. After implementing Part 1, you can verify that your\n",
    "    #         cost function computation is correct by verifying the cost\n",
    "    #         computed in ex4.m\n",
    "    #\n",
    "\n",
    "    # convert y vector to matrix of 0s and 1s\n",
    "    y_matrix = np.eye(num_labels)[y.flatten()-1,:]\n",
    "\n",
    "    a1 = np.concatenate((np.ones((m,1)), X), axis=1);\n",
    "    z2 = a1.dot(theta1_cf.T);\n",
    "    a2 = sigmoid(z2);\n",
    "    a2 = np.concatenate((np.ones((m,1)), a2), axis=1);\n",
    "    z3 = a2.dot(theta2_cf.T);\n",
    "    a3 = sigmoid(z3);\n",
    "   \n",
    "    cost = -1 * (1 / m) * np.sum(np.log(a3) * (y_matrix) + np.log(1 - a3) * (1 - y_matrix));\n",
    "    costReg = (lambda_ex/(2*m))*(np.sum((theta1_cf[:,1:]**2)) + np.sum((theta2_cf[:,1:]**2)))\n",
    "    J = cost + costReg\n",
    "    \n",
    "    # Part 2: Implement the backpropagation algorithm to compute the gradients\n",
    "    #         Theta1_grad and Theta2_grad. You should return the partial derivatives of\n",
    "    #         the cost function with respect to Theta1 and Theta2 in Theta1_grad and\n",
    "    #         Theta2_grad, respectively. After implementing Part 2, you can check\n",
    "    #         that your implementation is correct by running checkNNGradients\n",
    "    #\n",
    "    #         Note: The vector y passed into the function is a vector of labels\n",
    "    #               containing values from 1..K. You need to map this vector into a \n",
    "    #               binary vector of 1's and 0's to be used with the neural network\n",
    "    #               cost function.\n",
    "    #\n",
    "    #         Hint: We recommend implementing backpropagation using a for-loop\n",
    "    #               over the training examples if you are implementing it for the \n",
    "    #               first time.\n",
    "    #\n",
    "\n",
    "    d3 = a3 - y_matrix;\n",
    "    d2 = d3.dot(theta2_cf) * a2 * (1 - a2);\n",
    "    d2 = d2[:,1:];\n",
    "\n",
    "    delta1 = d2.T.dot(a1);\n",
    "    delta2 = d3.T.dot(a2);\n",
    "\n",
    "    theta1_grad = delta1 / m;\n",
    "    theta2_grad = delta2 / m;\n",
    "\n",
    "    # Part 3: Implement regularization with the cost function and gradients.\n",
    "    #\n",
    "    #         Hint: You can implement this around the code for\n",
    "    #               backpropagation. That is, you can compute the gradients for\n",
    "    #               the regularization separately and then add them to Theta1_grad\n",
    "    #               and Theta2_grad from Part 2.\n",
    "    #\n",
    "\n",
    "    theta1_cf[:, 0] = 0;\n",
    "    theta2_cf[:, 0] = 0;\n",
    "\n",
    "    theta1_grad = theta1_grad + theta1_cf * (lambda_ex / m);\n",
    "    theta2_grad = theta2_grad + theta2_cf * (lambda_ex / m);\n",
    "\n",
    "    # Unroll gradients\n",
    "    grad = np.r_[theta1_grad.ravel(), theta2_grad.ravel()] \n",
    "    \n",
    "    return J, grad"
   ]
  },
  {
   "cell_type": "code",
   "execution_count": 18,
   "metadata": {
    "scrolled": true
   },
   "outputs": [
    {
     "name": "stdout",
     "output_type": "stream",
     "text": [
      "\n",
      "Feedforward Using Neural Network ...\n",
      "\n",
      "Cost at parameters (loaded from ex4weights): 0.287629 (this value should be about 0.287629)\n",
      "\n"
     ]
    }
   ],
   "source": [
    "#  To the neural network, you should first start by implementing the\n",
    "#  feedforward part of the neural network that returns the cost only. You\n",
    "#  should complete the code in nnCostFunction.m to return cost. After\n",
    "#  implementing the feedforward to compute the cost, you can verify that\n",
    "#  your implementation is correct by verifying that you get the same cost\n",
    "#  as us for the fixed debugging parameters.\n",
    "#\n",
    "#  We suggest implementing the feedforward cost *without* regularization\n",
    "#  first so that it will be easier for you to debug. Later, in part 4, you\n",
    "#  will get to implement the regularized cost.\n",
    "#\n",
    "print('\\nFeedforward Using Neural Network ...\\n')\n",
    "\n",
    "# Weight regularization parameter (we set this to 0 here).\n",
    "lambda_ex = 0;\n",
    "\n",
    "[J, grad] = nnCostFunction(nn_params, input_layer_size, hidden_layer_size, \n",
    "                   num_labels, X, y, lambda_ex);\n",
    "\n",
    "print('Cost at parameters (loaded from ex4weights): {0:0.6f} (this value should be about 0.287629)\\n'.format(J));"
   ]
  },
  {
   "cell_type": "markdown",
   "metadata": {},
   "source": [
    "#### ============== Part 4: Implement Regularization ==============="
   ]
  },
  {
   "cell_type": "code",
   "execution_count": 19,
   "metadata": {},
   "outputs": [
    {
     "name": "stdout",
     "output_type": "stream",
     "text": [
      "\n",
      "Checking Cost Function (w/ Regularization) ... \n",
      "\n",
      "Cost at parameters (loaded from ex4weights): 0.383770 (this value should be about 0.383770)\n",
      "\n"
     ]
    }
   ],
   "source": [
    "#  Once your cost function implementation is correct, you should now\n",
    "#  continue to implement the regularization with the cost.\n",
    "#\n",
    "print('\\nChecking Cost Function (w/ Regularization) ... \\n')\n",
    "\n",
    "# Weight regularization parameter (we set this to 1 here).\n",
    "lambda_ex = 1;\n",
    "\n",
    "[J, grad] = nnCostFunction(nn_params, input_layer_size, hidden_layer_size,\n",
    "                   num_labels, X, y, lambda_ex);\n",
    "\n",
    "print('Cost at parameters (loaded from ex4weights): {0:0.6f} (this value should be about 0.383770)\\n'.format(J));\n"
   ]
  },
  {
   "cell_type": "markdown",
   "metadata": {},
   "source": [
    "#### =============== Part 5: Sigmoid Gradient  ================"
   ]
  },
  {
   "cell_type": "code",
   "execution_count": 20,
   "metadata": {
    "collapsed": true
   },
   "outputs": [],
   "source": [
    "def sigmoidGradient(z):\n",
    "    #SIGMOIDGRADIENT returns the gradient of the sigmoid function\n",
    "    #evaluated at z\n",
    "    #   g = SIGMOIDGRADIENT(z) computes the gradient of the sigmoid function\n",
    "    #   evaluated at z. This should work regardless if z is a matrix or a\n",
    "    #   vector. In particular, if z is a vector or matrix, you should return\n",
    "    #   the gradient for each element.\n",
    "\n",
    "    g = np.zeros(z.shape);\n",
    "\n",
    "    # ====================== YOUR CODE HERE ======================\n",
    "    # Instructions: Compute the gradient of the sigmoid function evaluated at\n",
    "    #               each value of z (z can be a matrix, vector or scalar).\n",
    "\n",
    "    g = sigmoid(z)*(1 - sigmoid(z));\n",
    "    return g;"
   ]
  },
  {
   "cell_type": "code",
   "execution_count": 21,
   "metadata": {},
   "outputs": [
    {
     "name": "stdout",
     "output_type": "stream",
     "text": [
      "\n",
      "Evaluating sigmoid gradient...\n",
      "\n",
      "Sigmoid gradient evaluated at [-1, -0.5, 0, 0.5, 1]:\n",
      "  \n",
      "0.196612 \n",
      "0.235004 \n",
      "0.250000 \n",
      "0.235004 \n",
      "0.196612 \n"
     ]
    }
   ],
   "source": [
    "#  Before you start implementing the neural network, you will first\n",
    "#  implement the gradient for the sigmoid function. You should complete the\n",
    "#  code in the sigmoidGradient.m file.\n",
    "#\n",
    "\n",
    "print('\\nEvaluating sigmoid gradient...\\n')\n",
    "g = sigmoidGradient(np.array([-1, -0.5, 0, 0.5, 1]));\n",
    "print('Sigmoid gradient evaluated at [-1, -0.5, 0, 0.5, 1]:\\n  ');\n",
    "for i in np.arange(g.size):\n",
    "    print('{0:0.6f} '.format(g.ravel()[i]));"
   ]
  },
  {
   "cell_type": "markdown",
   "metadata": {},
   "source": [
    "#### =============== Part 6: Initializing Pameters ================"
   ]
  },
  {
   "cell_type": "code",
   "execution_count": 22,
   "metadata": {
    "collapsed": true
   },
   "outputs": [],
   "source": [
    "def randInitializeWeights(L_in, L_out):\n",
    "    #RANDINITIALIZEWEIGHTS Randomly initialize the weights of a layer with L_in\n",
    "    #incoming connections and L_out outgoing connections\n",
    "    #   W = RANDINITIALIZEWEIGHTS(L_in, L_out) randomly initializes the weights \n",
    "    #   of a layer with L_in incoming connections and L_out outgoing \n",
    "    #   connections. \n",
    "    #\n",
    "    #   Note that W should be set to a matrix of size(L_out, 1 + L_in) as\n",
    "    #   the first column of W handles the \"bias\" terms\n",
    "    #\n",
    "\n",
    "    # You need to return the following variables correctly \n",
    "    W = np.zeros((L_out, 1 + L_in));\n",
    "\n",
    "    # ====================== YOUR CODE HERE ======================\n",
    "    # Instructions: Initialize W randomly so that we break the symmetry while\n",
    "    #               training the neural network.\n",
    "    #\n",
    "    # Note: The first column of W corresponds to the parameters for the bias unit\n",
    "    #\n",
    "\n",
    "    epsilon_init = 0.12;\n",
    "    W = np.random.random((L_out, 1 + L_in)) * 2 * epsilon_init - epsilon_init;\n",
    "    return W"
   ]
  },
  {
   "cell_type": "code",
   "execution_count": 23,
   "metadata": {},
   "outputs": [
    {
     "name": "stdout",
     "output_type": "stream",
     "text": [
      "\n",
      "Initializing Neural Network Parameters ...\n",
      "\n",
      "  ...Done.\n"
     ]
    }
   ],
   "source": [
    "#  In this part of the exercise, you will be starting to implment a two\n",
    "#  layer neural network that classifies digits. You will start by\n",
    "#  implementing a function to initialize the weights of the neural network\n",
    "#  (randInitializeWeights.m)\n",
    "\n",
    "print('\\nInitializing Neural Network Parameters ...\\n')\n",
    "\n",
    "initial_Theta1 = randInitializeWeights(input_layer_size, hidden_layer_size);\n",
    "initial_Theta2 = randInitializeWeights(hidden_layer_size, num_labels);\n",
    "\n",
    "# Unroll parameters\n",
    "initial_nn_params = np.r_[initial_Theta1.ravel(), initial_Theta2.ravel()] \n",
    "print('  ...Done.')"
   ]
  },
  {
   "cell_type": "markdown",
   "metadata": {},
   "source": [
    "#### ============== Part 7: Implement Backpropagation ==============="
   ]
  },
  {
   "cell_type": "code",
   "execution_count": 24,
   "metadata": {
    "collapsed": true
   },
   "outputs": [],
   "source": [
    "def debugInitializeWeights(fan_out, fan_in):\n",
    "    #DEBUGINITIALIZEWEIGHTS Initialize the weights of a layer with fan_in\n",
    "    #incoming connections and fan_out outgoing connections using a fixed\n",
    "    #strategy, this will help you later in debugging\n",
    "    #   W = DEBUGINITIALIZEWEIGHTS(fan_in, fan_out) initializes the weights \n",
    "    #   of a layer with fan_in incoming connections and fan_out outgoing \n",
    "    #   connections using a fix set of values\n",
    "    #\n",
    "    #   Note that W should be set to a matrix of size(1 + fan_in, fan_out) as\n",
    "    #   the first row of W handles the \"bias\" terms\n",
    "    #\n",
    "\n",
    "    # Set W to zeros\n",
    "    W = np.zeros((fan_out, 1 + fan_in));\n",
    "\n",
    "    # Initialize W using \"sin\", this ensures that W is always of the same\n",
    "    # values and will be useful for debugging\n",
    "    W = np.reshape(np.sin(np.arange(np.size(W))), np.shape(W)) / 10;\n",
    "\n",
    "    return W;"
   ]
  },
  {
   "cell_type": "code",
   "execution_count": 25,
   "metadata": {
    "collapsed": true
   },
   "outputs": [],
   "source": [
    "def computeNumericalGradient(J, theta):\n",
    "    #COMPUTENUMERICALGRADIENT Computes the gradient using \"finite differences\"\n",
    "    #and gives us a numerical estimate of the gradient.\n",
    "    #   numgrad = COMPUTENUMERICALGRADIENT(J, theta) computes the numerical\n",
    "    #   gradient of the function J around theta. Calling y = J(theta) should\n",
    "    #   return the function value at theta.\n",
    "\n",
    "    # Notes: The following code implements numerical gradient checking, and \n",
    "    #        returns the numerical gradient.It sets numgrad(i) to (a numerical \n",
    "    #        approximation of) the partial derivative of J with respect to the \n",
    "    #        i-th input argument, evaluated at theta. (i.e., numgrad(i) should \n",
    "    #        be the (approximately) the partial derivative of J with respect \n",
    "    #        to theta(i).)\n",
    "    #                \n",
    "    \n",
    "    numgrad = np.zeros(np.size(theta));\n",
    "    perturb = np.zeros(np.size(theta));\n",
    "    e = 1e-4;\n",
    "    for p in np.arange(np.size(theta)):\n",
    "        # Set perturbation vector\n",
    "        perturb[p] = e;\n",
    "        [loss1, grad_dummy1] = J(theta - perturb);\n",
    "        [loss2, grad_dummy2] = J(theta + perturb);\n",
    "        # Compute Numerical Gradient\n",
    "        numgrad[p] = (loss2 - loss1) / (2*e);\n",
    "        perturb[p] = 0;\n",
    "\n",
    "    return numgrad;"
   ]
  },
  {
   "cell_type": "code",
   "execution_count": 26,
   "metadata": {
    "collapsed": true
   },
   "outputs": [],
   "source": [
    "def checkNNGradients(lambda_ex):\n",
    "    #CHECKNNGRADIENTS Creates a small neural network to check the\n",
    "    #backpropagation gradients\n",
    "    #   CHECKNNGRADIENTS(lambda) Creates a small neural network to check the\n",
    "    #   backpropagation gradients, it will output the analytical gradients\n",
    "    #   produced by your backprop code and the numerical gradients (computed\n",
    "    #   using computeNumericalGradient). These two gradient computations should\n",
    "    #   result in very similar values.\n",
    "    \n",
    "    input_layer_size = 3;\n",
    "    hidden_layer_size = 5;\n",
    "    num_labels = 3;\n",
    "    m = 5;\n",
    "\n",
    "    # We generate some 'random' test data\n",
    "    theta1_cg = debugInitializeWeights(hidden_layer_size, input_layer_size);\n",
    "    theta2_cg = debugInitializeWeights(num_labels, hidden_layer_size);\n",
    "\n",
    "    # Reusing debugInitializeWeights to generate X\n",
    "    X  = debugInitializeWeights(m, input_layer_size - 1);\n",
    "    y  = (1 + np.mod(np.arange(m), num_labels)).reshape(-1,1);\n",
    "\n",
    "    # Unroll parameters\n",
    "    nn_params = np.r_[theta1_cg.ravel(), theta2_cg.ravel()];\n",
    "\n",
    "    print('Matrix dimension check:')\n",
    "    print('theta1_cg.shape:', theta1_cg.shape)\n",
    "    print('theta2_cg.shape:', theta2_cg.shape)\n",
    "    print('X.shape:', X.shape)\n",
    "    print('y.shape:', y.shape)\n",
    "    print('nn_params.shape:', nn_params.shape)\n",
    "    print('\\n')\n",
    "    \n",
    "    # Short hand for cost function\n",
    "    def costFunc(p):\n",
    "        return nnCostFunction(p, input_layer_size, hidden_layer_size, \n",
    "                                   num_labels, X, y, lambda_ex);\n",
    "\n",
    "    [cost, grad] = costFunc(nn_params);\n",
    "    numgrad = computeNumericalGradient(costFunc, nn_params);\n",
    "\n",
    "    # Visually examine the two gradient computations.  The two columns\n",
    "    # you get should be very similar.\n",
    "    for i in np.arange(np.size(numgrad)):\n",
    "        print('{0:{w}.{p}f}\\t{1:{w}.{p}f}'.format(numgrad[i], grad[i], w=10, p=6));\n",
    "    \n",
    "    print('\\nThe above two columns you get should be very similar.\\n' + \n",
    "             '(Left-Your Numerical Gradient, Right-Analytical Gradient)\\n\\n');\n",
    "\n",
    "    # Evaluate the norm of the difference between two solutions.  \n",
    "    # If you have a correct implementation, and assuming you used EPSILON = 0.0001 \n",
    "    # in computeNumericalGradient.m, then diff below should be less than 1e-9\n",
    "    diff = np.linalg.norm(numgrad-grad)/np.linalg.norm(numgrad+grad);\n",
    "\n",
    "    print('If your backpropagation implementation is correct, then \\n' +\n",
    "             'the relative difference will be small (less than 1e-9). \\n' +\n",
    "             '\\nRelative Difference: {0}\\n'.format(diff));\n"
   ]
  },
  {
   "cell_type": "code",
   "execution_count": 27,
   "metadata": {},
   "outputs": [
    {
     "name": "stdout",
     "output_type": "stream",
     "text": [
      "\n",
      "Checking Backpropagation... \n",
      "\n",
      "Matrix dimension check:\n",
      "theta1_cg.shape: (5, 4)\n",
      "theta2_cg.shape: (3, 6)\n",
      "X.shape: (5, 3)\n",
      "y.shape: (5, 1)\n",
      "nn_params.shape: (38,)\n",
      "\n",
      "\n",
      "  0.006907\t  0.006907\n",
      " -0.000111\t -0.000111\n",
      "  0.000144\t  0.000144\n",
      "  0.000266\t  0.000266\n",
      "  0.012125\t  0.012125\n",
      " -0.000043\t -0.000043\n",
      "  0.000152\t  0.000152\n",
      "  0.000207\t  0.000207\n",
      "  0.006198\t  0.006198\n",
      "  0.000064\t  0.000064\n",
      "  0.000020\t  0.000020\n",
      " -0.000042\t -0.000042\n",
      " -0.005424\t -0.005424\n",
      "  0.000113\t  0.000113\n",
      " -0.000130\t -0.000130\n",
      " -0.000253\t -0.000253\n",
      " -0.012076\t -0.012076\n",
      "  0.000057\t  0.000057\n",
      " -0.000161\t -0.000161\n",
      " -0.000231\t -0.000231\n",
      "  0.102286\t  0.102286\n",
      "  0.050959\t  0.050959\n",
      "  0.049651\t  0.049651\n",
      "  0.053277\t  0.053277\n",
      "  0.049845\t  0.049845\n",
      "  0.050705\t  0.050705\n",
      "  0.099593\t  0.099593\n",
      "  0.050232\t  0.050232\n",
      "  0.047839\t  0.047839\n",
      "  0.051921\t  0.051921\n",
      "  0.048977\t  0.048977\n",
      "  0.048743\t  0.048743\n",
      "  0.296932\t  0.296932\n",
      "  0.148333\t  0.148333\n",
      "  0.142656\t  0.142656\n",
      "  0.156193\t  0.156193\n",
      "  0.144171\t  0.144171\n",
      "  0.146350\t  0.146350\n",
      "\n",
      "The above two columns you get should be very similar.\n",
      "(Left-Your Numerical Gradient, Right-Analytical Gradient)\n",
      "\n",
      "\n",
      "If your backpropagation implementation is correct, then \n",
      "the relative difference will be small (less than 1e-9). \n",
      "\n",
      "Relative Difference: 2.296917084825452e-11\n",
      "\n"
     ]
    }
   ],
   "source": [
    "#  Once your cost matches up with ours, you should proceed to implement the\n",
    "#  backpropagation algorithm for the neural network. You should add to the\n",
    "#  code you've written in nnCostFunction.m to return the partial\n",
    "#  derivatives of the parameters.\n",
    "#\n",
    "print('\\nChecking Backpropagation... \\n');\n",
    "\n",
    "#  Check gradients by running checkNNGradients\n",
    "checkNNGradients(0);"
   ]
  },
  {
   "cell_type": "markdown",
   "metadata": {},
   "source": [
    "#### ============== Part 8: Implement Regularization ==============="
   ]
  },
  {
   "cell_type": "code",
   "execution_count": 28,
   "metadata": {},
   "outputs": [
    {
     "name": "stdout",
     "output_type": "stream",
     "text": [
      "\n",
      "Checking Backpropagation (w/ Regularization) ... \n",
      "\n",
      "Matrix dimension check:\n",
      "theta1_cg.shape: (5, 4)\n",
      "theta2_cg.shape: (3, 6)\n",
      "X.shape: (5, 3)\n",
      "y.shape: (5, 1)\n",
      "nn_params.shape: (38,)\n",
      "\n",
      "\n",
      "  0.006907\t  0.006907\n",
      "  0.050377\t  0.050377\n",
      "  0.054702\t  0.054702\n",
      "  0.008734\t  0.008734\n",
      "  0.012125\t  0.012125\n",
      " -0.057578\t -0.057578\n",
      " -0.016613\t -0.016613\n",
      "  0.039626\t  0.039626\n",
      "  0.006198\t  0.006198\n",
      "  0.024791\t  0.024791\n",
      " -0.032621\t -0.032621\n",
      " -0.060042\t -0.060042\n",
      " -0.005424\t -0.005424\n",
      "  0.025323\t  0.025323\n",
      "  0.059306\t  0.059306\n",
      "  0.038764\t  0.038764\n",
      " -0.012076\t -0.012076\n",
      " -0.057627\t -0.057627\n",
      " -0.045220\t -0.045220\n",
      "  0.008762\t  0.008762\n",
      "  0.102286\t  0.102286\n",
      "  0.101448\t  0.101448\n",
      "  0.104208\t  0.104208\n",
      "  0.061744\t  0.061744\n",
      "  0.004437\t  0.004437\n",
      " -0.006830\t -0.006830\n",
      "  0.099593\t  0.099593\n",
      "  0.089651\t  0.089651\n",
      "  0.107200\t  0.107200\n",
      "  0.076648\t  0.076648\n",
      "  0.016335\t  0.016335\n",
      " -0.011256\t -0.011256\n",
      "  0.296932\t  0.296932\n",
      "  0.173543\t  0.173543\n",
      "  0.202092\t  0.202092\n",
      "  0.195210\t  0.195210\n",
      "  0.126897\t  0.126897\n",
      "  0.088666\t  0.088666\n",
      "\n",
      "The above two columns you get should be very similar.\n",
      "(Left-Your Numerical Gradient, Right-Analytical Gradient)\n",
      "\n",
      "\n",
      "If your backpropagation implementation is correct, then \n",
      "the relative difference will be small (less than 1e-9). \n",
      "\n",
      "Relative Difference: 2.0340794430159843e-11\n",
      "\n",
      "\n",
      "\n",
      "Cost at (fixed) debugging parameters (w/ lambda = 3): 0.576051 \n",
      "(for lambda = 3, this value should be about 0.576051)\n",
      "\n",
      "\n"
     ]
    }
   ],
   "source": [
    "#  Once your backpropagation implementation is correct, you should now\n",
    "#  continue to implement the regularization with the cost and gradient.\n",
    "#\n",
    "\n",
    "print('\\nChecking Backpropagation (w/ Regularization) ... \\n')\n",
    "\n",
    "#  Check gradients by running checkNNGradients\n",
    "lambda_ex = 3;\n",
    "\n",
    "checkNNGradients(lambda_ex);\n",
    "\n",
    "# Also output the costFunction debugging values\n",
    "[debug_J, debug_grad]  = nnCostFunction(nn_params, input_layer_size,\n",
    "                          hidden_layer_size, num_labels, X, y, lambda_ex);\n",
    "\n",
    "print('\\n\\nCost at (fixed) debugging parameters (w/ lambda = {0}): {1:0.6f} \\n(for lambda = 3, this value should be about 0.576051)\\n\\n'.format(lambda_ex, debug_J));\n"
   ]
  },
  {
   "cell_type": "markdown",
   "metadata": {},
   "source": [
    "#### ================== Part 8: Training NN ==================="
   ]
  },
  {
   "cell_type": "code",
   "execution_count": 29,
   "metadata": {},
   "outputs": [
    {
     "name": "stdout",
     "output_type": "stream",
     "text": [
      "\n",
      "Training Neural Network... \n",
      "\n"
     ]
    }
   ],
   "source": [
    "#  You have now implemented all the code necessary to train a neural \n",
    "#  network. To train your neural network, we will now use \"fmincg\", which\n",
    "#  is a function which works similarly to \"fminunc\". Recall that these\n",
    "#  advanced optimizers are able to train our cost functions efficiently as\n",
    "#  long as we provide them with the gradient computations.\n",
    "#\n",
    "print('\\nTraining Neural Network... \\n')\n",
    "\n",
    "#  After you have completed the assignment, change the MaxIter to a larger\n",
    "#  value to see how more training helps.\n",
    "\n",
    "#  You should also try different values of lambda\n",
    "lambda_ex = 3;\n",
    "\n",
    "# Create \"short hand\" for the cost function to be minimized\n",
    "def costFunc(p):\n",
    "    return nnCostFunction(p, input_layer_size, hidden_layer_size, \n",
    "                                   num_labels, X, y, lambda_ex);\n",
    "\n",
    "# Now, costFunction is a function that takes in only one argument (the\n",
    "# neural network parameters)\n",
    "Result = minimize(fun = costFunc, \n",
    "                         x0 = initial_nn_params, \n",
    "                         args = (),\n",
    "                         method = 'L-BFGS-B',\n",
    "                         jac = True, # set to true as costFunction returns both the cost and gradient\n",
    "                         options={'disp': True, \n",
    "                                  'gtol': 1e-05, \n",
    "                                  'maxiter': 200});\n",
    "\n",
    "nn_params = Result.x;\n",
    "cost = Result.fun;\n",
    "\n",
    "# Obtain Theta1 and Theta2 back from nn_params\n",
    "theta1_nn = np.reshape(nn_params[:(hidden_layer_size * (input_layer_size + 1))],\n",
    "                    (hidden_layer_size, (input_layer_size + 1))).copy();\n",
    "\n",
    "theta2_nn = np.reshape(nn_params[(hidden_layer_size * (input_layer_size + 1)):],\n",
    "                    (num_labels, (hidden_layer_size + 1))).copy();"
   ]
  },
  {
   "cell_type": "markdown",
   "metadata": {},
   "source": [
    "#### ================ Part 9: Visualize Weights ================="
   ]
  },
  {
   "cell_type": "code",
   "execution_count": 30,
   "metadata": {},
   "outputs": [
    {
     "name": "stdout",
     "output_type": "stream",
     "text": [
      "\n",
      "Visualizing Neural Network... \n",
      "\n",
      "display_rows: 5, display_cols: 5, example_height: 20, example_width: 20\n",
      "display shape: (106, 106)\n"
     ]
    },
    {
     "data": {
      "image/png": "[encoded data removed]",
      "text/plain": [
       "<matplotlib.figure.Figure at 0x7f5fba919438>"
      ]
     },
     "metadata": {},
     "output_type": "display_data"
    }
   ],
   "source": [
    "#  You can now \"visualize\" what the neural network is learning by \n",
    "#  displaying the hidden units to see what features they are capturing in \n",
    "#  the data.\n",
    "\n",
    "print('\\nVisualizing Neural Network... \\n')\n",
    "\n",
    "displayData(theta1_nn[:, 1:]);"
   ]
  },
  {
   "cell_type": "markdown",
   "metadata": {},
   "source": [
    "#### ================ Part 10: Implement Predict ================="
   ]
  },
  {
   "cell_type": "code",
   "execution_count": 35,
   "metadata": {},
   "outputs": [],
   "source": [
    "def predict(theta1, theta2, X):\n",
    "    #PREDICT Predict the label of an input given a trained neural network\n",
    "    #   p = PREDICT(Theta1, Theta2, X) outputs the predicted label of X given the\n",
    "    #   trained weights of a neural network (Theta1, Theta2)\n",
    "\n",
    "    # Useful values\n",
    "    m = np.shape(X)[0];\n",
    "    num_labels = np.size(theta2);\n",
    "\n",
    "    # You need to return the following variables correctly \n",
    "    p = np.zeros((np.shape(X)[0],1)).reshape(-1,1);\n",
    "\n",
    "    h1 = sigmoid(np.concatenate((np.ones((m,1)), X), axis=1).dot(theta1.T));\n",
    "    h2 = sigmoid(np.concatenate((np.ones((m,1)), h1), axis=1).dot(theta2.T));\n",
    "    p = (np.argmax(h2, axis=1)+1).reshape(-1,1);\n",
    "    return p;"
   ]
  },
  {
   "cell_type": "code",
   "execution_count": 36,
   "metadata": {},
   "outputs": [
    {
     "name": "stdout",
     "output_type": "stream",
     "text": [
      "\n",
      "Training Set Accuracy: 97.5\n",
      "\n"
     ]
    }
   ],
   "source": [
    "#  After training the neural network, we would like to use it to predict\n",
    "#  the labels. You will now implement the \"predict\" function to use the\n",
    "#  neural network to predict the labels of the training set. This lets\n",
    "#  you compute the training set accuracy.\n",
    "\n",
    "pred = predict(theta1_nn, theta2_nn, X);\n",
    "\n",
    "print('\\nTraining Set Accuracy: {0}\\n'.format(np.mean(pred == y) * 100));"
   ]
  },
  {
   "cell_type": "code",
   "execution_count": 55,
   "metadata": {},
   "outputs": [
    {
     "name": "stdout",
     "output_type": "stream",
     "text": [
      "Displaying Example Image: 3862\n",
      "\n",
      "display_rows: 1, display_cols: 1, example_height: 20, example_width: 20\n",
      "display shape: (22, 22)\n"
     ]
    },
    {
     "data": {
      "image/png": "[encoded data removed]",
      "text/plain": [
       "<matplotlib.figure.Figure at 0x7f5fb6bab438>"
      ]
     },
     "metadata": {},
     "output_type": "display_data"
    },
    {
     "name": "stdout",
     "output_type": "stream",
     "text": [
      "Neural Network Prediction: 7 (digit 7)\n",
      "\n"
     ]
    }
   ],
   "source": [
    "#  To give you an idea of the network's output, you can also run\n",
    "#  through the examples one at the a time to see what it is predicting.\n",
    "\n",
    "#  Get random image row to display\n",
    "i = np.random.randint(0, np.shape(X)[0]-1)\n",
    "\n",
    "# Display\n",
    "print('Displaying Example Image: {0}\\n'.format(i));\n",
    "displayData(X[i, :].reshape(1,-1));\n",
    "\n",
    "pred = predict(theta1_nn, theta2_nn, X[i, :].reshape(1,-1));\n",
    "print('Neural Network Prediction: {0} (digit {1})\\n'.format(pred[0][0], pred[0][0]%10));"
   ]
  },
  {
   "cell_type": "code",
   "execution_count": null,
   "metadata": {
    "collapsed": true
   },
   "outputs": [],
   "source": []
  }
 ],
 "metadata": {
  "kernelspec": {
   "display_name": "Python 3",
   "language": "python",
   "name": "python3"
  },
  "language_info": {
   "codemirror_mode": {
    "name": "ipython",
    "version": 3
   },
   "file_extension": ".py",
   "mimetype": "text/x-python",
   "name": "python",
   "nbconvert_exporter": "python",
   "pygments_lexer": "ipython3",
   "version": "3.6.1"
  }
 },
 "nbformat": 4,
 "nbformat_minor": 2
}
